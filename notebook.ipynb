{
 "cells": [
  {
   "cell_type": "markdown",
   "source": "# Data Sources & Info\n\nSeptember 18, 2021\n\nData collected via https://ucannualwage.ucop.edu/, via the command line:\n\n```sh\ncurl 'https://ucannualwage.ucop.edu/wage/search.action?_search=false&nd=1631391241333&rows=600000&page=1&sidx=EAW_LST_NAM&sord=asc&year=2010&location=ALL&firstname=&lastname=&title=&startSal=&endSal=' -o all-records-2010.json\n```\n\nfor each year 2010 through 2020.",
   "metadata": {
    "tags": [],
    "cell_id": "00001-672aab48-7204-43cb-9322-817960883fba",
    "deepnote_cell_type": "markdown"
   }
  },
  {
   "cell_type": "markdown",
   "source": "## Pay Descriptions:\n\n\n* Gross Pay -- base salary + additional funding (grants, etc)\n* Regular Pay -- base salary\n\n**In \"Regular Pay\" mode rows with Regular Pay == 0 are filtered.**\n",
   "metadata": {
    "tags": [],
    "cell_id": "00001-28af41de-86ea-486d-afd5-37cf01720ffa",
    "deepnote_cell_type": "markdown"
   }
  },
  {
   "cell_type": "code",
   "metadata": {
    "tags": [],
    "cell_id": "00001-81414c8d-1c08-40f3-b3dc-a36d1dab8198",
    "deepnote_to_be_reexecuted": false,
    "source_hash": "9b4cc72c",
    "execution_start": 1634635441292,
    "execution_millis": 3,
    "deepnote_cell_type": "code"
   },
   "source": "USE_GROSS_PAY = False",
   "execution_count": null,
   "outputs": []
  },
  {
   "cell_type": "code",
   "metadata": {
    "tags": [],
    "cell_id": "00001-526be35f-2968-4848-8de3-6a98ede6d0b9",
    "deepnote_to_be_reexecuted": false,
    "source_hash": "3dea17be",
    "execution_start": 1634635495681,
    "execution_millis": 2,
    "deepnote_cell_type": "code"
   },
   "source": "import pandas as pd\nimport numpy as np\nimport json\nimport re\nimport seaborn as sns\nimport sys\nfrom functools import reduce\n\n# import pandas_profiling as pp\n\nnp.set_printoptions(threshold=sys.maxsize)\nnp.set_printoptions(formatter={'int_kind': '{:,}'.format})\npd.options.display.float_format = '{:,}'.format",
   "execution_count": null,
   "outputs": []
  },
  {
   "cell_type": "code",
   "metadata": {
    "tags": [],
    "cell_id": "00002-c94a01c4-6ee6-4049-bf20-64691f206353",
    "deepnote_to_be_reexecuted": false,
    "source_hash": "f4a89657",
    "execution_start": 1634635446134,
    "execution_millis": 308,
    "deepnote_cell_type": "code"
   },
   "source": "TITLE_CODE_TYPE_SHEET = 'https://docs.google.com/spreadsheets/u/1/d/19MG1bKoQh6o6PAAYHAmdFyNpNspQ3tfQ6jpMbou_rw8/gviz/tq?tqx=out:csv&sheet=All%20UC%20Title%20Codes'\n\nTITLE_CODE_MAP = pd.read_csv(TITLE_CODE_TYPE_SHEET)\nprint(TITLE_CODE_MAP['Category'].unique())",
   "execution_count": null,
   "outputs": [
    {
     "name": "stdout",
     "text": "['Unit 18' 'Non-Senate' 'Teaching Track' 'Students' 'Student Reasearch'\n 'Student Instruction' 'Staff' 'Senate' 'Research Staff' 'Research'\n 'Med Center' 'Coach' 'Athletics' 'Admin Staff' 'Admin' 'Acad Staff' nan]\n",
     "output_type": "stream"
    }
   ]
  },
  {
   "cell_type": "code",
   "metadata": {
    "tags": [],
    "cell_id": "00000-63c0fd50-4f06-4bd8-85a1-c6d6af924652",
    "deepnote_to_be_reexecuted": false,
    "source_hash": "6b929670",
    "execution_start": 1634635448295,
    "execution_millis": 2,
    "deepnote_cell_type": "code"
   },
   "source": "# Files\nSTART_YEAR = 2010\nEND_YEAR = 2020\nGROSS_PAY = 'Gross Pay'\nREG_PAY = 'Regular Pay'\n\nPAY_COL = GROSS_PAY if USE_GROSS_PAY else REG_PAY\n\n# id is just the row number PER YEAR, but not super meaningful.\n# it is included in the JSON data.\nCOLUMNS = ['id', 'Year', 'Location', 'First Name', 'Last Name', 'Title', 'Gross Pay', 'Regular Pay', 'Overtime Pay', 'Other Pay']\n# LECT_PREFIX = 'LECT-' # Caputes 'LECT-AY', excludes LECT PSOE / LECT SOE\n\ndef safe_parse(value):\n    try:\n        return float(value)\n    except:\n        return value\n\nDATA_LOADED = {}\ndef load_data_for_year(year):\n    raw_data = open(f\"json/all-records-{year}.json\").read()\n    raw_data = raw_data.replace(\"'\", '\"')\n    raw_data = re.sub(r'[\\x00-\\x1f\\x7f-\\x9f]', '', raw_data)\n    parsed = json.loads(raw_data)\n    data = [ [ safe_parse(value) for value in row['cell'] ] for row in parsed['rows'] ]\n\n    df = pd.DataFrame(data, columns= COLUMNS)\n    if not USE_GROSS_PAY:\n        df = df.loc[ df[PAY_COL] > 0]\n    return df",
   "execution_count": null,
   "outputs": []
  },
  {
   "cell_type": "markdown",
   "source": "# Titles (Roughly) Grouped By Function / School",
   "metadata": {
    "tags": [],
    "is_collapsed": false,
    "cell_id": "00003-a02706a7-57b8-483c-bf60-728638f55a79",
    "deepnote_cell_type": "text-cell-h1"
   }
  },
  {
   "cell_type": "code",
   "metadata": {
    "tags": [],
    "cell_id": "00005-fd5e3ff7-1855-45bb-9a3b-bcac7eeafde0",
    "deepnote_to_be_reexecuted": false,
    "source_hash": "4e835d12",
    "execution_start": 1634635500429,
    "execution_millis": 2,
    "deepnote_cell_type": "code"
   },
   "source": "def filter_by_school(df, location):\n    return df.loc[ df['Location'] == location ]\n\nvalid_categories = TITLE_CODE_MAP['Category'].unique()\ndef titles_in_category(df, category):\n    if not category or category == 'All':\n        return df # just don't filter.\n    if type(category) != list:\n        category = [category]\n    for c in category:\n        assert c in valid_categories,  f'\"{c}\" is not a valid title code category'\n    titles = TITLE_CODE_MAP[TITLE_CODE_MAP['Category'].isin(category)]['Title']\n    return df.loc[ df['Title'].isin(titles) ]",
   "execution_count": null,
   "outputs": []
  },
  {
   "cell_type": "code",
   "metadata": {
    "tags": [],
    "cell_id": "00003-f3104aaa-28cb-44f4-b638-9a1cecc7a3aa",
    "deepnote_to_be_reexecuted": false,
    "source_hash": "7203808f",
    "execution_start": 1634635412431,
    "execution_millis": 12,
    "deepnote_cell_type": "code"
   },
   "source": "TITLE_CODE_MAP[TITLE_CODE_MAP['Category'] == 'Unit 18']['Title']",
   "execution_count": null,
   "outputs": [
    {
     "output_type": "execute_result",
     "execution_count": 6,
     "data": {
      "text/plain": "0         CONTINUING APPT-TEMP AUG\n1     CONTINUING APPT-TEMP AUG-1/9\n2       COORD FLD WK-AY-CONTINUING\n3                  COORD FLD WK-FY\n4       COORD FLD WK-FY-CONTINUING\n5                FLD WK CONSULT-AY\n6     FLD WK CONSULT-AY-CONTINUING\n7                   FLD WK SUPV-AY\n8                   FLD WK SUPV-FY\n9           LECT IN SUMMER SESSION\n10                         LECT-AY\n11                    LECT-AY-1/10\n12         LECT-AY-1/10-CONTINUING\n13                     LECT-AY-1/9\n14          LECT-AY-1/9-CONTINUING\n15              LECT-AY-CONTINUING\n16                         LECT-FY\n17              LECT-FY-CONTINUING\n19                        LECTURER\n20                      SR LECT-AY\n21       SR LECT-AY-1/9-CONTINUING\n22           SR LECT-AY-CONTINUING\n23               TEACHER-SPEC PROG\n24    TEACHER-SPEC PROG-CONTINUING\nName: Title, dtype: object"
     },
     "metadata": {}
    }
   ]
  },
  {
   "cell_type": "markdown",
   "source": "# Load DataFrames",
   "metadata": {
    "tags": [],
    "is_collapsed": false,
    "cell_id": "00003-1cdfadef-70b5-4a58-91bc-67f27032eadc",
    "deepnote_cell_type": "text-cell-h1"
   }
  },
  {
   "cell_type": "code",
   "metadata": {
    "tags": [],
    "cell_id": "00002-89c7d55e-f8d7-4035-aba3-2b914150d082",
    "deepnote_to_be_reexecuted": false,
    "source_hash": "f5d5d6cb",
    "execution_start": 1634635469276,
    "execution_millis": 6573,
    "deepnote_cell_type": "code"
   },
   "source": "salaries_2020 = load_data_for_year('2020')\n\nlect_salaries_2020 = titles_in_category(salaries_2020, 'Unit 18') \nall_berkeley_salaries = filter_by_school(salaries_2020, 'Berkeley')\nberkeley_lect_salaries_2020 = filter_by_school(lect_salaries_2020, \"Berkeley\")\n",
   "execution_count": null,
   "outputs": []
  },
  {
   "cell_type": "code",
   "metadata": {
    "tags": [],
    "cell_id": "00004-0c5e50b3-d184-4f6b-be74-8e1358447585",
    "deepnote_to_be_reexecuted": false,
    "source_hash": "c481a774",
    "execution_start": 1634635420635,
    "execution_millis": 6,
    "deepnote_cell_type": "code"
   },
   "source": "berk_titles = all_berkeley_salaries['Title'].unique()\nprint(berk_titles.size)\n# print(np.sort(berk_titles))",
   "execution_count": null,
   "outputs": [
    {
     "name": "stdout",
     "text": "965\n",
     "output_type": "stream"
    }
   ]
  },
  {
   "cell_type": "code",
   "metadata": {
    "tags": [],
    "cell_id": "00014-f0a557c1-1a6f-442f-abe2-6f86a418ffeb",
    "deepnote_to_be_reexecuted": false,
    "source_hash": "51da9412",
    "execution_start": 1634635507408,
    "execution_millis": 118,
    "deepnote_cell_type": "code"
   },
   "source": "lpsoe_all_uc = titles_in_category(salaries_2020, 'Teaching Track')\nsenate_all_uc = titles_in_category(salaries_2020, 'Senate')\nnon_senate_all_uc = titles_in_category(salaries_2020, 'Non-Senate')\n# print(lpsoe_all_uc.count())\n\nrole_counts = [\n    lpsoe_all_uc.groupby('Location')['Location'].count().reset_index(name='Count LSOE'),\n    lect_salaries_2020.groupby('Location')['Location'].count().reset_index(name='Count Unit 18'),\n    senate_all_uc.groupby('Location')['Location'].count().reset_index(name='Count Senate Faculty'),\n    non_senate_all_uc.groupby('Location')['Location'].count().reset_index(name='Count Non-Senate Faculty'),\n]\n\nreduce(lambda x, y: x.merge(y, on='Location', how='outer'), role_counts)\n\n",
   "execution_count": null,
   "outputs": [
    {
     "output_type": "execute_result",
     "execution_count": 19,
     "data": {
      "application/vnd.deepnote.dataframe.v2+json": {
       "row_count": 11,
       "column_count": 5,
       "columns": [
        {
         "name": "Location",
         "dtype": "object",
         "stats": {
          "unique_count": 11,
          "nan_count": 0,
          "categories": [
           {
            "name": "Berkeley",
            "count": 1
           },
           {
            "name": "Davis",
            "count": 1
           },
           {
            "name": "9 others",
            "count": 9
           }
          ]
         }
        },
        {
         "name": "Count LSOE",
         "dtype": "float64",
         "stats": {
          "unique_count": 9,
          "nan_count": 2,
          "min": "13.0",
          "max": "101.0",
          "histogram": [
           {
            "bin_start": 13,
            "bin_end": 21.8,
            "count": 1
           },
           {
            "bin_start": 21.8,
            "bin_end": 30.6,
            "count": 3
           },
           {
            "bin_start": 30.6,
            "bin_end": 39.400000000000006,
            "count": 1
           },
           {
            "bin_start": 39.400000000000006,
            "bin_end": 48.2,
            "count": 1
           },
           {
            "bin_start": 48.2,
            "bin_end": 57,
            "count": 0
           },
           {
            "bin_start": 57,
            "bin_end": 65.80000000000001,
            "count": 1
           },
           {
            "bin_start": 65.80000000000001,
            "bin_end": 74.60000000000001,
            "count": 0
           },
           {
            "bin_start": 74.60000000000001,
            "bin_end": 83.4,
            "count": 0
           },
           {
            "bin_start": 83.4,
            "bin_end": 92.2,
            "count": 0
           },
           {
            "bin_start": 92.2,
            "bin_end": 101,
            "count": 2
           }
          ]
         }
        },
        {
         "name": "Count Unit 18",
         "dtype": "int64",
         "stats": {
          "unique_count": 11,
          "nan_count": 0,
          "min": "1",
          "max": "1433",
          "histogram": [
           {
            "bin_start": 1,
            "bin_end": 144.2,
            "count": 2
           },
           {
            "bin_start": 144.2,
            "bin_end": 287.4,
            "count": 1
           },
           {
            "bin_start": 287.4,
            "bin_end": 430.59999999999997,
            "count": 3
           },
           {
            "bin_start": 430.59999999999997,
            "bin_end": 573.8,
            "count": 1
           },
           {
            "bin_start": 573.8,
            "bin_end": 717,
            "count": 2
           },
           {
            "bin_start": 717,
            "bin_end": 860.1999999999999,
            "count": 0
           },
           {
            "bin_start": 860.1999999999999,
            "bin_end": 1003.3999999999999,
            "count": 0
           },
           {
            "bin_start": 1003.3999999999999,
            "bin_end": 1146.6,
            "count": 0
           },
           {
            "bin_start": 1146.6,
            "bin_end": 1289.8,
            "count": 0
           },
           {
            "bin_start": 1289.8,
            "bin_end": 1433,
            "count": 2
           }
          ]
         }
        },
        {
         "name": "Count Senate Faculty",
         "dtype": "int64",
         "stats": {
          "unique_count": 11,
          "nan_count": 0,
          "min": "55",
          "max": "2478",
          "histogram": [
           {
            "bin_start": 55,
            "bin_end": 297.3,
            "count": 2
           },
           {
            "bin_start": 297.3,
            "bin_end": 539.6,
            "count": 0
           },
           {
            "bin_start": 539.6,
            "bin_end": 781.9000000000001,
            "count": 1
           },
           {
            "bin_start": 781.9000000000001,
            "bin_end": 1024.2,
            "count": 2
           },
           {
            "bin_start": 1024.2,
            "bin_end": 1266.5,
            "count": 0
           },
           {
            "bin_start": 1266.5,
            "bin_end": 1508.8000000000002,
            "count": 0
           },
           {
            "bin_start": 1508.8000000000002,
            "bin_end": 1751.1000000000001,
            "count": 3
           },
           {
            "bin_start": 1751.1000000000001,
            "bin_end": 1993.4,
            "count": 1
           },
           {
            "bin_start": 1993.4,
            "bin_end": 2235.7000000000003,
            "count": 1
           },
           {
            "bin_start": 2235.7000000000003,
            "bin_end": 2478,
            "count": 1
           }
          ]
         }
        },
        {
         "name": "Count Non-Senate Faculty",
         "dtype": "float64",
         "stats": {
          "unique_count": 10,
          "nan_count": 1,
          "min": "36.0",
          "max": "2188.0",
          "histogram": [
           {
            "bin_start": 36,
            "bin_end": 251.2,
            "count": 4
           },
           {
            "bin_start": 251.2,
            "bin_end": 466.4,
            "count": 1
           },
           {
            "bin_start": 466.4,
            "bin_end": 681.5999999999999,
            "count": 0
           },
           {
            "bin_start": 681.5999999999999,
            "bin_end": 896.8,
            "count": 2
           },
           {
            "bin_start": 896.8,
            "bin_end": 1112,
            "count": 0
           },
           {
            "bin_start": 1112,
            "bin_end": 1327.1999999999998,
            "count": 1
           },
           {
            "bin_start": 1327.1999999999998,
            "bin_end": 1542.3999999999999,
            "count": 0
           },
           {
            "bin_start": 1542.3999999999999,
            "bin_end": 1757.6,
            "count": 0
           },
           {
            "bin_start": 1757.6,
            "bin_end": 1972.8,
            "count": 1
           },
           {
            "bin_start": 1972.8,
            "bin_end": 2188,
            "count": 1
           }
          ]
         }
        },
        {
         "name": "_deepnote_index_column",
         "dtype": "int64"
        }
       ],
       "rows_top": [
        {
         "Location": "Berkeley",
         "Count LSOE": 26,
         "Count Unit 18": 1433,
         "Count Senate Faculty": 1615,
         "Count Non-Senate Faculty": 301,
         "_deepnote_index_column": 0
        },
        {
         "Location": "Davis",
         "Count LSOE": 45,
         "Count Unit 18": 597,
         "Count Senate Faculty": 2076,
         "Count Non-Senate Faculty": 682,
         "_deepnote_index_column": 1
        },
        {
         "Location": "Irvine",
         "Count LSOE": 99,
         "Count Unit 18": 603,
         "Count Senate Faculty": 1531,
         "Count Non-Senate Faculty": 689,
         "_deepnote_index_column": 2
        },
        {
         "Location": "Los Angeles",
         "Count LSOE": 13,
         "Count Unit 18": 1359,
         "Count Senate Faculty": 2478,
         "Count Non-Senate Faculty": 2188,
         "_deepnote_index_column": 3
        },
        {
         "Location": "Merced",
         "Count LSOE": 24,
         "Count Unit 18": 181,
         "Count Senate Faculty": 296,
         "Count Non-Senate Faculty": "nan",
         "_deepnote_index_column": 4
        },
        {
         "Location": "Riverside",
         "Count LSOE": 38,
         "Count Unit 18": 317,
         "Count Senate Faculty": 869,
         "Count Non-Senate Faculty": 131,
         "_deepnote_index_column": 5
        },
        {
         "Location": "San Diego",
         "Count LSOE": 101,
         "Count Unit 18": 488,
         "Count Senate Faculty": 1872,
         "Count Non-Senate Faculty": 1273,
         "_deepnote_index_column": 6
        },
        {
         "Location": "Santa Barbara",
         "Count LSOE": 58,
         "Count Unit 18": 369,
         "Count Senate Faculty": 948,
         "Count Non-Senate Faculty": 57,
         "_deepnote_index_column": 7
        },
        {
         "Location": "Santa Cruz",
         "Count LSOE": 23,
         "Count Unit 18": 367,
         "Count Senate Faculty": 589,
         "Count Non-Senate Faculty": 36,
         "_deepnote_index_column": 8
        },
        {
         "Location": "Hastings",
         "Count LSOE": "nan",
         "Count Unit 18": 17,
         "Count Senate Faculty": 55,
         "Count Non-Senate Faculty": 120,
         "_deepnote_index_column": 9
        },
        {
         "Location": "San Francisco",
         "Count LSOE": "nan",
         "Count Unit 18": 1,
         "Count Senate Faculty": 1741,
         "Count Non-Senate Faculty": 1938,
         "_deepnote_index_column": 10
        }
       ],
       "rows_bottom": null
      },
      "text/plain": "         Location  Count LSOE  Count Unit 18  Count Senate Faculty  \\\n0        Berkeley        26.0           1433                  1615   \n1           Davis        45.0            597                  2076   \n2          Irvine        99.0            603                  1531   \n3     Los Angeles        13.0           1359                  2478   \n4          Merced        24.0            181                   296   \n5       Riverside        38.0            317                   869   \n6       San Diego       101.0            488                  1872   \n7   Santa Barbara        58.0            369                   948   \n8      Santa Cruz        23.0            367                   589   \n9        Hastings         NaN             17                    55   \n10  San Francisco         NaN              1                  1741   \n\n    Count Non-Senate Faculty  \n0                      301.0  \n1                      682.0  \n2                      689.0  \n3                    2,188.0  \n4                        NaN  \n5                      131.0  \n6                    1,273.0  \n7                       57.0  \n8                       36.0  \n9                      120.0  \n10                   1,938.0  ",
      "text/html": "<div>\n<style scoped>\n    .dataframe tbody tr th:only-of-type {\n        vertical-align: middle;\n    }\n\n    .dataframe tbody tr th {\n        vertical-align: top;\n    }\n\n    .dataframe thead th {\n        text-align: right;\n    }\n</style>\n<table border=\"1\" class=\"dataframe\">\n  <thead>\n    <tr style=\"text-align: right;\">\n      <th></th>\n      <th>Location</th>\n      <th>Count LSOE</th>\n      <th>Count Unit 18</th>\n      <th>Count Senate Faculty</th>\n      <th>Count Non-Senate Faculty</th>\n    </tr>\n  </thead>\n  <tbody>\n    <tr>\n      <th>0</th>\n      <td>Berkeley</td>\n      <td>26.0</td>\n      <td>1433</td>\n      <td>1615</td>\n      <td>301.0</td>\n    </tr>\n    <tr>\n      <th>1</th>\n      <td>Davis</td>\n      <td>45.0</td>\n      <td>597</td>\n      <td>2076</td>\n      <td>682.0</td>\n    </tr>\n    <tr>\n      <th>2</th>\n      <td>Irvine</td>\n      <td>99.0</td>\n      <td>603</td>\n      <td>1531</td>\n      <td>689.0</td>\n    </tr>\n    <tr>\n      <th>3</th>\n      <td>Los Angeles</td>\n      <td>13.0</td>\n      <td>1359</td>\n      <td>2478</td>\n      <td>2,188.0</td>\n    </tr>\n    <tr>\n      <th>4</th>\n      <td>Merced</td>\n      <td>24.0</td>\n      <td>181</td>\n      <td>296</td>\n      <td>NaN</td>\n    </tr>\n    <tr>\n      <th>5</th>\n      <td>Riverside</td>\n      <td>38.0</td>\n      <td>317</td>\n      <td>869</td>\n      <td>131.0</td>\n    </tr>\n    <tr>\n      <th>6</th>\n      <td>San Diego</td>\n      <td>101.0</td>\n      <td>488</td>\n      <td>1872</td>\n      <td>1,273.0</td>\n    </tr>\n    <tr>\n      <th>7</th>\n      <td>Santa Barbara</td>\n      <td>58.0</td>\n      <td>369</td>\n      <td>948</td>\n      <td>57.0</td>\n    </tr>\n    <tr>\n      <th>8</th>\n      <td>Santa Cruz</td>\n      <td>23.0</td>\n      <td>367</td>\n      <td>589</td>\n      <td>36.0</td>\n    </tr>\n    <tr>\n      <th>9</th>\n      <td>Hastings</td>\n      <td>NaN</td>\n      <td>17</td>\n      <td>55</td>\n      <td>120.0</td>\n    </tr>\n    <tr>\n      <th>10</th>\n      <td>San Francisco</td>\n      <td>NaN</td>\n      <td>1</td>\n      <td>1741</td>\n      <td>1,938.0</td>\n    </tr>\n  </tbody>\n</table>\n</div>"
     },
     "metadata": {}
    }
   ]
  },
  {
   "cell_type": "code",
   "metadata": {
    "tags": [],
    "cell_id": "00013-ac129a16-e1b4-4a13-b6f3-625899be9bd9",
    "deepnote_to_be_reexecuted": false,
    "source_hash": "85254ebf",
    "execution_start": 1634636368803,
    "execution_millis": 166,
    "deepnote_cell_type": "code"
   },
   "source": "lect_role_counts = [\n    berkeley_lect_salaries_2020.groupby('Title')['Regular Pay'].describe(),\n    berkeley_lect_salaries_2020.groupby('Title')['Gross Pay'].describe() #.reset_index(name='Gross Pay'),\n]\n\ndef rename_xy(name):\n    return name.replace('_x', ' Regular Pay').replace('_y', ' Gross Pay')\n\nlect_gross_regular = reduce(lambda x, y: x.merge(y, on='Title', how='outer'), lect_role_counts)\n\n# cols = [ lect_gross_regular.columns[0] ] + sorted(lect_gross_regular.columns[1:])\n# print(cols)\n# ['count_x', '25%_x', '25%_y', '50%_x', '50%_y', '75%_x', '75%_y', 'count_y', 'max_x', 'max_y', 'mean_x', 'mean_y', 'min_x', 'min_y', 'std_x', 'std_y']\ncols = ['count_x', '25%_x', '25%_y', '50%_x', '50%_y', 'mean_x', 'mean_y', 'min_x', 'min_y', 'std_x', 'std_y']\n\nlect_gross_regular[cols].rename(columns=rename_xy)",
   "execution_count": null,
   "outputs": [
    {
     "output_type": "execute_result",
     "execution_count": 33,
     "data": {
      "application/vnd.deepnote.dataframe.v2+json": {
       "row_count": 17,
       "column_count": 11,
       "columns": [
        {
         "name": "count Regular Pay",
         "dtype": "float64",
         "stats": {
          "unique_count": 13,
          "nan_count": 0,
          "min": "1.0",
          "max": "575.0",
          "histogram": [
           {
            "bin_start": 1,
            "bin_end": 58.4,
            "count": 12
           },
           {
            "bin_start": 58.4,
            "bin_end": 115.8,
            "count": 2
           },
           {
            "bin_start": 115.8,
            "bin_end": 173.2,
            "count": 0
           },
           {
            "bin_start": 173.2,
            "bin_end": 230.6,
            "count": 0
           },
           {
            "bin_start": 230.6,
            "bin_end": 288,
            "count": 1
           },
           {
            "bin_start": 288,
            "bin_end": 345.4,
            "count": 1
           },
           {
            "bin_start": 345.4,
            "bin_end": 402.8,
            "count": 0
           },
           {
            "bin_start": 402.8,
            "bin_end": 460.2,
            "count": 0
           },
           {
            "bin_start": 460.2,
            "bin_end": 517.6,
            "count": 0
           },
           {
            "bin_start": 517.6,
            "bin_end": 575,
            "count": 1
           }
          ]
         }
        },
        {
         "name": "25% Regular Pay",
         "dtype": "float64",
         "stats": {
          "unique_count": 17,
          "nan_count": 0,
          "min": "480.0",
          "max": "154088.0",
          "histogram": [
           {
            "bin_start": 480,
            "bin_end": 15840.8,
            "count": 8
           },
           {
            "bin_start": 15840.8,
            "bin_end": 31201.6,
            "count": 2
           },
           {
            "bin_start": 31201.6,
            "bin_end": 46562.399999999994,
            "count": 1
           },
           {
            "bin_start": 46562.399999999994,
            "bin_end": 61923.2,
            "count": 1
           },
           {
            "bin_start": 61923.2,
            "bin_end": 77284,
            "count": 0
           },
           {
            "bin_start": 77284,
            "bin_end": 92644.79999999999,
            "count": 1
           },
           {
            "bin_start": 92644.79999999999,
            "bin_end": 108005.59999999999,
            "count": 1
           },
           {
            "bin_start": 108005.59999999999,
            "bin_end": 123366.4,
            "count": 0
           },
           {
            "bin_start": 123366.4,
            "bin_end": 138727.19999999998,
            "count": 2
           },
           {
            "bin_start": 138727.19999999998,
            "bin_end": 154088,
            "count": 1
           }
          ]
         }
        },
        {
         "name": "25% Gross Pay",
         "dtype": "float64",
         "stats": {
          "unique_count": 17,
          "nan_count": 0,
          "min": "2601.0",
          "max": "157374.0",
          "histogram": [
           {
            "bin_start": 2601,
            "bin_end": 18078.3,
            "count": 8
           },
           {
            "bin_start": 18078.3,
            "bin_end": 33555.6,
            "count": 2
           },
           {
            "bin_start": 33555.6,
            "bin_end": 49032.899999999994,
            "count": 2
           },
           {
            "bin_start": 49032.899999999994,
            "bin_end": 64510.2,
            "count": 0
           },
           {
            "bin_start": 64510.2,
            "bin_end": 79987.5,
            "count": 0
           },
           {
            "bin_start": 79987.5,
            "bin_end": 95464.79999999999,
            "count": 1
           },
           {
            "bin_start": 95464.79999999999,
            "bin_end": 110942.09999999999,
            "count": 1
           },
           {
            "bin_start": 110942.09999999999,
            "bin_end": 126419.4,
            "count": 0
           },
           {
            "bin_start": 126419.4,
            "bin_end": 141896.69999999998,
            "count": 0
           },
           {
            "bin_start": 141896.69999999998,
            "bin_end": 157374,
            "count": 3
           }
          ]
         }
        },
        {
         "name": "50% Regular Pay",
         "dtype": "float64",
         "stats": {
          "unique_count": 17,
          "nan_count": 0,
          "min": "600.0",
          "max": "154088.0",
          "histogram": [
           {
            "bin_start": 600,
            "bin_end": 15948.8,
            "count": 7
           },
           {
            "bin_start": 15948.8,
            "bin_end": 31297.6,
            "count": 1
           },
           {
            "bin_start": 31297.6,
            "bin_end": 46646.399999999994,
            "count": 2
           },
           {
            "bin_start": 46646.399999999994,
            "bin_end": 61995.2,
            "count": 0
           },
           {
            "bin_start": 61995.2,
            "bin_end": 77344,
            "count": 2
           },
           {
            "bin_start": 77344,
            "bin_end": 92692.79999999999,
            "count": 0
           },
           {
            "bin_start": 92692.79999999999,
            "bin_end": 108041.59999999999,
            "count": 2
           },
           {
            "bin_start": 108041.59999999999,
            "bin_end": 123390.4,
            "count": 0
           },
           {
            "bin_start": 123390.4,
            "bin_end": 138739.19999999998,
            "count": 2
           },
           {
            "bin_start": 138739.19999999998,
            "bin_end": 154088,
            "count": 1
           }
          ]
         }
        },
        {
         "name": "50% Gross Pay",
         "dtype": "float64",
         "stats": {
          "unique_count": 17,
          "nan_count": 0,
          "min": "4792.0",
          "max": "157374.0",
          "histogram": [
           {
            "bin_start": 4792,
            "bin_end": 20050.2,
            "count": 7
           },
           {
            "bin_start": 20050.2,
            "bin_end": 35308.4,
            "count": 2
           },
           {
            "bin_start": 35308.4,
            "bin_end": 50566.600000000006,
            "count": 1
           },
           {
            "bin_start": 50566.600000000006,
            "bin_end": 65824.8,
            "count": 1
           },
           {
            "bin_start": 65824.8,
            "bin_end": 81083,
            "count": 1
           },
           {
            "bin_start": 81083,
            "bin_end": 96341.20000000001,
            "count": 0
           },
           {
            "bin_start": 96341.20000000001,
            "bin_end": 111599.40000000001,
            "count": 1
           },
           {
            "bin_start": 111599.40000000001,
            "bin_end": 126857.6,
            "count": 1
           },
           {
            "bin_start": 126857.6,
            "bin_end": 142115.80000000002,
            "count": 0
           },
           {
            "bin_start": 142115.80000000002,
            "bin_end": 157374,
            "count": 3
           }
          ]
         }
        },
        {
         "name": "mean Regular Pay",
         "dtype": "float64",
         "stats": {
          "unique_count": 17,
          "nan_count": 0,
          "min": "702.2",
          "max": "154088.0",
          "histogram": [
           {
            "bin_start": 702.2,
            "bin_end": 16040.779999999999,
            "count": 5
           },
           {
            "bin_start": 16040.779999999999,
            "bin_end": 31379.359999999997,
            "count": 2
           },
           {
            "bin_start": 31379.359999999997,
            "bin_end": 46717.93999999999,
            "count": 2
           },
           {
            "bin_start": 46717.93999999999,
            "bin_end": 62056.51999999999,
            "count": 1
           },
           {
            "bin_start": 62056.51999999999,
            "bin_end": 77395.09999999999,
            "count": 2
           },
           {
            "bin_start": 77395.09999999999,
            "bin_end": 92733.67999999998,
            "count": 0
           },
           {
            "bin_start": 92733.67999999998,
            "bin_end": 108072.25999999998,
            "count": 2
           },
           {
            "bin_start": 108072.25999999998,
            "bin_end": 123410.83999999998,
            "count": 0
           },
           {
            "bin_start": 123410.83999999998,
            "bin_end": 138749.41999999998,
            "count": 2
           },
           {
            "bin_start": 138749.41999999998,
            "bin_end": 154088,
            "count": 1
           }
          ]
         }
        },
        {
         "name": "mean Gross Pay",
         "dtype": "float64",
         "stats": {
          "unique_count": 17,
          "nan_count": 0,
          "min": "4792.0",
          "max": "157374.0",
          "histogram": [
           {
            "bin_start": 4792,
            "bin_end": 20050.2,
            "count": 6
           },
           {
            "bin_start": 20050.2,
            "bin_end": 35308.4,
            "count": 1
           },
           {
            "bin_start": 35308.4,
            "bin_end": 50566.600000000006,
            "count": 2
           },
           {
            "bin_start": 50566.600000000006,
            "bin_end": 65824.8,
            "count": 1
           },
           {
            "bin_start": 65824.8,
            "bin_end": 81083,
            "count": 2
           },
           {
            "bin_start": 81083,
            "bin_end": 96341.20000000001,
            "count": 0
           },
           {
            "bin_start": 96341.20000000001,
            "bin_end": 111599.40000000001,
            "count": 0
           },
           {
            "bin_start": 111599.40000000001,
            "bin_end": 126857.6,
            "count": 1
           },
           {
            "bin_start": 126857.6,
            "bin_end": 142115.80000000002,
            "count": 1
           },
           {
            "bin_start": 142115.80000000002,
            "bin_end": 157374,
            "count": 3
           }
          ]
         }
        },
        {
         "name": "min Regular Pay",
         "dtype": "float64",
         "stats": {
          "unique_count": 16,
          "nan_count": 0,
          "min": "8.0",
          "max": "154088.0",
          "histogram": [
           {
            "bin_start": 8,
            "bin_end": 15416,
            "count": 11
           },
           {
            "bin_start": 15416,
            "bin_end": 30824,
            "count": 1
           },
           {
            "bin_start": 30824,
            "bin_end": 46232,
            "count": 1
           },
           {
            "bin_start": 46232,
            "bin_end": 61640,
            "count": 0
           },
           {
            "bin_start": 61640,
            "bin_end": 77048,
            "count": 1
           },
           {
            "bin_start": 77048,
            "bin_end": 92456,
            "count": 0
           },
           {
            "bin_start": 92456,
            "bin_end": 107864,
            "count": 0
           },
           {
            "bin_start": 107864,
            "bin_end": 123272,
            "count": 0
           },
           {
            "bin_start": 123272,
            "bin_end": 138680,
            "count": 2
           },
           {
            "bin_start": 138680,
            "bin_end": 154088,
            "count": 1
           }
          ]
         }
        },
        {
         "name": "min Gross Pay",
         "dtype": "float64",
         "stats": {
          "unique_count": 16,
          "nan_count": 0,
          "min": "8.0",
          "max": "157374.0",
          "histogram": [
           {
            "bin_start": 8,
            "bin_end": 15744.6,
            "count": 11
           },
           {
            "bin_start": 15744.6,
            "bin_end": 31481.2,
            "count": 1
           },
           {
            "bin_start": 31481.2,
            "bin_end": 47217.8,
            "count": 1
           },
           {
            "bin_start": 47217.8,
            "bin_end": 62954.4,
            "count": 0
           },
           {
            "bin_start": 62954.4,
            "bin_end": 78691,
            "count": 0
           },
           {
            "bin_start": 78691,
            "bin_end": 94427.6,
            "count": 1
           },
           {
            "bin_start": 94427.6,
            "bin_end": 110164.2,
            "count": 0
           },
           {
            "bin_start": 110164.2,
            "bin_end": 125900.8,
            "count": 0
           },
           {
            "bin_start": 125900.8,
            "bin_end": 141637.4,
            "count": 0
           },
           {
            "bin_start": 141637.4,
            "bin_end": 157374,
            "count": 3
           }
          ]
         }
        },
        {
         "name": "std Regular Pay",
         "dtype": "float64",
         "stats": {
          "unique_count": 13,
          "nan_count": 4,
          "min": "337.64507992861377",
          "max": "50265.32290484735",
          "histogram": [
           {
            "bin_start": 337.64507992861377,
            "bin_end": 5330.412862420488,
            "count": 1
           },
           {
            "bin_start": 5330.412862420488,
            "bin_end": 10323.180644912361,
            "count": 2
           },
           {
            "bin_start": 10323.180644912361,
            "bin_end": 15315.948427404235,
            "count": 0
           },
           {
            "bin_start": 15315.948427404235,
            "bin_end": 20308.71620989611,
            "count": 3
           },
           {
            "bin_start": 20308.71620989611,
            "bin_end": 25301.48399238798,
            "count": 1
           },
           {
            "bin_start": 25301.48399238798,
            "bin_end": 30294.251774879856,
            "count": 2
           },
           {
            "bin_start": 30294.251774879856,
            "bin_end": 35287.01955737173,
            "count": 0
           },
           {
            "bin_start": 35287.01955737173,
            "bin_end": 40279.7873398636,
            "count": 3
           },
           {
            "bin_start": 40279.7873398636,
            "bin_end": 45272.55512235547,
            "count": 0
           },
           {
            "bin_start": 45272.55512235547,
            "bin_end": 50265.32290484735,
            "count": 1
           }
          ]
         }
        },
        {
         "name": "std Gross Pay",
         "dtype": "float64",
         "stats": {
          "unique_count": 13,
          "nan_count": 4,
          "min": "2718.2936191662593",
          "max": "83998.72174563134",
          "histogram": [
           {
            "bin_start": 2718.2936191662593,
            "bin_end": 10846.336431812768,
            "count": 3
           },
           {
            "bin_start": 10846.336431812768,
            "bin_end": 18974.379244459276,
            "count": 1
           },
           {
            "bin_start": 18974.379244459276,
            "bin_end": 27102.42205710578,
            "count": 3
           },
           {
            "bin_start": 27102.42205710578,
            "bin_end": 35230.46486975229,
            "count": 1
           },
           {
            "bin_start": 35230.46486975229,
            "bin_end": 43358.5076823988,
            "count": 2
           },
           {
            "bin_start": 43358.5076823988,
            "bin_end": 51486.5504950453,
            "count": 1
           },
           {
            "bin_start": 51486.5504950453,
            "bin_end": 59614.593307691815,
            "count": 1
           },
           {
            "bin_start": 59614.593307691815,
            "bin_end": 67742.63612033831,
            "count": 0
           },
           {
            "bin_start": 67742.63612033831,
            "bin_end": 75870.67893298483,
            "count": 0
           },
           {
            "bin_start": 75870.67893298483,
            "bin_end": 83998.72174563134,
            "count": 1
           }
          ]
         }
        },
        {
         "name": "_deepnote_index_column",
         "dtype": "object"
        }
       ],
       "rows_top": [
        {
         "count Regular Pay": 4,
         "25% Regular Pay": 47833.25,
         "25% Gross Pay": 47833.25,
         "50% Regular Pay": 62580,
         "50% Gross Pay": 62580,
         "mean Regular Pay": 64723,
         "mean Gross Pay": 76528.25,
         "min Regular Pay": 33074,
         "min Gross Pay": 33074,
         "std Regular Pay": 28840.412514386822,
         "std Gross Pay": 50204.41077153148,
         "_deepnote_index_column": "CONTINUING APPT-TEMP AUG"
        },
        {
         "count Regular Pay": 1,
         "25% Regular Pay": 134393,
         "25% Gross Pay": 157374,
         "50% Regular Pay": 134393,
         "50% Gross Pay": 157374,
         "mean Regular Pay": 134393,
         "mean Gross Pay": 157374,
         "min Regular Pay": 134393,
         "min Gross Pay": 157374,
         "std Regular Pay": "nan",
         "std Gross Pay": "nan",
         "_deepnote_index_column": "COORD FLD WK-AY-CONTINUING"
        },
        {
         "count Regular Pay": 1,
         "25% Regular Pay": 154088,
         "25% Gross Pay": 154088,
         "50% Regular Pay": 154088,
         "50% Gross Pay": 154088,
         "mean Regular Pay": 154088,
         "mean Gross Pay": 154088,
         "min Regular Pay": 154088,
         "min Gross Pay": 154088,
         "std Regular Pay": "nan",
         "std Gross Pay": "nan",
         "_deepnote_index_column": "COORD FLD WK-FY-CONTINUING"
        },
        {
         "count Regular Pay": 7,
         "25% Regular Pay": 22117,
         "25% Gross Pay": 22117,
         "50% Regular Pay": 37868,
         "50% Gross Pay": 37868,
         "mean Regular Pay": 45595.57142857143,
         "mean Gross Pay": 50422.71428571428,
         "min Regular Pay": 7037,
         "min Gross Pay": 7037,
         "std Regular Pay": 35327.61633555795,
         "std Gross Pay": 43111.90065675712,
         "_deepnote_index_column": "FLD WK CONSULT-AY"
        },
        {
         "count Regular Pay": 4,
         "25% Regular Pay": 92700.75,
         "25% Gross Pay": 106782.25,
         "50% Regular Pay": 102080,
         "50% Gross Pay": 117022,
         "mean Regular Pay": 95489,
         "mean Gross Pay": 112782,
         "min Regular Pay": 71739,
         "min Gross Pay": 86218,
         "std Regular Pay": 16063.115243729448,
         "std Gross Pay": 19074.842087594505,
         "_deepnote_index_column": "FLD WK CONSULT-AY-CONTINUING"
        },
        {
         "count Regular Pay": 1,
         "25% Regular Pay": 4792,
         "25% Gross Pay": 4792,
         "50% Regular Pay": 4792,
         "50% Gross Pay": 4792,
         "mean Regular Pay": 4792,
         "mean Gross Pay": 4792,
         "min Regular Pay": 4792,
         "min Gross Pay": 4792,
         "std Regular Pay": "nan",
         "std Gross Pay": "nan",
         "_deepnote_index_column": "FLD WK SUPV-AY"
        },
        {
         "count Regular Pay": 18,
         "25% Regular Pay": 24383.75,
         "25% Gross Pay": 24744.5,
         "50% Regular Pay": 34465.5,
         "50% Gross Pay": 34465.5,
         "mean Regular Pay": 48870.166666666664,
         "mean Gross Pay": 50687.166666666664,
         "min Regular Pay": 3289,
         "min Gross Pay": 3289,
         "std Regular Pay": 37060.73963302755,
         "std Gross Pay": 38373.82749961995,
         "_deepnote_index_column": "FLD WK SUPV-FY"
        },
        {
         "count Regular Pay": 47,
         "25% Regular Pay": 8831.5,
         "25% Gross Pay": 15472,
         "50% Regular Pay": 12404,
         "50% Gross Pay": 19903,
         "mean Regular Pay": 18302.76595744681,
         "mean Gross Pay": 26644.957446808512,
         "min Regular Pay": 1128,
         "min Gross Pay": 2285,
         "std Regular Pay": 15722.225210652214,
         "std Gross Pay": 18471.863414343174,
         "_deepnote_index_column": "LECT IN SUMMER SESSION"
        },
        {
         "count Regular Pay": 319,
         "25% Regular Pay": 10495,
         "25% Gross Pay": 10830.5,
         "50% Regular Pay": 27477,
         "50% Gross Pay": 30204,
         "mean Regular Pay": 33690.53605015674,
         "mean Gross Pay": 37915.416927899685,
         "min Regular Pay": 47,
         "min Gross Pay": 47,
         "std Regular Pay": 28266.168400104518,
         "std Gross Pay": 32941.21504651458,
         "_deepnote_index_column": "LECT-AY"
        },
        {
         "count Regular Pay": 575,
         "25% Regular Pay": 3665,
         "25% Gross Pay": 4041.5,
         "50% Regular Pay": 8161,
         "50% Gross Pay": 8546,
         "mean Regular Pay": 12928.281739130434,
         "mean Gross Pay": 14775.542608695652,
         "min Regular Pay": 460,
         "min Gross Pay": 460,
         "std Regular Pay": 17661.821955508458,
         "std Gross Pay": 25189.38287987274,
         "_deepnote_index_column": "LECT-AY-1/10"
        },
        {
         "count Regular Pay": 17,
         "25% Regular Pay": 6731,
         "25% Gross Pay": 6731,
         "50% Regular Pay": 13519,
         "50% Gross Pay": 16223,
         "mean Regular Pay": 13891.823529411764,
         "mean Gross Pay": 14846.588235294117,
         "min Regular Pay": 2536,
         "min Gross Pay": 2536,
         "std Regular Pay": 8988.271908682544,
         "std Gross Pay": 8987.402586807433,
         "_deepnote_index_column": "LECT-AY-1/10-CONTINUING"
        },
        {
         "count Regular Pay": 237,
         "25% Regular Pay": 39683,
         "25% Gross Pay": 41748,
         "50% Regular Pay": 67691,
         "50% Gross Pay": 71293,
         "mean Regular Pay": 66718.54430379746,
         "mean Gross Pay": 75271.90717299578,
         "min Regular Pay": 878,
         "min Gross Pay": 878,
         "std Regular Pay": 37851.93957363845,
         "std Gross Pay": 53067.403104646146,
         "_deepnote_index_column": "LECT-AY-CONTINUING"
        },
        {
         "count Regular Pay": 96,
         "25% Regular Pay": 5917.75,
         "25% Gross Pay": 6272.75,
         "50% Regular Pay": 11786.5,
         "50% Gross Pay": 11786.5,
         "mean Regular Pay": 19260.489583333332,
         "mean Gross Pay": 19618.760416666668,
         "min Regular Pay": 8,
         "min Gross Pay": 8,
         "std Regular Pay": 22071.297572326966,
         "std Gross Pay": 22874.29936654709,
         "_deepnote_index_column": "LECT-FY"
        },
        {
         "count Regular Pay": 1,
         "25% Regular Pay": 127574,
         "25% Gross Pay": 149675,
         "50% Regular Pay": 127574,
         "50% Gross Pay": 149675,
         "mean Regular Pay": 127574,
         "mean Gross Pay": 149675,
         "min Regular Pay": 127574,
         "min Gross Pay": 149675,
         "std Regular Pay": "nan",
         "std Gross Pay": "nan",
         "_deepnote_index_column": "SR LECT-AY"
        },
        {
         "count Regular Pay": 21,
         "25% Regular Pay": 88176,
         "25% Gross Pay": 93039,
         "50% Regular Pay": 104835,
         "50% Gross Pay": 105457,
         "mean Regular Pay": 106486.85714285714,
         "mean Gross Pay": 128271,
         "min Regular Pay": 20743,
         "min Gross Pay": 20743,
         "std Regular Pay": 50265.32290484735,
         "std Gross Pay": 83998.72174563134,
         "_deepnote_index_column": "SR LECT-AY-CONTINUING"
        },
        {
         "count Regular Pay": 79,
         "25% Regular Pay": 2601,
         "25% Gross Pay": 2601,
         "50% Regular Pay": 4001,
         "50% Gross Pay": 5201,
         "mean Regular Pay": 5959.594936708861,
         "mean Gross Pay": 6868.354430379747,
         "min Regular Pay": 460,
         "min Gross Pay": 460,
         "std Regular Pay": 6996.214510350996,
         "std Gross Pay": 8882.165425277744,
         "_deepnote_index_column": "TEACHER-SPEC PROG"
        },
        {
         "count Regular Pay": 5,
         "25% Regular Pay": 480,
         "25% Gross Pay": 5490,
         "50% Regular Pay": 600,
         "50% Gross Pay": 8100,
         "mean Regular Pay": 702.2,
         "mean Gross Pay": 7730.2,
         "min Regular Pay": 320,
         "min Gross Pay": 4440,
         "std Regular Pay": 337.64507992861377,
         "std Gross Pay": 2718.2936191662593,
         "_deepnote_index_column": "TEACHER-SPEC PROG-CONTINUING"
        }
       ],
       "rows_bottom": null
      },
      "text/plain": "                              count Regular Pay  25% Regular Pay  \\\nTitle                                                              \nCONTINUING APPT-TEMP AUG                    4.0        47,833.25   \nCOORD FLD WK-AY-CONTINUING                  1.0        134,393.0   \nCOORD FLD WK-FY-CONTINUING                  1.0        154,088.0   \nFLD WK CONSULT-AY                           7.0         22,117.0   \nFLD WK CONSULT-AY-CONTINUING                4.0        92,700.75   \nFLD WK SUPV-AY                              1.0          4,792.0   \nFLD WK SUPV-FY                             18.0        24,383.75   \nLECT IN SUMMER SESSION                     47.0          8,831.5   \nLECT-AY                                   319.0         10,495.0   \nLECT-AY-1/10                              575.0          3,665.0   \nLECT-AY-1/10-CONTINUING                    17.0          6,731.0   \nLECT-AY-CONTINUING                        237.0         39,683.0   \nLECT-FY                                    96.0         5,917.75   \nSR LECT-AY                                  1.0        127,574.0   \nSR LECT-AY-CONTINUING                      21.0         88,176.0   \nTEACHER-SPEC PROG                          79.0          2,601.0   \nTEACHER-SPEC PROG-CONTINUING                5.0            480.0   \n\n                              25% Gross Pay  50% Regular Pay  50% Gross Pay  \\\nTitle                                                                         \nCONTINUING APPT-TEMP AUG          47,833.25         62,580.0       62,580.0   \nCOORD FLD WK-AY-CONTINUING        157,374.0        134,393.0      157,374.0   \nCOORD FLD WK-FY-CONTINUING        154,088.0        154,088.0      154,088.0   \nFLD WK CONSULT-AY                  22,117.0         37,868.0       37,868.0   \nFLD WK CONSULT-AY-CONTINUING     106,782.25        102,080.0      117,022.0   \nFLD WK SUPV-AY                      4,792.0          4,792.0        4,792.0   \nFLD WK SUPV-FY                     24,744.5         34,465.5       34,465.5   \nLECT IN SUMMER SESSION             15,472.0         12,404.0       19,903.0   \nLECT-AY                            10,830.5         27,477.0       30,204.0   \nLECT-AY-1/10                        4,041.5          8,161.0        8,546.0   \nLECT-AY-1/10-CONTINUING             6,731.0         13,519.0       16,223.0   \nLECT-AY-CONTINUING                 41,748.0         67,691.0       71,293.0   \nLECT-FY                            6,272.75         11,786.5       11,786.5   \nSR LECT-AY                        149,675.0        127,574.0      149,675.0   \nSR LECT-AY-CONTINUING              93,039.0        104,835.0      105,457.0   \nTEACHER-SPEC PROG                   2,601.0          4,001.0        5,201.0   \nTEACHER-SPEC PROG-CONTINUING        5,490.0            600.0        8,100.0   \n\n                                mean Regular Pay      mean Gross Pay  \\\nTitle                                                                  \nCONTINUING APPT-TEMP AUG                64,723.0           76,528.25   \nCOORD FLD WK-AY-CONTINUING             134,393.0           157,374.0   \nCOORD FLD WK-FY-CONTINUING             154,088.0           154,088.0   \nFLD WK CONSULT-AY             45,595.57142857143  50,422.71428571428   \nFLD WK CONSULT-AY-CONTINUING            95,489.0           112,782.0   \nFLD WK SUPV-AY                           4,792.0             4,792.0   \nFLD WK SUPV-FY               48,870.166666666664 50,687.166666666664   \nLECT IN SUMMER SESSION        18,302.76595744681 26,644.957446808512   \nLECT-AY                       33,690.53605015674 37,915.416927899685   \nLECT-AY-1/10                 12,928.281739130434 14,775.542608695652   \nLECT-AY-1/10-CONTINUING      13,891.823529411764 14,846.588235294117   \nLECT-AY-CONTINUING            66,718.54430379746  75,271.90717299578   \nLECT-FY                      19,260.489583333332 19,618.760416666668   \nSR LECT-AY                             127,574.0           149,675.0   \nSR LECT-AY-CONTINUING        106,486.85714285714           128,271.0   \nTEACHER-SPEC PROG             5,959.594936708861  6,868.354430379747   \nTEACHER-SPEC PROG-CONTINUING               702.2             7,730.2   \n\n                              min Regular Pay  min Gross Pay  \\\nTitle                                                          \nCONTINUING APPT-TEMP AUG             33,074.0       33,074.0   \nCOORD FLD WK-AY-CONTINUING          134,393.0      157,374.0   \nCOORD FLD WK-FY-CONTINUING          154,088.0      154,088.0   \nFLD WK CONSULT-AY                     7,037.0        7,037.0   \nFLD WK CONSULT-AY-CONTINUING         71,739.0       86,218.0   \nFLD WK SUPV-AY                        4,792.0        4,792.0   \nFLD WK SUPV-FY                        3,289.0        3,289.0   \nLECT IN SUMMER SESSION                1,128.0        2,285.0   \nLECT-AY                                  47.0           47.0   \nLECT-AY-1/10                            460.0          460.0   \nLECT-AY-1/10-CONTINUING               2,536.0        2,536.0   \nLECT-AY-CONTINUING                      878.0          878.0   \nLECT-FY                                   8.0            8.0   \nSR LECT-AY                          127,574.0      149,675.0   \nSR LECT-AY-CONTINUING                20,743.0       20,743.0   \nTEACHER-SPEC PROG                       460.0          460.0   \nTEACHER-SPEC PROG-CONTINUING            320.0        4,440.0   \n\n                                 std Regular Pay       std Gross Pay  \nTitle                                                                 \nCONTINUING APPT-TEMP AUG     28,840.412514386822  50,204.41077153148  \nCOORD FLD WK-AY-CONTINUING                   NaN                 NaN  \nCOORD FLD WK-FY-CONTINUING                   NaN                 NaN  \nFLD WK CONSULT-AY             35,327.61633555795  43,111.90065675712  \nFLD WK CONSULT-AY-CONTINUING 16,063.115243729448 19,074.842087594505  \nFLD WK SUPV-AY                               NaN                 NaN  \nFLD WK SUPV-FY                37,060.73963302755  38,373.82749961995  \nLECT IN SUMMER SESSION       15,722.225210652214 18,471.863414343174  \nLECT-AY                      28,266.168400104518  32,941.21504651458  \nLECT-AY-1/10                 17,661.821955508458  25,189.38287987274  \nLECT-AY-1/10-CONTINUING       8,988.271908682544  8,987.402586807433  \nLECT-AY-CONTINUING            37,851.93957363845 53,067.403104646146  \nLECT-FY                      22,071.297572326966  22,874.29936654709  \nSR LECT-AY                                   NaN                 NaN  \nSR LECT-AY-CONTINUING         50,265.32290484735  83,998.72174563134  \nTEACHER-SPEC PROG             6,996.214510350996  8,882.165425277744  \nTEACHER-SPEC PROG-CONTINUING  337.64507992861377 2,718.2936191662593  ",
      "text/html": "<div>\n<style scoped>\n    .dataframe tbody tr th:only-of-type {\n        vertical-align: middle;\n    }\n\n    .dataframe tbody tr th {\n        vertical-align: top;\n    }\n\n    .dataframe thead th {\n        text-align: right;\n    }\n</style>\n<table border=\"1\" class=\"dataframe\">\n  <thead>\n    <tr style=\"text-align: right;\">\n      <th></th>\n      <th>count Regular Pay</th>\n      <th>25% Regular Pay</th>\n      <th>25% Gross Pay</th>\n      <th>50% Regular Pay</th>\n      <th>50% Gross Pay</th>\n      <th>mean Regular Pay</th>\n      <th>mean Gross Pay</th>\n      <th>min Regular Pay</th>\n      <th>min Gross Pay</th>\n      <th>std Regular Pay</th>\n      <th>std Gross Pay</th>\n    </tr>\n    <tr>\n      <th>Title</th>\n      <th></th>\n      <th></th>\n      <th></th>\n      <th></th>\n      <th></th>\n      <th></th>\n      <th></th>\n      <th></th>\n      <th></th>\n      <th></th>\n      <th></th>\n    </tr>\n  </thead>\n  <tbody>\n    <tr>\n      <th>CONTINUING APPT-TEMP AUG</th>\n      <td>4.0</td>\n      <td>47,833.25</td>\n      <td>47,833.25</td>\n      <td>62,580.0</td>\n      <td>62,580.0</td>\n      <td>64,723.0</td>\n      <td>76,528.25</td>\n      <td>33,074.0</td>\n      <td>33,074.0</td>\n      <td>28,840.412514386822</td>\n      <td>50,204.41077153148</td>\n    </tr>\n    <tr>\n      <th>COORD FLD WK-AY-CONTINUING</th>\n      <td>1.0</td>\n      <td>134,393.0</td>\n      <td>157,374.0</td>\n      <td>134,393.0</td>\n      <td>157,374.0</td>\n      <td>134,393.0</td>\n      <td>157,374.0</td>\n      <td>134,393.0</td>\n      <td>157,374.0</td>\n      <td>NaN</td>\n      <td>NaN</td>\n    </tr>\n    <tr>\n      <th>COORD FLD WK-FY-CONTINUING</th>\n      <td>1.0</td>\n      <td>154,088.0</td>\n      <td>154,088.0</td>\n      <td>154,088.0</td>\n      <td>154,088.0</td>\n      <td>154,088.0</td>\n      <td>154,088.0</td>\n      <td>154,088.0</td>\n      <td>154,088.0</td>\n      <td>NaN</td>\n      <td>NaN</td>\n    </tr>\n    <tr>\n      <th>FLD WK CONSULT-AY</th>\n      <td>7.0</td>\n      <td>22,117.0</td>\n      <td>22,117.0</td>\n      <td>37,868.0</td>\n      <td>37,868.0</td>\n      <td>45,595.57142857143</td>\n      <td>50,422.71428571428</td>\n      <td>7,037.0</td>\n      <td>7,037.0</td>\n      <td>35,327.61633555795</td>\n      <td>43,111.90065675712</td>\n    </tr>\n    <tr>\n      <th>FLD WK CONSULT-AY-CONTINUING</th>\n      <td>4.0</td>\n      <td>92,700.75</td>\n      <td>106,782.25</td>\n      <td>102,080.0</td>\n      <td>117,022.0</td>\n      <td>95,489.0</td>\n      <td>112,782.0</td>\n      <td>71,739.0</td>\n      <td>86,218.0</td>\n      <td>16,063.115243729448</td>\n      <td>19,074.842087594505</td>\n    </tr>\n    <tr>\n      <th>FLD WK SUPV-AY</th>\n      <td>1.0</td>\n      <td>4,792.0</td>\n      <td>4,792.0</td>\n      <td>4,792.0</td>\n      <td>4,792.0</td>\n      <td>4,792.0</td>\n      <td>4,792.0</td>\n      <td>4,792.0</td>\n      <td>4,792.0</td>\n      <td>NaN</td>\n      <td>NaN</td>\n    </tr>\n    <tr>\n      <th>FLD WK SUPV-FY</th>\n      <td>18.0</td>\n      <td>24,383.75</td>\n      <td>24,744.5</td>\n      <td>34,465.5</td>\n      <td>34,465.5</td>\n      <td>48,870.166666666664</td>\n      <td>50,687.166666666664</td>\n      <td>3,289.0</td>\n      <td>3,289.0</td>\n      <td>37,060.73963302755</td>\n      <td>38,373.82749961995</td>\n    </tr>\n    <tr>\n      <th>LECT IN SUMMER SESSION</th>\n      <td>47.0</td>\n      <td>8,831.5</td>\n      <td>15,472.0</td>\n      <td>12,404.0</td>\n      <td>19,903.0</td>\n      <td>18,302.76595744681</td>\n      <td>26,644.957446808512</td>\n      <td>1,128.0</td>\n      <td>2,285.0</td>\n      <td>15,722.225210652214</td>\n      <td>18,471.863414343174</td>\n    </tr>\n    <tr>\n      <th>LECT-AY</th>\n      <td>319.0</td>\n      <td>10,495.0</td>\n      <td>10,830.5</td>\n      <td>27,477.0</td>\n      <td>30,204.0</td>\n      <td>33,690.53605015674</td>\n      <td>37,915.416927899685</td>\n      <td>47.0</td>\n      <td>47.0</td>\n      <td>28,266.168400104518</td>\n      <td>32,941.21504651458</td>\n    </tr>\n    <tr>\n      <th>LECT-AY-1/10</th>\n      <td>575.0</td>\n      <td>3,665.0</td>\n      <td>4,041.5</td>\n      <td>8,161.0</td>\n      <td>8,546.0</td>\n      <td>12,928.281739130434</td>\n      <td>14,775.542608695652</td>\n      <td>460.0</td>\n      <td>460.0</td>\n      <td>17,661.821955508458</td>\n      <td>25,189.38287987274</td>\n    </tr>\n    <tr>\n      <th>LECT-AY-1/10-CONTINUING</th>\n      <td>17.0</td>\n      <td>6,731.0</td>\n      <td>6,731.0</td>\n      <td>13,519.0</td>\n      <td>16,223.0</td>\n      <td>13,891.823529411764</td>\n      <td>14,846.588235294117</td>\n      <td>2,536.0</td>\n      <td>2,536.0</td>\n      <td>8,988.271908682544</td>\n      <td>8,987.402586807433</td>\n    </tr>\n    <tr>\n      <th>LECT-AY-CONTINUING</th>\n      <td>237.0</td>\n      <td>39,683.0</td>\n      <td>41,748.0</td>\n      <td>67,691.0</td>\n      <td>71,293.0</td>\n      <td>66,718.54430379746</td>\n      <td>75,271.90717299578</td>\n      <td>878.0</td>\n      <td>878.0</td>\n      <td>37,851.93957363845</td>\n      <td>53,067.403104646146</td>\n    </tr>\n    <tr>\n      <th>LECT-FY</th>\n      <td>96.0</td>\n      <td>5,917.75</td>\n      <td>6,272.75</td>\n      <td>11,786.5</td>\n      <td>11,786.5</td>\n      <td>19,260.489583333332</td>\n      <td>19,618.760416666668</td>\n      <td>8.0</td>\n      <td>8.0</td>\n      <td>22,071.297572326966</td>\n      <td>22,874.29936654709</td>\n    </tr>\n    <tr>\n      <th>SR LECT-AY</th>\n      <td>1.0</td>\n      <td>127,574.0</td>\n      <td>149,675.0</td>\n      <td>127,574.0</td>\n      <td>149,675.0</td>\n      <td>127,574.0</td>\n      <td>149,675.0</td>\n      <td>127,574.0</td>\n      <td>149,675.0</td>\n      <td>NaN</td>\n      <td>NaN</td>\n    </tr>\n    <tr>\n      <th>SR LECT-AY-CONTINUING</th>\n      <td>21.0</td>\n      <td>88,176.0</td>\n      <td>93,039.0</td>\n      <td>104,835.0</td>\n      <td>105,457.0</td>\n      <td>106,486.85714285714</td>\n      <td>128,271.0</td>\n      <td>20,743.0</td>\n      <td>20,743.0</td>\n      <td>50,265.32290484735</td>\n      <td>83,998.72174563134</td>\n    </tr>\n    <tr>\n      <th>TEACHER-SPEC PROG</th>\n      <td>79.0</td>\n      <td>2,601.0</td>\n      <td>2,601.0</td>\n      <td>4,001.0</td>\n      <td>5,201.0</td>\n      <td>5,959.594936708861</td>\n      <td>6,868.354430379747</td>\n      <td>460.0</td>\n      <td>460.0</td>\n      <td>6,996.214510350996</td>\n      <td>8,882.165425277744</td>\n    </tr>\n    <tr>\n      <th>TEACHER-SPEC PROG-CONTINUING</th>\n      <td>5.0</td>\n      <td>480.0</td>\n      <td>5,490.0</td>\n      <td>600.0</td>\n      <td>8,100.0</td>\n      <td>702.2</td>\n      <td>7,730.2</td>\n      <td>320.0</td>\n      <td>4,440.0</td>\n      <td>337.64507992861377</td>\n      <td>2,718.2936191662593</td>\n    </tr>\n  </tbody>\n</table>\n</div>"
     },
     "metadata": {}
    }
   ]
  },
  {
   "cell_type": "code",
   "metadata": {
    "tags": [],
    "cell_id": "00015-754bf7b4-a20d-48a1-8d72-d7a5960cd28b",
    "deepnote_to_be_reexecuted": false,
    "source_hash": "2aa881c7",
    "execution_start": 1634635420828,
    "execution_millis": 785,
    "deepnote_cell_type": "code"
   },
   "source": "non_senate_counts['Location'].unique()\n\n# .groupby('Title')['Title'].count().reset_index(name='count').sort_values(['count'])\n",
   "execution_count": null,
   "outputs": [
    {
     "output_type": "error",
     "ename": "NameError",
     "evalue": "name 'non_senate_counts' is not defined",
     "traceback": [
      "\u001b[0;31m---------------------------------------------------------------------------\u001b[0m",
      "\u001b[0;31mNameError\u001b[0m                                 Traceback (most recent call last)",
      "\u001b[0;32m<ipython-input-10-bb5d4d1d52e3>\u001b[0m in \u001b[0;36m<module>\u001b[0;34m\u001b[0m\n\u001b[0;32m----> 1\u001b[0;31m \u001b[0mnon_senate_counts\u001b[0m\u001b[0;34m[\u001b[0m\u001b[0;34m'Location'\u001b[0m\u001b[0;34m]\u001b[0m\u001b[0;34m.\u001b[0m\u001b[0munique\u001b[0m\u001b[0;34m(\u001b[0m\u001b[0;34m)\u001b[0m\u001b[0;34m\u001b[0m\u001b[0;34m\u001b[0m\u001b[0m\n\u001b[0m\u001b[1;32m      2\u001b[0m \u001b[0;34m\u001b[0m\u001b[0m\n\u001b[1;32m      3\u001b[0m \u001b[0;31m# .groupby('Title')['Title'].count().reset_index(name='count').sort_values(['count'])\u001b[0m\u001b[0;34m\u001b[0m\u001b[0;34m\u001b[0m\u001b[0;34m\u001b[0m\u001b[0m\n",
      "\u001b[0;31mNameError\u001b[0m: name 'non_senate_counts' is not defined"
     ]
    }
   ]
  },
  {
   "cell_type": "code",
   "metadata": {
    "tags": [],
    "cell_id": "00016-61712f2b-141e-413a-bb00-bdd2d4ad5a00",
    "deepnote_to_be_reexecuted": true,
    "source_hash": "9e774b9b",
    "execution_start": 1633748902138,
    "execution_millis": 136,
    "deepnote_cell_type": "code"
   },
   "source": "lpsoe_all_uc['Gross Pay'].describe()",
   "execution_count": null,
   "outputs": [
    {
     "output_type": "execute_result",
     "execution_count": 9,
     "data": {
      "text/plain": "count                 427.0\nmean    133,328.38641686182\nstd     51,626.422594984884\nmin                 7,308.0\n25%               104,400.0\n50%               125,461.0\n75%               156,793.0\nmax               370,311.0\nName: Gross Pay, dtype: float64"
     },
     "metadata": {}
    }
   ]
  },
  {
   "cell_type": "code",
   "metadata": {
    "tags": [],
    "cell_id": "00017-c9327295-32df-46d8-b7e0-e9810cce769d",
    "deepnote_to_be_reexecuted": true,
    "source_hash": "4a5ec499",
    "execution_start": 1633749015262,
    "execution_millis": 104,
    "deepnote_cell_type": "code"
   },
   "source": "filter_by_school(lpsoe_all_uc, 'Berkeley').groupby('Title')['Regular Pay'].describe()",
   "execution_count": null,
   "outputs": [
    {
     "output_type": "execute_result",
     "execution_count": 11,
     "data": {
      "application/vnd.deepnote.dataframe.v2+json": {
       "row_count": 8,
       "column_count": 8,
       "columns": [
        {
         "name": "count",
         "dtype": "float64",
         "stats": {
          "unique_count": 5,
          "nan_count": 0,
          "min": "1.0",
          "max": "6.0",
          "histogram": [
           {
            "bin_start": 1,
            "bin_end": 1.5,
            "count": 2
           },
           {
            "bin_start": 1.5,
            "bin_end": 2,
            "count": 0
           },
           {
            "bin_start": 2,
            "bin_end": 2.5,
            "count": 1
           },
           {
            "bin_start": 2.5,
            "bin_end": 3,
            "count": 0
           },
           {
            "bin_start": 3,
            "bin_end": 3.5,
            "count": 2
           },
           {
            "bin_start": 3.5,
            "bin_end": 4,
            "count": 0
           },
           {
            "bin_start": 4,
            "bin_end": 4.5,
            "count": 1
           },
           {
            "bin_start": 4.5,
            "bin_end": 5,
            "count": 0
           },
           {
            "bin_start": 5,
            "bin_end": 5.5,
            "count": 0
           },
           {
            "bin_start": 5.5,
            "bin_end": 6,
            "count": 2
           }
          ]
         }
        },
        {
         "name": "mean",
         "dtype": "float64",
         "stats": {
          "unique_count": 8,
          "nan_count": 0,
          "min": "46250.0",
          "max": "281555.3333333333",
          "histogram": [
           {
            "bin_start": 46250,
            "bin_end": 69780.53333333333,
            "count": 1
           },
           {
            "bin_start": 69780.53333333333,
            "bin_end": 93311.06666666667,
            "count": 1
           },
           {
            "bin_start": 93311.06666666667,
            "bin_end": 116841.6,
            "count": 1
           },
           {
            "bin_start": 116841.6,
            "bin_end": 140372.13333333333,
            "count": 2
           },
           {
            "bin_start": 140372.13333333333,
            "bin_end": 163902.66666666666,
            "count": 2
           },
           {
            "bin_start": 163902.66666666666,
            "bin_end": 187433.2,
            "count": 0
           },
           {
            "bin_start": 187433.2,
            "bin_end": 210963.73333333334,
            "count": 0
           },
           {
            "bin_start": 210963.73333333334,
            "bin_end": 234494.26666666666,
            "count": 0
           },
           {
            "bin_start": 234494.26666666666,
            "bin_end": 258024.8,
            "count": 0
           },
           {
            "bin_start": 258024.8,
            "bin_end": 281555.3333333333,
            "count": 1
           }
          ]
         }
        },
        {
         "name": "std",
         "dtype": "float64",
         "stats": {
          "unique_count": 6,
          "nan_count": 2,
          "min": "2327.7955236661146",
          "max": "33655.52579691285",
          "histogram": [
           {
            "bin_start": 2327.7955236661146,
            "bin_end": 5460.568550990788,
            "count": 2
           },
           {
            "bin_start": 5460.568550990788,
            "bin_end": 8593.341578315461,
            "count": 0
           },
           {
            "bin_start": 8593.341578315461,
            "bin_end": 11726.114605640134,
            "count": 0
           },
           {
            "bin_start": 11726.114605640134,
            "bin_end": 14858.887632964808,
            "count": 2
           },
           {
            "bin_start": 14858.887632964808,
            "bin_end": 17991.660660289483,
            "count": 1
           },
           {
            "bin_start": 17991.660660289483,
            "bin_end": 21124.433687614153,
            "count": 0
           },
           {
            "bin_start": 21124.433687614153,
            "bin_end": 24257.206714938828,
            "count": 0
           },
           {
            "bin_start": 24257.206714938828,
            "bin_end": 27389.979742263502,
            "count": 0
           },
           {
            "bin_start": 27389.979742263502,
            "bin_end": 30522.752769588176,
            "count": 0
           },
           {
            "bin_start": 30522.752769588176,
            "bin_end": 33655.52579691285,
            "count": 1
           }
          ]
         }
        },
        {
         "name": "min",
         "dtype": "float64",
         "stats": {
          "unique_count": 8,
          "nan_count": 0,
          "min": "46250.0",
          "max": "270300.0",
          "histogram": [
           {
            "bin_start": 46250,
            "bin_end": 68655,
            "count": 2
           },
           {
            "bin_start": 68655,
            "bin_end": 91060,
            "count": 1
           },
           {
            "bin_start": 91060,
            "bin_end": 113465,
            "count": 0
           },
           {
            "bin_start": 113465,
            "bin_end": 135870,
            "count": 3
           },
           {
            "bin_start": 135870,
            "bin_end": 158275,
            "count": 1
           },
           {
            "bin_start": 158275,
            "bin_end": 180680,
            "count": 0
           },
           {
            "bin_start": 180680,
            "bin_end": 203085,
            "count": 0
           },
           {
            "bin_start": 203085,
            "bin_end": 225490,
            "count": 0
           },
           {
            "bin_start": 225490,
            "bin_end": 247895,
            "count": 0
           },
           {
            "bin_start": 247895,
            "bin_end": 270300,
            "count": 1
           }
          ]
         }
        },
        {
         "name": "25%",
         "dtype": "float64",
         "stats": {
          "unique_count": 8,
          "nan_count": 0,
          "min": "46250.0",
          "max": "273666.5",
          "histogram": [
           {
            "bin_start": 46250,
            "bin_end": 68991.65,
            "count": 1
           },
           {
            "bin_start": 68991.65,
            "bin_end": 91733.3,
            "count": 1
           },
           {
            "bin_start": 91733.3,
            "bin_end": 114474.95000000001,
            "count": 1
           },
           {
            "bin_start": 114474.95000000001,
            "bin_end": 137216.6,
            "count": 2
           },
           {
            "bin_start": 137216.6,
            "bin_end": 159958.25,
            "count": 2
           },
           {
            "bin_start": 159958.25,
            "bin_end": 182699.90000000002,
            "count": 0
           },
           {
            "bin_start": 182699.90000000002,
            "bin_end": 205441.55000000002,
            "count": 0
           },
           {
            "bin_start": 205441.55000000002,
            "bin_end": 228183.2,
            "count": 0
           },
           {
            "bin_start": 228183.2,
            "bin_end": 250924.85,
            "count": 0
           },
           {
            "bin_start": 250924.85,
            "bin_end": 273666.5,
            "count": 1
           }
          ]
         }
        },
        {
         "name": "50%",
         "dtype": "float64",
         "stats": {
          "unique_count": 8,
          "nan_count": 0,
          "min": "46250.0",
          "max": "277033.0",
          "histogram": [
           {
            "bin_start": 46250,
            "bin_end": 69328.3,
            "count": 1
           },
           {
            "bin_start": 69328.3,
            "bin_end": 92406.6,
            "count": 1
           },
           {
            "bin_start": 92406.6,
            "bin_end": 115484.9,
            "count": 1
           },
           {
            "bin_start": 115484.9,
            "bin_end": 138563.2,
            "count": 2
           },
           {
            "bin_start": 138563.2,
            "bin_end": 161641.5,
            "count": 2
           },
           {
            "bin_start": 161641.5,
            "bin_end": 184719.8,
            "count": 0
           },
           {
            "bin_start": 184719.8,
            "bin_end": 207798.1,
            "count": 0
           },
           {
            "bin_start": 207798.1,
            "bin_end": 230876.4,
            "count": 0
           },
           {
            "bin_start": 230876.4,
            "bin_end": 253954.69999999998,
            "count": 0
           },
           {
            "bin_start": 253954.69999999998,
            "bin_end": 277033,
            "count": 1
           }
          ]
         }
        },
        {
         "name": "75%",
         "dtype": "float64",
         "stats": {
          "unique_count": 8,
          "nan_count": 0,
          "min": "46250.0",
          "max": "287183.0",
          "histogram": [
           {
            "bin_start": 46250,
            "bin_end": 70343.3,
            "count": 1
           },
           {
            "bin_start": 70343.3,
            "bin_end": 94436.6,
            "count": 1
           },
           {
            "bin_start": 94436.6,
            "bin_end": 118529.9,
            "count": 1
           },
           {
            "bin_start": 118529.9,
            "bin_end": 142623.2,
            "count": 2
           },
           {
            "bin_start": 142623.2,
            "bin_end": 166716.5,
            "count": 2
           },
           {
            "bin_start": 166716.5,
            "bin_end": 190809.8,
            "count": 0
           },
           {
            "bin_start": 190809.8,
            "bin_end": 214903.1,
            "count": 0
           },
           {
            "bin_start": 214903.1,
            "bin_end": 238996.4,
            "count": 0
           },
           {
            "bin_start": 238996.4,
            "bin_end": 263089.69999999995,
            "count": 0
           },
           {
            "bin_start": 263089.69999999995,
            "bin_end": 287183,
            "count": 1
           }
          ]
         }
        },
        {
         "name": "max",
         "dtype": "float64",
         "stats": {
          "unique_count": 8,
          "nan_count": 0,
          "min": "46250.0",
          "max": "297333.0",
          "histogram": [
           {
            "bin_start": 46250,
            "bin_end": 71358.3,
            "count": 1
           },
           {
            "bin_start": 71358.3,
            "bin_end": 96466.6,
            "count": 1
           },
           {
            "bin_start": 96466.6,
            "bin_end": 121574.9,
            "count": 1
           },
           {
            "bin_start": 121574.9,
            "bin_end": 146683.2,
            "count": 1
           },
           {
            "bin_start": 146683.2,
            "bin_end": 171791.5,
            "count": 2
           },
           {
            "bin_start": 171791.5,
            "bin_end": 196899.8,
            "count": 1
           },
           {
            "bin_start": 196899.8,
            "bin_end": 222008.1,
            "count": 0
           },
           {
            "bin_start": 222008.1,
            "bin_end": 247116.4,
            "count": 0
           },
           {
            "bin_start": 247116.4,
            "bin_end": 272224.69999999995,
            "count": 0
           },
           {
            "bin_start": 272224.69999999995,
            "bin_end": 297333,
            "count": 1
           }
          ]
         }
        },
        {
         "name": "_deepnote_index_column",
         "dtype": "object"
        }
       ],
       "rows_top": [
        {
         "count": 1,
         "mean": 46250,
         "std": "nan",
         "min": 46250,
         "25%": 46250,
         "50%": 46250,
         "75%": 46250,
         "max": 46250,
         "_deepnote_index_column": "ACT LECT PSOE-AY-B/E/E"
        },
        {
         "count": 2,
         "mean": 91046,
         "std": 2327.7955236661146,
         "min": 89400,
         "25%": 90223,
         "50%": 91046,
         "75%": 91869,
         "max": 92692,
         "_deepnote_index_column": "LECT PSOE-AY"
        },
        {
         "count": 1,
         "mean": 117225,
         "std": "nan",
         "min": 117225,
         "25%": 117225,
         "50%": 117225,
         "75%": 117225,
         "max": 117225,
         "_deepnote_index_column": "LECT PSOE-AY-B/E/E"
        },
        {
         "count": 6,
         "mean": 107358.33333333333,
         "std": 33655.52579691285,
         "min": 50000,
         "25%": 100712.5,
         "50%": 110900,
         "75%": 120225,
         "max": 151700,
         "_deepnote_index_column": "LECT SOE-AY"
        },
        {
         "count": 3,
         "mean": 137525,
         "std": 2950.31777949427,
         "min": 134600,
         "25%": 136037.5,
         "50%": 137475,
         "75%": 138987.5,
         "max": 140500,
         "_deepnote_index_column": "LECT SOE-AY-B/E/E"
        },
        {
         "count": 6,
         "mean": 150811,
         "std": 12051.569441363228,
         "min": 132000,
         "25%": 145904,
         "50%": 152000,
         "75%": 156045.5,
         "max": 167600,
         "_deepnote_index_column": "SR LECT SOE-AY"
        },
        {
         "count": 4,
         "mean": 156685.5,
         "std": 15907.752020110614,
         "min": 141700,
         "25%": 145825,
         "50%": 153800,
         "75%": 164660.5,
         "max": 177442,
         "_deepnote_index_column": "SR LECT SOE-AY-B/E/E"
        },
        {
         "count": 3,
         "mean": 281555.3333333333,
         "std": 14072.469446878658,
         "min": 270300,
         "25%": 273666.5,
         "50%": 277033,
         "75%": 287183,
         "max": 297333,
         "_deepnote_index_column": "SR LECT SOE-AY-LAW"
        }
       ],
       "rows_bottom": null
      },
      "text/plain": "                        count                mean                 std  \\\nTitle                                                                   \nACT LECT PSOE-AY-B/E/E    1.0            46,250.0                 NaN   \nLECT PSOE-AY              2.0            91,046.0 2,327.7955236661146   \nLECT PSOE-AY-B/E/E        1.0           117,225.0                 NaN   \nLECT SOE-AY               6.0 107,358.33333333333  33,655.52579691285   \nLECT SOE-AY-B/E/E         3.0           137,525.0   2,950.31777949427   \nSR LECT SOE-AY            6.0           150,811.0 12,051.569441363228   \nSR LECT SOE-AY-B/E/E      4.0           156,685.5 15,907.752020110614   \nSR LECT SOE-AY-LAW        3.0  281,555.3333333333 14,072.469446878658   \n\n                             min       25%       50%       75%       max  \nTitle                                                                     \nACT LECT PSOE-AY-B/E/E  46,250.0  46,250.0  46,250.0  46,250.0  46,250.0  \nLECT PSOE-AY            89,400.0  90,223.0  91,046.0  91,869.0  92,692.0  \nLECT PSOE-AY-B/E/E     117,225.0 117,225.0 117,225.0 117,225.0 117,225.0  \nLECT SOE-AY             50,000.0 100,712.5 110,900.0 120,225.0 151,700.0  \nLECT SOE-AY-B/E/E      134,600.0 136,037.5 137,475.0 138,987.5 140,500.0  \nSR LECT SOE-AY         132,000.0 145,904.0 152,000.0 156,045.5 167,600.0  \nSR LECT SOE-AY-B/E/E   141,700.0 145,825.0 153,800.0 164,660.5 177,442.0  \nSR LECT SOE-AY-LAW     270,300.0 273,666.5 277,033.0 287,183.0 297,333.0  ",
      "text/html": "<div>\n<style scoped>\n    .dataframe tbody tr th:only-of-type {\n        vertical-align: middle;\n    }\n\n    .dataframe tbody tr th {\n        vertical-align: top;\n    }\n\n    .dataframe thead th {\n        text-align: right;\n    }\n</style>\n<table border=\"1\" class=\"dataframe\">\n  <thead>\n    <tr style=\"text-align: right;\">\n      <th></th>\n      <th>count</th>\n      <th>mean</th>\n      <th>std</th>\n      <th>min</th>\n      <th>25%</th>\n      <th>50%</th>\n      <th>75%</th>\n      <th>max</th>\n    </tr>\n    <tr>\n      <th>Title</th>\n      <th></th>\n      <th></th>\n      <th></th>\n      <th></th>\n      <th></th>\n      <th></th>\n      <th></th>\n      <th></th>\n    </tr>\n  </thead>\n  <tbody>\n    <tr>\n      <th>ACT LECT PSOE-AY-B/E/E</th>\n      <td>1.0</td>\n      <td>46,250.0</td>\n      <td>NaN</td>\n      <td>46,250.0</td>\n      <td>46,250.0</td>\n      <td>46,250.0</td>\n      <td>46,250.0</td>\n      <td>46,250.0</td>\n    </tr>\n    <tr>\n      <th>LECT PSOE-AY</th>\n      <td>2.0</td>\n      <td>91,046.0</td>\n      <td>2,327.7955236661146</td>\n      <td>89,400.0</td>\n      <td>90,223.0</td>\n      <td>91,046.0</td>\n      <td>91,869.0</td>\n      <td>92,692.0</td>\n    </tr>\n    <tr>\n      <th>LECT PSOE-AY-B/E/E</th>\n      <td>1.0</td>\n      <td>117,225.0</td>\n      <td>NaN</td>\n      <td>117,225.0</td>\n      <td>117,225.0</td>\n      <td>117,225.0</td>\n      <td>117,225.0</td>\n      <td>117,225.0</td>\n    </tr>\n    <tr>\n      <th>LECT SOE-AY</th>\n      <td>6.0</td>\n      <td>107,358.33333333333</td>\n      <td>33,655.52579691285</td>\n      <td>50,000.0</td>\n      <td>100,712.5</td>\n      <td>110,900.0</td>\n      <td>120,225.0</td>\n      <td>151,700.0</td>\n    </tr>\n    <tr>\n      <th>LECT SOE-AY-B/E/E</th>\n      <td>3.0</td>\n      <td>137,525.0</td>\n      <td>2,950.31777949427</td>\n      <td>134,600.0</td>\n      <td>136,037.5</td>\n      <td>137,475.0</td>\n      <td>138,987.5</td>\n      <td>140,500.0</td>\n    </tr>\n    <tr>\n      <th>SR LECT SOE-AY</th>\n      <td>6.0</td>\n      <td>150,811.0</td>\n      <td>12,051.569441363228</td>\n      <td>132,000.0</td>\n      <td>145,904.0</td>\n      <td>152,000.0</td>\n      <td>156,045.5</td>\n      <td>167,600.0</td>\n    </tr>\n    <tr>\n      <th>SR LECT SOE-AY-B/E/E</th>\n      <td>4.0</td>\n      <td>156,685.5</td>\n      <td>15,907.752020110614</td>\n      <td>141,700.0</td>\n      <td>145,825.0</td>\n      <td>153,800.0</td>\n      <td>164,660.5</td>\n      <td>177,442.0</td>\n    </tr>\n    <tr>\n      <th>SR LECT SOE-AY-LAW</th>\n      <td>3.0</td>\n      <td>281,555.3333333333</td>\n      <td>14,072.469446878658</td>\n      <td>270,300.0</td>\n      <td>273,666.5</td>\n      <td>277,033.0</td>\n      <td>287,183.0</td>\n      <td>297,333.0</td>\n    </tr>\n  </tbody>\n</table>\n</div>"
     },
     "metadata": {}
    }
   ]
  },
  {
   "cell_type": "code",
   "metadata": {
    "tags": [],
    "cell_id": "00005-85a8f5e4-37fa-4b59-a23a-8e9ec4a66eae",
    "deepnote_to_be_reexecuted": true,
    "source_hash": "8a6c4f98",
    "execution_start": 1633658324746,
    "execution_millis": 0,
    "deepnote_cell_type": "code"
   },
   "source": "# all_berkeley_salaries.groupby('Title')['Title'].count().reset_index(name='count').sort_values(['count'])",
   "execution_count": null,
   "outputs": []
  },
  {
   "cell_type": "code",
   "metadata": {
    "tags": [],
    "cell_id": "00006-984aa013-0e9b-4108-b6b0-18aca75e49ac",
    "deepnote_to_be_reexecuted": true,
    "source_hash": "3ffe6823",
    "execution_start": 1633679903753,
    "execution_millis": 18,
    "deepnote_cell_type": "code"
   },
   "source": "lect_salaries_2020.groupby('Title')['Title'].count().reset_index(name='count').sort_values(['count']) # .to_csv('titles_and_counts.csv')",
   "execution_count": null,
   "outputs": [
    {
     "output_type": "execute_result",
     "execution_count": 188,
     "data": {
      "application/vnd.deepnote.dataframe.v2+json": {
       "row_count": 24,
       "column_count": 2,
       "columns": [
        {
         "name": "Title",
         "dtype": "object",
         "stats": {
          "unique_count": 24,
          "nan_count": 0,
          "categories": [
           {
            "name": "COORD FLD WK-AY-CONTINUING",
            "count": 1
           },
           {
            "name": "COORD FLD WK-FY",
            "count": 1
           },
           {
            "name": "22 others",
            "count": 22
           }
          ]
         }
        },
        {
         "name": "count",
         "dtype": "int64",
         "stats": {
          "unique_count": 20,
          "nan_count": 0,
          "min": "1",
          "max": "1713",
          "histogram": [
           {
            "bin_start": 1,
            "bin_end": 172.2,
            "count": 18
           },
           {
            "bin_start": 172.2,
            "bin_end": 343.4,
            "count": 1
           },
           {
            "bin_start": 343.4,
            "bin_end": 514.5999999999999,
            "count": 0
           },
           {
            "bin_start": 514.5999999999999,
            "bin_end": 685.8,
            "count": 1
           },
           {
            "bin_start": 685.8,
            "bin_end": 857,
            "count": 1
           },
           {
            "bin_start": 857,
            "bin_end": 1028.1999999999998,
            "count": 0
           },
           {
            "bin_start": 1028.1999999999998,
            "bin_end": 1199.3999999999999,
            "count": 1
           },
           {
            "bin_start": 1199.3999999999999,
            "bin_end": 1370.6,
            "count": 1
           },
           {
            "bin_start": 1370.6,
            "bin_end": 1541.8,
            "count": 0
           },
           {
            "bin_start": 1541.8,
            "bin_end": 1713,
            "count": 1
           }
          ]
         }
        },
        {
         "name": "_deepnote_index_column",
         "dtype": "int64"
        }
       ],
       "rows_top": [
        {
         "Title": "COORD FLD WK-AY-CONTINUING",
         "count": 1,
         "_deepnote_index_column": 2
        },
        {
         "Title": "COORD FLD WK-FY",
         "count": 1,
         "_deepnote_index_column": 3
        },
        {
         "Title": "FLD WK SUPV-AY",
         "count": 1,
         "_deepnote_index_column": 7
        },
        {
         "Title": "SR LECT-AY",
         "count": 1,
         "_deepnote_index_column": 19
        },
        {
         "Title": "COORD FLD WK-FY-CONTINUING",
         "count": 2,
         "_deepnote_index_column": 4
        },
        {
         "Title": "SR LECT-AY-1/9-CONTINUING",
         "count": 2,
         "_deepnote_index_column": 20
        },
        {
         "Title": "FLD WK CONSULT-AY-CONTINUING",
         "count": 5,
         "_deepnote_index_column": 6
        },
        {
         "Title": "CONTINUING APPT-TEMP AUG-1/9",
         "count": 7,
         "_deepnote_index_column": 1
        },
        {
         "Title": "FLD WK CONSULT-AY",
         "count": 10,
         "_deepnote_index_column": 5
        },
        {
         "Title": "LECTURER",
         "count": 17,
         "_deepnote_index_column": 18
        },
        {
         "Title": "FLD WK SUPV-FY",
         "count": 18,
         "_deepnote_index_column": 8
        },
        {
         "Title": "LECT-AY-1/10-CONTINUING",
         "count": 19,
         "_deepnote_index_column": 12
        },
        {
         "Title": "CONTINUING APPT-TEMP AUG",
         "count": 31,
         "_deepnote_index_column": 0
        },
        {
         "Title": "TEACHER-SPEC PROG-CONTINUING",
         "count": 40,
         "_deepnote_index_column": 23
        },
        {
         "Title": "SR LECT-AY-CONTINUING",
         "count": 54,
         "_deepnote_index_column": 21
        },
        {
         "Title": "LECT-AY-1/9-CONTINUING",
         "count": 72,
         "_deepnote_index_column": 14
        },
        {
         "Title": "LECT-FY-CONTINUING",
         "count": 94,
         "_deepnote_index_column": 17
        },
        {
         "Title": "TEACHER-SPEC PROG",
         "count": 138,
         "_deepnote_index_column": 22
        },
        {
         "Title": "LECT-FY",
         "count": 299,
         "_deepnote_index_column": 16
        },
        {
         "Title": "LECT IN SUMMER SESSION",
         "count": 558,
         "_deepnote_index_column": 9
        },
        {
         "Title": "LECT-AY-1/10",
         "count": 739,
         "_deepnote_index_column": 11
        },
        {
         "Title": "LECT-AY-CONTINUING",
         "count": 1050,
         "_deepnote_index_column": 15
        },
        {
         "Title": "LECT-AY",
         "count": 1283,
         "_deepnote_index_column": 10
        },
        {
         "Title": "LECT-AY-1/9",
         "count": 1713,
         "_deepnote_index_column": 13
        }
       ],
       "rows_bottom": null
      },
      "text/plain": "                           Title  count\n2     COORD FLD WK-AY-CONTINUING      1\n3                COORD FLD WK-FY      1\n7                 FLD WK SUPV-AY      1\n19                    SR LECT-AY      1\n4     COORD FLD WK-FY-CONTINUING      2\n20     SR LECT-AY-1/9-CONTINUING      2\n6   FLD WK CONSULT-AY-CONTINUING      5\n1   CONTINUING APPT-TEMP AUG-1/9      7\n5              FLD WK CONSULT-AY     10\n18                      LECTURER     17\n8                 FLD WK SUPV-FY     18\n12       LECT-AY-1/10-CONTINUING     19\n0       CONTINUING APPT-TEMP AUG     31\n23  TEACHER-SPEC PROG-CONTINUING     40\n21         SR LECT-AY-CONTINUING     54\n14        LECT-AY-1/9-CONTINUING     72\n17            LECT-FY-CONTINUING     94\n22             TEACHER-SPEC PROG    138\n16                       LECT-FY    299\n9         LECT IN SUMMER SESSION    558\n11                  LECT-AY-1/10    739\n15            LECT-AY-CONTINUING   1050\n10                       LECT-AY   1283\n13                   LECT-AY-1/9   1713",
      "text/html": "<div>\n<style scoped>\n    .dataframe tbody tr th:only-of-type {\n        vertical-align: middle;\n    }\n\n    .dataframe tbody tr th {\n        vertical-align: top;\n    }\n\n    .dataframe thead th {\n        text-align: right;\n    }\n</style>\n<table border=\"1\" class=\"dataframe\">\n  <thead>\n    <tr style=\"text-align: right;\">\n      <th></th>\n      <th>Title</th>\n      <th>count</th>\n    </tr>\n  </thead>\n  <tbody>\n    <tr>\n      <th>2</th>\n      <td>COORD FLD WK-AY-CONTINUING</td>\n      <td>1</td>\n    </tr>\n    <tr>\n      <th>3</th>\n      <td>COORD FLD WK-FY</td>\n      <td>1</td>\n    </tr>\n    <tr>\n      <th>7</th>\n      <td>FLD WK SUPV-AY</td>\n      <td>1</td>\n    </tr>\n    <tr>\n      <th>19</th>\n      <td>SR LECT-AY</td>\n      <td>1</td>\n    </tr>\n    <tr>\n      <th>4</th>\n      <td>COORD FLD WK-FY-CONTINUING</td>\n      <td>2</td>\n    </tr>\n    <tr>\n      <th>20</th>\n      <td>SR LECT-AY-1/9-CONTINUING</td>\n      <td>2</td>\n    </tr>\n    <tr>\n      <th>6</th>\n      <td>FLD WK CONSULT-AY-CONTINUING</td>\n      <td>5</td>\n    </tr>\n    <tr>\n      <th>1</th>\n      <td>CONTINUING APPT-TEMP AUG-1/9</td>\n      <td>7</td>\n    </tr>\n    <tr>\n      <th>5</th>\n      <td>FLD WK CONSULT-AY</td>\n      <td>10</td>\n    </tr>\n    <tr>\n      <th>18</th>\n      <td>LECTURER</td>\n      <td>17</td>\n    </tr>\n    <tr>\n      <th>8</th>\n      <td>FLD WK SUPV-FY</td>\n      <td>18</td>\n    </tr>\n    <tr>\n      <th>12</th>\n      <td>LECT-AY-1/10-CONTINUING</td>\n      <td>19</td>\n    </tr>\n    <tr>\n      <th>0</th>\n      <td>CONTINUING APPT-TEMP AUG</td>\n      <td>31</td>\n    </tr>\n    <tr>\n      <th>23</th>\n      <td>TEACHER-SPEC PROG-CONTINUING</td>\n      <td>40</td>\n    </tr>\n    <tr>\n      <th>21</th>\n      <td>SR LECT-AY-CONTINUING</td>\n      <td>54</td>\n    </tr>\n    <tr>\n      <th>14</th>\n      <td>LECT-AY-1/9-CONTINUING</td>\n      <td>72</td>\n    </tr>\n    <tr>\n      <th>17</th>\n      <td>LECT-FY-CONTINUING</td>\n      <td>94</td>\n    </tr>\n    <tr>\n      <th>22</th>\n      <td>TEACHER-SPEC PROG</td>\n      <td>138</td>\n    </tr>\n    <tr>\n      <th>16</th>\n      <td>LECT-FY</td>\n      <td>299</td>\n    </tr>\n    <tr>\n      <th>9</th>\n      <td>LECT IN SUMMER SESSION</td>\n      <td>558</td>\n    </tr>\n    <tr>\n      <th>11</th>\n      <td>LECT-AY-1/10</td>\n      <td>739</td>\n    </tr>\n    <tr>\n      <th>15</th>\n      <td>LECT-AY-CONTINUING</td>\n      <td>1050</td>\n    </tr>\n    <tr>\n      <th>10</th>\n      <td>LECT-AY</td>\n      <td>1283</td>\n    </tr>\n    <tr>\n      <th>13</th>\n      <td>LECT-AY-1/9</td>\n      <td>1713</td>\n    </tr>\n  </tbody>\n</table>\n</div>"
     },
     "metadata": {}
    }
   ]
  },
  {
   "cell_type": "code",
   "metadata": {
    "tags": [],
    "cell_id": "00006-bddd2d93-7cf9-4917-8cc7-b1b5f77e5f19",
    "deepnote_to_be_reexecuted": true,
    "source_hash": "59ef21aa",
    "execution_start": 1633397117551,
    "execution_millis": 51,
    "deepnote_cell_type": "code"
   },
   "source": "lect_salaries_2020['Gross Pay'].describe()",
   "execution_count": null,
   "outputs": [
    {
     "output_type": "execute_result",
     "execution_count": 13,
     "data": {
      "text/plain": "count      4467.000000\nmean      41921.472353\nstd       42457.076175\nmin           8.000000\n25%        7641.000000\n50%       28191.000000\n75%       66645.500000\nmax      476036.000000\nName: Gross Pay, dtype: float64"
     },
     "metadata": {}
    }
   ]
  },
  {
   "cell_type": "code",
   "metadata": {
    "tags": [],
    "cell_id": "00005-e9784afd-2d4a-4241-999f-2c3ee82d7779",
    "deepnote_to_be_reexecuted": true,
    "source_hash": "15a608f5",
    "execution_start": 1633658436590,
    "execution_millis": 1,
    "deepnote_cell_type": "code"
   },
   "source": "# lect_salaries_2020[['Title', 'Gross Pay']].groupby('Title').describe()",
   "execution_count": null,
   "outputs": []
  },
  {
   "cell_type": "code",
   "metadata": {
    "tags": [],
    "cell_id": "00010-679326bc-3abe-44a7-9905-d5fbea1c5130",
    "deepnote_to_be_reexecuted": true,
    "source_hash": "21477012",
    "execution_start": 1633734196628,
    "execution_millis": 22,
    "deepnote_cell_type": "code"
   },
   "source": "# LECTURERS/UNIT 18 COUNTS\nlect_count = berkeley_lect_salaries_2020['id'].count()\nhalf_lects = int(lect_count * 0.5)\nberkeley_lect_salaries_2020 = filter_by_school(lect_salaries_2020, 'Berkeley')\ntop_42_berkeley = berkeley_lect_salaries_2020.nlargest(int(lect_count * 0.42), PAY_COL)\ntop_20_lects_berkeley = berkeley_lect_salaries_2020.nlargest(20, PAY_COL)\ntop_50pct = berkeley_lect_salaries_2020.nlargest(half_lects, PAY_COL)\ntop_10_lects_berkeley = berkeley_lect_salaries_2020.nlargest(10, PAY_COL)\nbottom_50pct = berkeley_lect_salaries_2020.nsmallest(half_lects, PAY_COL)",
   "execution_count": null,
   "outputs": []
  },
  {
   "cell_type": "code",
   "metadata": {
    "tags": [],
    "cell_id": "00009-46174d82-a568-4271-9c8c-56a5d2131aa4",
    "deepnote_to_be_reexecuted": true,
    "source_hash": "8d5f8465",
    "execution_start": 1633734203943,
    "execution_millis": 240,
    "deepnote_cell_type": "code"
   },
   "source": "instructional = ['Teaching Track', 'Senate', 'Non-Senate', 'Unit 18']\nu18 = 'Unit 18'\nsalaries = (\n    ('All', all_berkeley_salaries, ''),\n    ('Execs (Deans, Directors, Asst Directors)', all_berkeley_salaries, 'Admin'),\n    ('Exec Admin Staff', all_berkeley_salaries, 'Admin Staff'),\n    ('Head Coaches', all_berkeley_salaries, 'Coach'),\n    ('All Athletics', all_berkeley_salaries, ['Coach', 'Athletics']),\n    ('All Instructional Titles', all_berkeley_salaries, instructional),\n    ('Senate Faculty', all_berkeley_salaries, 'Senate'),\n    ('Non-Senate Faculty', all_berkeley_salaries, 'Non-Senate'),\n    ('All P/SOE', all_berkeley_salaries, 'Teaching Track'),\n    ('Unit 18 All', all_berkeley_salaries, u18),\n    ('Unit 18 Botton 50%', bottom_50pct, ''),\n    ('Unit 18 Top 50%', top_50pct, ''),\n    ('Unit 18 Top 20', top_20_lects_berkeley, ''),\n    ('Unit 18 Top 10', top_10_lects_berkeley, ''),\n    ('Students Instructors', all_berkeley_salaries, 'Student Instruction')\n)\n\n# pretty_print_data()\ndef describe(df, stats):\n    return df.agg(stats).append(df.describe())\n\ndef table_data():\n    def make_row(row):\n        description, df, titles = row\n        records = titles_in_category(df, titles)[PAY_COL]\n        # data = records.describe()\n        data = describe(records, ['sum']).rename({ 'sum': 'Total Salary', 'count': 'Count '})\n        # 'Total Salary': f'${data[0]:,}',  'Count': f'{data[1]:,}'\n        result = {'Description': description, 'Categories': titles }\n        result.update(data)\n        return result\n\n    \n    results = map(make_row, salaries)\n    # return list(results)\n    return pd.DataFrame(results)\n\ntable_data()",
   "execution_count": null,
   "outputs": [
    {
     "output_type": "execute_result",
     "execution_count": 40,
     "data": {
      "application/vnd.deepnote.dataframe.v2+json": {
       "row_count": 15,
       "column_count": 11,
       "columns": [
        {
         "name": "Description",
         "dtype": "object",
         "stats": {
          "unique_count": 15,
          "nan_count": 0,
          "categories": [
           {
            "name": "All",
            "count": 1
           },
           {
            "name": "Execs (Deans, Directors, Asst Directors)",
            "count": 1
           },
           {
            "name": "13 others",
            "count": 13
           }
          ]
         }
        },
        {
         "name": "Categories",
         "dtype": "object",
         "stats": {
          "unique_count": 15,
          "nan_count": 0,
          "categories": [
           {
            "name": "",
            "count": 5
           },
           {
            "name": "Admin",
            "count": 1
           },
           {
            "name": "9 others",
            "count": 9
           }
          ]
         }
        },
        {
         "name": "Total Salary",
         "dtype": "float64",
         "stats": {
          "unique_count": 15,
          "nan_count": 0,
          "min": "1953409.0",
          "max": "1279628489.0",
          "histogram": [
           {
            "bin_start": 1953409,
            "bin_end": 129720917,
            "count": 12
           },
           {
            "bin_start": 129720917,
            "bin_end": 257488425,
            "count": 0
           },
           {
            "bin_start": 257488425,
            "bin_end": 385255933,
            "count": 2
           },
           {
            "bin_start": 385255933,
            "bin_end": 513023441,
            "count": 0
           },
           {
            "bin_start": 513023441,
            "bin_end": 640790949,
            "count": 0
           },
           {
            "bin_start": 640790949,
            "bin_end": 768558457,
            "count": 0
           },
           {
            "bin_start": 768558457,
            "bin_end": 896325965,
            "count": 0
           },
           {
            "bin_start": 896325965,
            "bin_end": 1024093473,
            "count": 0
           },
           {
            "bin_start": 1024093473,
            "bin_end": 1151860981,
            "count": 0
           },
           {
            "bin_start": 1151860981,
            "bin_end": 1279628489,
            "count": 1
           }
          ]
         }
        },
        {
         "name": "Count ",
         "dtype": "float64",
         "stats": {
          "unique_count": 14,
          "nan_count": 0,
          "min": "10.0",
          "max": "31176.0",
          "histogram": [
           {
            "bin_start": 10,
            "bin_end": 3126.6,
            "count": 12
           },
           {
            "bin_start": 3126.6,
            "bin_end": 6243.2,
            "count": 2
           },
           {
            "bin_start": 6243.2,
            "bin_end": 9359.8,
            "count": 0
           },
           {
            "bin_start": 9359.8,
            "bin_end": 12476.4,
            "count": 0
           },
           {
            "bin_start": 12476.4,
            "bin_end": 15593,
            "count": 0
           },
           {
            "bin_start": 15593,
            "bin_end": 18709.6,
            "count": 0
           },
           {
            "bin_start": 18709.6,
            "bin_end": 21826.2,
            "count": 0
           },
           {
            "bin_start": 21826.2,
            "bin_end": 24942.8,
            "count": 0
           },
           {
            "bin_start": 24942.8,
            "bin_end": 28059.399999999998,
            "count": 0
           },
           {
            "bin_start": 28059.399999999998,
            "bin_end": 31176,
            "count": 1
           }
          ]
         }
        },
        {
         "name": "mean",
         "dtype": "float64",
         "stats": {
          "unique_count": 15,
          "nan_count": 0,
          "min": "5928.629888268157",
          "max": "288598.65454545454",
          "histogram": [
           {
            "bin_start": 5928.629888268157,
            "bin_end": 34195.632353986795,
            "count": 3
           },
           {
            "bin_start": 34195.632353986795,
            "bin_end": 62462.63481970544,
            "count": 3
           },
           {
            "bin_start": 62462.63481970544,
            "bin_end": 90729.63728542408,
            "count": 1
           },
           {
            "bin_start": 90729.63728542408,
            "bin_end": 118996.63975114272,
            "count": 2
           },
           {
            "bin_start": 118996.63975114272,
            "bin_end": 147263.64221686136,
            "count": 1
           },
           {
            "bin_start": 147263.64221686136,
            "bin_end": 175530.64468258,
            "count": 3
           },
           {
            "bin_start": 175530.64468258,
            "bin_end": 203797.64714829865,
            "count": 1
           },
           {
            "bin_start": 203797.64714829865,
            "bin_end": 232064.64961401728,
            "count": 0
           },
           {
            "bin_start": 232064.64961401728,
            "bin_end": 260331.6520797359,
            "count": 0
           },
           {
            "bin_start": 260331.6520797359,
            "bin_end": 288598.65454545454,
            "count": 1
           }
          ]
         }
        },
        {
         "name": "std",
         "dtype": "float64",
         "stats": {
          "unique_count": 15,
          "nan_count": 0,
          "min": "3870.062007945506",
          "max": "117009.50232704561",
          "histogram": [
           {
            "bin_start": 3870.062007945506,
            "bin_end": 15184.006039855516,
            "count": 2
           },
           {
            "bin_start": 15184.006039855516,
            "bin_end": 26497.95007176553,
            "count": 0
           },
           {
            "bin_start": 26497.95007176553,
            "bin_end": 37811.894103675535,
            "count": 4
           },
           {
            "bin_start": 37811.894103675535,
            "bin_end": 49125.838135585545,
            "count": 0
           },
           {
            "bin_start": 49125.838135585545,
            "bin_end": 60439.782167495556,
            "count": 4
           },
           {
            "bin_start": 60439.782167495556,
            "bin_end": 71753.72619940557,
            "count": 2
           },
           {
            "bin_start": 71753.72619940557,
            "bin_end": 83067.67023131558,
            "count": 1
           },
           {
            "bin_start": 83067.67023131558,
            "bin_end": 94381.6142632256,
            "count": 1
           },
           {
            "bin_start": 94381.6142632256,
            "bin_end": 105695.5582951356,
            "count": 0
           },
           {
            "bin_start": 105695.5582951356,
            "bin_end": 117009.50232704561,
            "count": 1
           }
          ]
         }
        },
        {
         "name": "min",
         "dtype": "float64",
         "stats": {
          "unique_count": 12,
          "nan_count": 0,
          "min": "2.0",
          "max": "161895.0",
          "histogram": [
           {
            "bin_start": 2,
            "bin_end": 16191.3,
            "count": 11
           },
           {
            "bin_start": 16191.3,
            "bin_end": 32380.6,
            "count": 0
           },
           {
            "bin_start": 32380.6,
            "bin_end": 48569.899999999994,
            "count": 1
           },
           {
            "bin_start": 48569.899999999994,
            "bin_end": 64759.2,
            "count": 1
           },
           {
            "bin_start": 64759.2,
            "bin_end": 80948.5,
            "count": 0
           },
           {
            "bin_start": 80948.5,
            "bin_end": 97137.79999999999,
            "count": 0
           },
           {
            "bin_start": 97137.79999999999,
            "bin_end": 113327.09999999999,
            "count": 0
           },
           {
            "bin_start": 113327.09999999999,
            "bin_end": 129516.4,
            "count": 0
           },
           {
            "bin_start": 129516.4,
            "bin_end": 145705.69999999998,
            "count": 1
           },
           {
            "bin_start": 145705.69999999998,
            "bin_end": 161895,
            "count": 1
           }
          ]
         }
        },
        {
         "name": "25%",
         "dtype": "float64",
         "stats": {
          "unique_count": 15,
          "nan_count": 0,
          "min": "2393.0",
          "max": "215055.5",
          "histogram": [
           {
            "bin_start": 2393,
            "bin_end": 23659.25,
            "count": 6
           },
           {
            "bin_start": 23659.25,
            "bin_end": 44925.5,
            "count": 2
           },
           {
            "bin_start": 44925.5,
            "bin_end": 66191.75,
            "count": 1
           },
           {
            "bin_start": 66191.75,
            "bin_end": 87458,
            "count": 0
           },
           {
            "bin_start": 87458,
            "bin_end": 108724.25,
            "count": 0
           },
           {
            "bin_start": 108724.25,
            "bin_end": 129990.5,
            "count": 3
           },
           {
            "bin_start": 129990.5,
            "bin_end": 151256.75,
            "count": 1
           },
           {
            "bin_start": 151256.75,
            "bin_end": 172523,
            "count": 0
           },
           {
            "bin_start": 172523,
            "bin_end": 193789.25,
            "count": 1
           },
           {
            "bin_start": 193789.25,
            "bin_end": 215055.5,
            "count": 1
           }
          ]
         }
        },
        {
         "name": "50%",
         "dtype": "float64",
         "stats": {
          "unique_count": 15,
          "nan_count": 0,
          "min": "5289.5",
          "max": "292700.0",
          "histogram": [
           {
            "bin_start": 5289.5,
            "bin_end": 34030.55,
            "count": 4
           },
           {
            "bin_start": 34030.55,
            "bin_end": 62771.6,
            "count": 3
           },
           {
            "bin_start": 62771.6,
            "bin_end": 91512.65,
            "count": 2
           },
           {
            "bin_start": 91512.65,
            "bin_end": 120253.7,
            "count": 0
           },
           {
            "bin_start": 120253.7,
            "bin_end": 148994.75,
            "count": 2
           },
           {
            "bin_start": 148994.75,
            "bin_end": 177735.8,
            "count": 2
           },
           {
            "bin_start": 177735.8,
            "bin_end": 206476.85,
            "count": 1
           },
           {
            "bin_start": 206476.85,
            "bin_end": 235217.9,
            "count": 0
           },
           {
            "bin_start": 235217.9,
            "bin_end": 263958.94999999995,
            "count": 0
           },
           {
            "bin_start": 263958.94999999995,
            "bin_end": 292700,
            "count": 1
           }
          ]
         }
        },
        {
         "name": "75%",
         "dtype": "float64",
         "stats": {
          "unique_count": 15,
          "nan_count": 0,
          "min": "9303.0",
          "max": "356846.0",
          "histogram": [
           {
            "bin_start": 9303,
            "bin_end": 44057.3,
            "count": 3
           },
           {
            "bin_start": 44057.3,
            "bin_end": 78811.6,
            "count": 2
           },
           {
            "bin_start": 78811.6,
            "bin_end": 113565.90000000001,
            "count": 2
           },
           {
            "bin_start": 113565.90000000001,
            "bin_end": 148320.2,
            "count": 1
           },
           {
            "bin_start": 148320.2,
            "bin_end": 183074.5,
            "count": 3
           },
           {
            "bin_start": 183074.5,
            "bin_end": 217828.80000000002,
            "count": 2
           },
           {
            "bin_start": 217828.80000000002,
            "bin_end": 252583.10000000003,
            "count": 1
           },
           {
            "bin_start": 252583.10000000003,
            "bin_end": 287337.4,
            "count": 0
           },
           {
            "bin_start": 287337.4,
            "bin_end": 322091.7,
            "count": 0
           },
           {
            "bin_start": 322091.7,
            "bin_end": 356846,
            "count": 1
           }
          ]
         }
        },
        {
         "name": "max",
         "dtype": "float64",
         "stats": {
          "unique_count": 10,
          "nan_count": 0,
          "min": "14074.0",
          "max": "571700.0",
          "histogram": [
           {
            "bin_start": 14074,
            "bin_end": 69836.6,
            "count": 2
           },
           {
            "bin_start": 69836.6,
            "bin_end": 125599.2,
            "count": 0
           },
           {
            "bin_start": 125599.2,
            "bin_end": 181361.8,
            "count": 0
           },
           {
            "bin_start": 181361.8,
            "bin_end": 237124.4,
            "count": 4
           },
           {
            "bin_start": 237124.4,
            "bin_end": 292887,
            "count": 2
           },
           {
            "bin_start": 292887,
            "bin_end": 348649.6,
            "count": 3
           },
           {
            "bin_start": 348649.6,
            "bin_end": 404412.2,
            "count": 0
           },
           {
            "bin_start": 404412.2,
            "bin_end": 460174.8,
            "count": 2
           },
           {
            "bin_start": 460174.8,
            "bin_end": 515937.39999999997,
            "count": 0
           },
           {
            "bin_start": 515937.39999999997,
            "bin_end": 571700,
            "count": 2
           }
          ]
         }
        },
        {
         "name": "_deepnote_index_column",
         "dtype": "int64"
        }
       ],
       "rows_top": [
        {
         "Description": "All",
         "Categories": "",
         "Total Salary": 1279628489,
         "Count ": 31176,
         "mean": 41045.30693482166,
         "std": 54132.61225298801,
         "min": 2,
         "25%": 3352,
         "50%": 16677,
         "75%": 62372,
         "max": 571700,
         "_deepnote_index_column": 0
        },
        {
         "Description": "Execs (Deans, Directors, Asst Directors)",
         "Categories": "Admin",
         "Total Salary": 15872926,
         "Count ": 55,
         "mean": 288598.65454545454,
         "std": 117009.50232704561,
         "min": 9871,
         "25%": 215055.5,
         "50%": 292700,
         "75%": 356846,
         "max": 571700,
         "_deepnote_index_column": 1
        },
        {
         "Description": "Exec Admin Staff",
         "Categories": "Admin Staff",
         "Total Salary": 51001366,
         "Count ": 542,
         "mean": 94098.46125461254,
         "std": 53382.46071806265,
         "min": 938,
         "25%": 62562.5,
         "50%": 81753.5,
         "75%": 115833,
         "max": 310716,
         "_deepnote_index_column": 2
        },
        {
         "Description": "Head Coaches",
         "Categories": "Coach",
         "Total Salary": 4260445,
         "Count ": 27,
         "mean": 157794.25925925927,
         "std": 62671.83051885469,
         "min": 56964,
         "25%": 116190,
         "50%": 136688,
         "75%": 204501.5,
         "max": 270417,
         "_deepnote_index_column": 3
        },
        {
         "Description": "All Athletics",
         "Categories": "['Coach', 'Athletics']",
         "Total Salary": 20855786,
         "Count ": 265,
         "mean": 78701.07924528302,
         "std": 62704.28033198396,
         "min": 345,
         "25%": 39886,
         "50%": 60800,
         "75%": 105088,
         "max": 300000,
         "_deepnote_index_column": 4
        },
        {
         "Description": "All Instructional Titles",
         "Categories": "['Teaching Track', 'Senate', 'Non-Senate', 'Unit 18']",
         "Total Salary": 328116246,
         "Count ": 3375,
         "mean": 97219.62844444445,
         "std": 89294.88190878773,
         "min": 8,
         "25%": 14742.5,
         "50%": 78630,
         "75%": 153600,
         "max": 423700,
         "_deepnote_index_column": 5
        },
        {
         "Description": "Senate Faculty",
         "Categories": "Senate",
         "Total Salary": 264443884,
         "Count ": 1615,
         "mean": 163742.34303405572,
         "std": 79036.02877538584,
         "min": 910,
         "25%": 117380.5,
         "50%": 153500,
         "75%": 210185,
         "max": 423700,
         "_deepnote_index_column": 6
        },
        {
         "Description": "Non-Senate Faculty",
         "Categories": "Non-Senate",
         "Total Salary": 17983990,
         "Count ": 301,
         "mean": 59747.47508305648,
         "std": 51967.45646668573,
         "min": 36,
         "25%": 20000,
         "50%": 48250,
         "75%": 85167,
         "max": 268967,
         "_deepnote_index_column": 7
        },
        {
         "Description": "All P/SOE",
         "Categories": "Teaching Track",
         "Total Salary": 3778566,
         "Count ": 26,
         "mean": 145329.46153846153,
         "std": 59756.132152093494,
         "min": 46250,
         "25%": 117918.75,
         "50%": 141100,
         "75%": 156045.5,
         "max": 297333,
         "_deepnote_index_column": 8
        },
        {
         "Description": "Unit 18 All",
         "Categories": "Unit 18",
         "Total Salary": 41909806,
         "Count ": 1433,
         "mean": 29246.200976971388,
         "std": 34155.486636740236,
         "min": 8,
         "25%": 5303,
         "50%": 14074,
         "75%": 43056,
         "max": 232644,
         "_deepnote_index_column": 9
        },
        {
         "Description": "Unit 18 Botton 50%",
         "Categories": "",
         "Total Salary": 4244899,
         "Count ": 716,
         "mean": 5928.629888268157,
         "std": 3870.062007945506,
         "min": 8,
         "25%": 2559.25,
         "50%": 5289.5,
         "75%": 9303,
         "max": 14074,
         "_deepnote_index_column": 10
        },
        {
         "Description": "Unit 18 Top 50%",
         "Categories": "",
         "Total Salary": 37650833,
         "Count ": 716,
         "mean": 52584.96229050279,
         "std": 35088.87663398388,
         "min": 14095,
         "25%": 23723,
         "50%": 43068,
         "75%": 72143,
         "max": 232644,
         "_deepnote_index_column": 11
        },
        {
         "Description": "Unit 18 Top 20",
         "Categories": "",
         "Total Salary": 3387492,
         "Count ": 20,
         "mean": 169374.6,
         "std": 33272.22006166074,
         "min": 134717,
         "25%": 144916,
         "50%": 157991.5,
         "75%": 182931,
         "max": 232644,
         "_deepnote_index_column": 12
        },
        {
         "Description": "Unit 18 Top 10",
         "Categories": "",
         "Total Salary": 1953409,
         "Count ": 10,
         "mean": 195340.9,
         "std": 28167.11616781368,
         "min": 161895,
         "25%": 176447,
         "50%": 182944,
         "75%": 224960,
         "max": 232644,
         "_deepnote_index_column": 13
        },
        {
         "Description": "Students Instructors",
         "Categories": "Student Instruction",
         "Total Salary": 55184682,
         "Count ": 5561,
         "mean": 9923.517712641611,
         "std": 8906.133900704905,
         "min": 8,
         "25%": 2393,
         "50%": 8617,
         "75%": 13631,
         "max": 57335,
         "_deepnote_index_column": 14
        }
       ],
       "rows_bottom": null
      },
      "text/plain": "                                 Description  \\\n0                                        All   \n1   Execs (Deans, Directors, Asst Directors)   \n2                           Exec Admin Staff   \n3                               Head Coaches   \n4                              All Athletics   \n5                   All Instructional Titles   \n6                             Senate Faculty   \n7                         Non-Senate Faculty   \n8                                  All P/SOE   \n9                                Unit 18 All   \n10                        Unit 18 Botton 50%   \n11                           Unit 18 Top 50%   \n12                            Unit 18 Top 20   \n13                            Unit 18 Top 10   \n14                      Students Instructors   \n\n                                       Categories    Total Salary   Count   \\\n0                                                 1,279,628,489.0 31,176.0   \n1                                           Admin    15,872,926.0     55.0   \n2                                     Admin Staff    51,001,366.0    542.0   \n3                                           Coach     4,260,445.0     27.0   \n4                              [Coach, Athletics]    20,855,786.0    265.0   \n5   [Teaching Track, Senate, Non-Senate, Unit 18]   328,116,246.0  3,375.0   \n6                                          Senate   264,443,884.0  1,615.0   \n7                                      Non-Senate    17,983,990.0    301.0   \n8                                  Teaching Track     3,778,566.0     26.0   \n9                                         Unit 18    41,909,806.0  1,433.0   \n10                                                    4,244,899.0    716.0   \n11                                                   37,650,833.0    716.0   \n12                                                    3,387,492.0     20.0   \n13                                                    1,953,409.0     10.0   \n14                            Student Instruction    55,184,682.0  5,561.0   \n\n                  mean                 std       min        25%       50%  \\\n0   41,045.30693482166  54,132.61225298801       2.0    3,352.0  16,677.0   \n1  288,598.65454545454 117,009.50232704561   9,871.0  215,055.5 292,700.0   \n2   94,098.46125461254  53,382.46071806265     938.0   62,562.5  81,753.5   \n3  157,794.25925925927  62,671.83051885469  56,964.0  116,190.0 136,688.0   \n4   78,701.07924528302  62,704.28033198396     345.0   39,886.0  60,800.0   \n5   97,219.62844444445  89,294.88190878773       8.0   14,742.5  78,630.0   \n6  163,742.34303405572  79,036.02877538584     910.0  117,380.5 153,500.0   \n7   59,747.47508305648  51,967.45646668573      36.0   20,000.0  48,250.0   \n8  145,329.46153846153 59,756.132152093494  46,250.0 117,918.75 141,100.0   \n9  29,246.200976971388 34,155.486636740236       8.0    5,303.0  14,074.0   \n10  5,928.629888268157  3,870.062007945506       8.0   2,559.25   5,289.5   \n11  52,584.96229050279  35,088.87663398388  14,095.0   23,723.0  43,068.0   \n12           169,374.6  33,272.22006166074 134,717.0  144,916.0 157,991.5   \n13           195,340.9  28,167.11616781368 161,895.0  176,447.0 182,944.0   \n14  9,923.517712641611  8,906.133900704905       8.0    2,393.0   8,617.0   \n\n         75%       max  \n0   62,372.0 571,700.0  \n1  356,846.0 571,700.0  \n2  115,833.0 310,716.0  \n3  204,501.5 270,417.0  \n4  105,088.0 300,000.0  \n5  153,600.0 423,700.0  \n6  210,185.0 423,700.0  \n7   85,167.0 268,967.0  \n8  156,045.5 297,333.0  \n9   43,056.0 232,644.0  \n10   9,303.0  14,074.0  \n11  72,143.0 232,644.0  \n12 182,931.0 232,644.0  \n13 224,960.0 232,644.0  \n14  13,631.0  57,335.0  ",
      "text/html": "<div>\n<style scoped>\n    .dataframe tbody tr th:only-of-type {\n        vertical-align: middle;\n    }\n\n    .dataframe tbody tr th {\n        vertical-align: top;\n    }\n\n    .dataframe thead th {\n        text-align: right;\n    }\n</style>\n<table border=\"1\" class=\"dataframe\">\n  <thead>\n    <tr style=\"text-align: right;\">\n      <th></th>\n      <th>Description</th>\n      <th>Categories</th>\n      <th>Total Salary</th>\n      <th>Count</th>\n      <th>mean</th>\n      <th>std</th>\n      <th>min</th>\n      <th>25%</th>\n      <th>50%</th>\n      <th>75%</th>\n      <th>max</th>\n    </tr>\n  </thead>\n  <tbody>\n    <tr>\n      <th>0</th>\n      <td>All</td>\n      <td></td>\n      <td>1,279,628,489.0</td>\n      <td>31,176.0</td>\n      <td>41,045.30693482166</td>\n      <td>54,132.61225298801</td>\n      <td>2.0</td>\n      <td>3,352.0</td>\n      <td>16,677.0</td>\n      <td>62,372.0</td>\n      <td>571,700.0</td>\n    </tr>\n    <tr>\n      <th>1</th>\n      <td>Execs (Deans, Directors, Asst Directors)</td>\n      <td>Admin</td>\n      <td>15,872,926.0</td>\n      <td>55.0</td>\n      <td>288,598.65454545454</td>\n      <td>117,009.50232704561</td>\n      <td>9,871.0</td>\n      <td>215,055.5</td>\n      <td>292,700.0</td>\n      <td>356,846.0</td>\n      <td>571,700.0</td>\n    </tr>\n    <tr>\n      <th>2</th>\n      <td>Exec Admin Staff</td>\n      <td>Admin Staff</td>\n      <td>51,001,366.0</td>\n      <td>542.0</td>\n      <td>94,098.46125461254</td>\n      <td>53,382.46071806265</td>\n      <td>938.0</td>\n      <td>62,562.5</td>\n      <td>81,753.5</td>\n      <td>115,833.0</td>\n      <td>310,716.0</td>\n    </tr>\n    <tr>\n      <th>3</th>\n      <td>Head Coaches</td>\n      <td>Coach</td>\n      <td>4,260,445.0</td>\n      <td>27.0</td>\n      <td>157,794.25925925927</td>\n      <td>62,671.83051885469</td>\n      <td>56,964.0</td>\n      <td>116,190.0</td>\n      <td>136,688.0</td>\n      <td>204,501.5</td>\n      <td>270,417.0</td>\n    </tr>\n    <tr>\n      <th>4</th>\n      <td>All Athletics</td>\n      <td>[Coach, Athletics]</td>\n      <td>20,855,786.0</td>\n      <td>265.0</td>\n      <td>78,701.07924528302</td>\n      <td>62,704.28033198396</td>\n      <td>345.0</td>\n      <td>39,886.0</td>\n      <td>60,800.0</td>\n      <td>105,088.0</td>\n      <td>300,000.0</td>\n    </tr>\n    <tr>\n      <th>5</th>\n      <td>All Instructional Titles</td>\n      <td>[Teaching Track, Senate, Non-Senate, Unit 18]</td>\n      <td>328,116,246.0</td>\n      <td>3,375.0</td>\n      <td>97,219.62844444445</td>\n      <td>89,294.88190878773</td>\n      <td>8.0</td>\n      <td>14,742.5</td>\n      <td>78,630.0</td>\n      <td>153,600.0</td>\n      <td>423,700.0</td>\n    </tr>\n    <tr>\n      <th>6</th>\n      <td>Senate Faculty</td>\n      <td>Senate</td>\n      <td>264,443,884.0</td>\n      <td>1,615.0</td>\n      <td>163,742.34303405572</td>\n      <td>79,036.02877538584</td>\n      <td>910.0</td>\n      <td>117,380.5</td>\n      <td>153,500.0</td>\n      <td>210,185.0</td>\n      <td>423,700.0</td>\n    </tr>\n    <tr>\n      <th>7</th>\n      <td>Non-Senate Faculty</td>\n      <td>Non-Senate</td>\n      <td>17,983,990.0</td>\n      <td>301.0</td>\n      <td>59,747.47508305648</td>\n      <td>51,967.45646668573</td>\n      <td>36.0</td>\n      <td>20,000.0</td>\n      <td>48,250.0</td>\n      <td>85,167.0</td>\n      <td>268,967.0</td>\n    </tr>\n    <tr>\n      <th>8</th>\n      <td>All P/SOE</td>\n      <td>Teaching Track</td>\n      <td>3,778,566.0</td>\n      <td>26.0</td>\n      <td>145,329.46153846153</td>\n      <td>59,756.132152093494</td>\n      <td>46,250.0</td>\n      <td>117,918.75</td>\n      <td>141,100.0</td>\n      <td>156,045.5</td>\n      <td>297,333.0</td>\n    </tr>\n    <tr>\n      <th>9</th>\n      <td>Unit 18 All</td>\n      <td>Unit 18</td>\n      <td>41,909,806.0</td>\n      <td>1,433.0</td>\n      <td>29,246.200976971388</td>\n      <td>34,155.486636740236</td>\n      <td>8.0</td>\n      <td>5,303.0</td>\n      <td>14,074.0</td>\n      <td>43,056.0</td>\n      <td>232,644.0</td>\n    </tr>\n    <tr>\n      <th>10</th>\n      <td>Unit 18 Botton 50%</td>\n      <td></td>\n      <td>4,244,899.0</td>\n      <td>716.0</td>\n      <td>5,928.629888268157</td>\n      <td>3,870.062007945506</td>\n      <td>8.0</td>\n      <td>2,559.25</td>\n      <td>5,289.5</td>\n      <td>9,303.0</td>\n      <td>14,074.0</td>\n    </tr>\n    <tr>\n      <th>11</th>\n      <td>Unit 18 Top 50%</td>\n      <td></td>\n      <td>37,650,833.0</td>\n      <td>716.0</td>\n      <td>52,584.96229050279</td>\n      <td>35,088.87663398388</td>\n      <td>14,095.0</td>\n      <td>23,723.0</td>\n      <td>43,068.0</td>\n      <td>72,143.0</td>\n      <td>232,644.0</td>\n    </tr>\n    <tr>\n      <th>12</th>\n      <td>Unit 18 Top 20</td>\n      <td></td>\n      <td>3,387,492.0</td>\n      <td>20.0</td>\n      <td>169,374.6</td>\n      <td>33,272.22006166074</td>\n      <td>134,717.0</td>\n      <td>144,916.0</td>\n      <td>157,991.5</td>\n      <td>182,931.0</td>\n      <td>232,644.0</td>\n    </tr>\n    <tr>\n      <th>13</th>\n      <td>Unit 18 Top 10</td>\n      <td></td>\n      <td>1,953,409.0</td>\n      <td>10.0</td>\n      <td>195,340.9</td>\n      <td>28,167.11616781368</td>\n      <td>161,895.0</td>\n      <td>176,447.0</td>\n      <td>182,944.0</td>\n      <td>224,960.0</td>\n      <td>232,644.0</td>\n    </tr>\n    <tr>\n      <th>14</th>\n      <td>Students Instructors</td>\n      <td>Student Instruction</td>\n      <td>55,184,682.0</td>\n      <td>5,561.0</td>\n      <td>9,923.517712641611</td>\n      <td>8,906.133900704905</td>\n      <td>8.0</td>\n      <td>2,393.0</td>\n      <td>8,617.0</td>\n      <td>13,631.0</td>\n      <td>57,335.0</td>\n    </tr>\n  </tbody>\n</table>\n</div>"
     },
     "metadata": {}
    }
   ]
  },
  {
   "cell_type": "code",
   "metadata": {
    "tags": [],
    "cell_id": "00022-c7a76c3c-6337-4041-adaa-d7bf05dcc216",
    "deepnote_to_be_reexecuted": true,
    "source_hash": "ad946ddf",
    "execution_start": 1633678119606,
    "execution_millis": 96,
    "deepnote_cell_type": "code"
   },
   "source": "lect_salaries_2020.groupby('Location')[PAY_COL].describe().append(lect_salaries_2020[PAY_COL].describe())",
   "execution_count": null,
   "outputs": [
    {
     "output_type": "execute_result",
     "execution_count": 162,
     "data": {
      "application/vnd.deepnote.dataframe.v2+json": {
       "row_count": 12,
       "column_count": 8,
       "columns": [
        {
         "name": "count",
         "dtype": "float64",
         "stats": {
          "unique_count": 12,
          "nan_count": 0,
          "min": "1.0",
          "max": "6155.0",
          "histogram": [
           {
            "bin_start": 1,
            "bin_end": 616.4,
            "count": 7
           },
           {
            "bin_start": 616.4,
            "bin_end": 1231.8,
            "count": 2
           },
           {
            "bin_start": 1231.8,
            "bin_end": 1847.1999999999998,
            "count": 2
           },
           {
            "bin_start": 1847.1999999999998,
            "bin_end": 2462.6,
            "count": 0
           },
           {
            "bin_start": 2462.6,
            "bin_end": 3078,
            "count": 0
           },
           {
            "bin_start": 3078,
            "bin_end": 3693.3999999999996,
            "count": 0
           },
           {
            "bin_start": 3693.3999999999996,
            "bin_end": 4308.8,
            "count": 0
           },
           {
            "bin_start": 4308.8,
            "bin_end": 4924.2,
            "count": 0
           },
           {
            "bin_start": 4924.2,
            "bin_end": 5539.599999999999,
            "count": 0
           },
           {
            "bin_start": 5539.599999999999,
            "bin_end": 6155,
            "count": 1
           }
          ]
         }
        },
        {
         "name": "mean",
         "dtype": "float64",
         "stats": {
          "unique_count": 12,
          "nan_count": 0,
          "min": "30837.93157564344",
          "max": "96256.76470588235",
          "histogram": [
           {
            "bin_start": 30837.93157564344,
            "bin_end": 37379.81488866733,
            "count": 6
           },
           {
            "bin_start": 37379.81488866733,
            "bin_end": 43921.69820169122,
            "count": 2
           },
           {
            "bin_start": 43921.69820169122,
            "bin_end": 50463.581514715115,
            "count": 3
           },
           {
            "bin_start": 50463.581514715115,
            "bin_end": 57005.46482773901,
            "count": 0
           },
           {
            "bin_start": 57005.46482773901,
            "bin_end": 63547.3481407629,
            "count": 0
           },
           {
            "bin_start": 63547.3481407629,
            "bin_end": 70089.23145378678,
            "count": 0
           },
           {
            "bin_start": 70089.23145378678,
            "bin_end": 76631.11476681067,
            "count": 0
           },
           {
            "bin_start": 76631.11476681067,
            "bin_end": 83172.99807983456,
            "count": 0
           },
           {
            "bin_start": 83172.99807983456,
            "bin_end": 89714.88139285846,
            "count": 0
           },
           {
            "bin_start": 89714.88139285846,
            "bin_end": 96256.76470588235,
            "count": 1
           }
          ]
         }
        },
        {
         "name": "std",
         "dtype": "float64",
         "stats": {
          "unique_count": 11,
          "nan_count": 1,
          "min": "27640.35650649822",
          "max": "41845.44344695033",
          "histogram": [
           {
            "bin_start": 27640.35650649822,
            "bin_end": 29060.865200543434,
            "count": 1
           },
           {
            "bin_start": 29060.865200543434,
            "bin_end": 30481.373894588643,
            "count": 0
           },
           {
            "bin_start": 30481.373894588643,
            "bin_end": 31901.882588633853,
            "count": 0
           },
           {
            "bin_start": 31901.882588633853,
            "bin_end": 33322.39128267906,
            "count": 2
           },
           {
            "bin_start": 33322.39128267906,
            "bin_end": 34742.89997672428,
            "count": 2
           },
           {
            "bin_start": 34742.89997672428,
            "bin_end": 36163.40867076949,
            "count": 0
           },
           {
            "bin_start": 36163.40867076949,
            "bin_end": 37583.9173648147,
            "count": 0
           },
           {
            "bin_start": 37583.9173648147,
            "bin_end": 39004.42605885991,
            "count": 1
           },
           {
            "bin_start": 39004.42605885991,
            "bin_end": 40424.93475290512,
            "count": 2
           },
           {
            "bin_start": 40424.93475290512,
            "bin_end": 41845.44344695033,
            "count": 3
           }
          ]
         }
        },
        {
         "name": "min",
         "dtype": "float64",
         "stats": {
          "unique_count": 11,
          "nan_count": 0,
          "min": "8.0",
          "max": "33333.0",
          "histogram": [
           {
            "bin_start": 8,
            "bin_end": 3340.5,
            "count": 10
           },
           {
            "bin_start": 3340.5,
            "bin_end": 6673,
            "count": 0
           },
           {
            "bin_start": 6673,
            "bin_end": 10005.5,
            "count": 0
           },
           {
            "bin_start": 10005.5,
            "bin_end": 13338,
            "count": 0
           },
           {
            "bin_start": 13338,
            "bin_end": 16670.5,
            "count": 0
           },
           {
            "bin_start": 16670.5,
            "bin_end": 20003,
            "count": 0
           },
           {
            "bin_start": 20003,
            "bin_end": 23335.5,
            "count": 0
           },
           {
            "bin_start": 23335.5,
            "bin_end": 26668,
            "count": 0
           },
           {
            "bin_start": 26668,
            "bin_end": 30000.5,
            "count": 0
           },
           {
            "bin_start": 30000.5,
            "bin_end": 33333,
            "count": 2
           }
          ]
         }
        },
        {
         "name": "25%",
         "dtype": "float64",
         "stats": {
          "unique_count": 12,
          "nan_count": 0,
          "min": "5422.0",
          "max": "71668.0",
          "histogram": [
           {
            "bin_start": 5422,
            "bin_end": 12046.6,
            "count": 9
           },
           {
            "bin_start": 12046.6,
            "bin_end": 18671.2,
            "count": 0
           },
           {
            "bin_start": 18671.2,
            "bin_end": 25295.800000000003,
            "count": 1
           },
           {
            "bin_start": 25295.800000000003,
            "bin_end": 31920.4,
            "count": 0
           },
           {
            "bin_start": 31920.4,
            "bin_end": 38545,
            "count": 1
           },
           {
            "bin_start": 38545,
            "bin_end": 45169.600000000006,
            "count": 0
           },
           {
            "bin_start": 45169.600000000006,
            "bin_end": 51794.200000000004,
            "count": 0
           },
           {
            "bin_start": 51794.200000000004,
            "bin_end": 58418.8,
            "count": 0
           },
           {
            "bin_start": 58418.8,
            "bin_end": 65043.4,
            "count": 0
           },
           {
            "bin_start": 65043.4,
            "bin_end": 71668,
            "count": 1
           }
          ]
         }
        },
        {
         "name": "50%",
         "dtype": "float64",
         "stats": {
          "unique_count": 12,
          "nan_count": 0,
          "min": "13492.0",
          "max": "100000.0",
          "histogram": [
           {
            "bin_start": 13492,
            "bin_end": 22142.8,
            "count": 4
           },
           {
            "bin_start": 22142.8,
            "bin_end": 30793.6,
            "count": 3
           },
           {
            "bin_start": 30793.6,
            "bin_end": 39444.399999999994,
            "count": 3
           },
           {
            "bin_start": 39444.399999999994,
            "bin_end": 48095.2,
            "count": 0
           },
           {
            "bin_start": 48095.2,
            "bin_end": 56746,
            "count": 0
           },
           {
            "bin_start": 56746,
            "bin_end": 65396.799999999996,
            "count": 1
           },
           {
            "bin_start": 65396.799999999996,
            "bin_end": 74047.59999999999,
            "count": 0
           },
           {
            "bin_start": 74047.59999999999,
            "bin_end": 82698.4,
            "count": 0
           },
           {
            "bin_start": 82698.4,
            "bin_end": 91349.2,
            "count": 0
           },
           {
            "bin_start": 91349.2,
            "bin_end": 100000,
            "count": 1
           }
          ]
         }
        },
        {
         "name": "75%",
         "dtype": "float64",
         "stats": {
          "unique_count": 12,
          "nan_count": 0,
          "min": "33233.0",
          "max": "113583.0",
          "histogram": [
           {
            "bin_start": 33233,
            "bin_end": 41268,
            "count": 2
           },
           {
            "bin_start": 41268,
            "bin_end": 49303,
            "count": 1
           },
           {
            "bin_start": 49303,
            "bin_end": 57338,
            "count": 2
           },
           {
            "bin_start": 57338,
            "bin_end": 65373,
            "count": 3
           },
           {
            "bin_start": 65373,
            "bin_end": 73408,
            "count": 3
           },
           {
            "bin_start": 73408,
            "bin_end": 81443,
            "count": 0
           },
           {
            "bin_start": 81443,
            "bin_end": 89478,
            "count": 0
           },
           {
            "bin_start": 89478,
            "bin_end": 97513,
            "count": 0
           },
           {
            "bin_start": 97513,
            "bin_end": 105548,
            "count": 0
           },
           {
            "bin_start": 105548,
            "bin_end": 113583,
            "count": 1
           }
          ]
         }
        },
        {
         "name": "max",
         "dtype": "float64",
         "stats": {
          "unique_count": 11,
          "nan_count": 0,
          "min": "33233.0",
          "max": "476036.0",
          "histogram": [
           {
            "bin_start": 33233,
            "bin_end": 77513.3,
            "count": 1
           },
           {
            "bin_start": 77513.3,
            "bin_end": 121793.6,
            "count": 1
           },
           {
            "bin_start": 121793.6,
            "bin_end": 166073.90000000002,
            "count": 2
           },
           {
            "bin_start": 166073.90000000002,
            "bin_end": 210354.2,
            "count": 2
           },
           {
            "bin_start": 210354.2,
            "bin_end": 254634.5,
            "count": 2
           },
           {
            "bin_start": 254634.5,
            "bin_end": 298914.80000000005,
            "count": 0
           },
           {
            "bin_start": 298914.80000000005,
            "bin_end": 343195.10000000003,
            "count": 0
           },
           {
            "bin_start": 343195.10000000003,
            "bin_end": 387475.4,
            "count": 0
           },
           {
            "bin_start": 387475.4,
            "bin_end": 431755.7,
            "count": 2
           },
           {
            "bin_start": 431755.7,
            "bin_end": 476036,
            "count": 2
           }
          ]
         }
        },
        {
         "name": "_deepnote_index_column",
         "dtype": "object"
        }
       ],
       "rows_top": [
        {
         "count": 1593,
         "mean": 30837.93157564344,
         "std": 41228.97189838052,
         "min": 8,
         "25%": 5422,
         "50%": 13492,
         "75%": 40971,
         "max": 476036,
         "_deepnote_index_column": "Berkeley"
        },
        {
         "count": 641,
         "mean": 41253.709828393134,
         "std": 41845.44344695033,
         "min": 800,
         "25%": 9397,
         "50%": 24095,
         "75%": 66032,
         "max": 418733,
         "_deepnote_index_column": "Davis"
        },
        {
         "count": 17,
         "mean": 96256.76470588235,
         "std": 34335.476701455256,
         "min": 33333,
         "25%": 71668,
         "50%": 100000,
         "75%": 113583,
         "max": 159541,
         "_deepnote_index_column": "Hastings"
        },
        {
         "count": 625,
         "mean": 31969.4672,
         "std": 33379.58206915573,
         "min": 620,
         "25%": 7048,
         "50%": 17597,
         "75%": 53562,
         "max": 239352,
         "_deepnote_index_column": "Irvine"
        },
        {
         "count": 1461,
         "mean": 32642.675564681726,
         "std": 38793.699128466884,
         "min": 500,
         "25%": 7192,
         "50%": 15725,
         "75%": 44823,
         "max": 427660,
         "_deepnote_index_column": "Los Angeles"
        },
        {
         "count": 201,
         "mean": 49420.71144278607,
         "std": 27640.35650649822,
         "min": 560,
         "25%": 23492,
         "50%": 59515,
         "75%": 69307,
         "max": 115680,
         "_deepnote_index_column": "Merced"
        },
        {
         "count": 329,
         "mean": 37840.33130699088,
         "std": 33057.914298653144,
         "min": 1956,
         "25%": 8352,
         "50%": 25257,
         "75%": 64894,
         "max": 147258,
         "_deepnote_index_column": "Riverside"
        },
        {
         "count": 516,
         "mean": 44003.614341085275,
         "std": 41421.554896165195,
         "min": 682,
         "25%": 11810.5,
         "50%": 31567.5,
         "75%": 64125.25,
         "max": 213393,
         "_deepnote_index_column": "San Diego"
        },
        {
         "count": 1,
         "mean": 33233,
         "std": "nan",
         "min": 33233,
         "25%": 33233,
         "50%": 33233,
         "75%": 33233,
         "max": 33233,
         "_deepnote_index_column": "San Francisco"
        },
        {
         "count": 389,
         "mean": 46368.0411311054,
         "std": 39447.28556369456,
         "min": 705,
         "25%": 10853,
         "50%": 35205,
         "75%": 72715,
         "max": 168997,
         "_deepnote_index_column": "Santa Barbara"
        },
        {
         "count": 382,
         "mean": 37050.167539267015,
         "std": 32661.69600663137,
         "min": 1328,
         "25%": 10605.5,
         "50%": 25006,
         "75%": 57225.5,
         "max": 184613,
         "_deepnote_index_column": "Santa Cruz"
        },
        {
         "count": 6155,
         "mean": 36098.967668562145,
         "std": 39091.58445634059,
         "min": 8,
         "25%": 7630,
         "50%": 19722,
         "75%": 58898,
         "max": 476036,
         "_deepnote_index_column": "Gross Pay"
        }
       ],
       "rows_bottom": null
      },
      "text/plain": "                count                mean                 std      min  \\\nLocation                                                                 \nBerkeley      1,593.0  30,837.93157564344  41,228.97189838052      8.0   \nDavis           641.0 41,253.709828393134  41,845.44344695033    800.0   \nHastings         17.0  96,256.76470588235 34,335.476701455256 33,333.0   \nIrvine          625.0         31,969.4672  33,379.58206915573    620.0   \nLos Angeles   1,461.0 32,642.675564681726 38,793.699128466884    500.0   \nMerced          201.0  49,420.71144278607  27,640.35650649822    560.0   \nRiverside       329.0  37,840.33130699088 33,057.914298653144  1,956.0   \nSan Diego       516.0 44,003.614341085275 41,421.554896165195    682.0   \nSan Francisco     1.0            33,233.0                 NaN 33,233.0   \nSanta Barbara   389.0   46,368.0411311054  39,447.28556369456    705.0   \nSanta Cruz      382.0 37,050.167539267015  32,661.69600663137  1,328.0   \nGross Pay     6,155.0 36,098.967668562145  39,091.58445634059      8.0   \n\n                   25%       50%       75%       max  \nLocation                                              \nBerkeley       5,422.0  13,492.0  40,971.0 476,036.0  \nDavis          9,397.0  24,095.0  66,032.0 418,733.0  \nHastings      71,668.0 100,000.0 113,583.0 159,541.0  \nIrvine         7,048.0  17,597.0  53,562.0 239,352.0  \nLos Angeles    7,192.0  15,725.0  44,823.0 427,660.0  \nMerced        23,492.0  59,515.0  69,307.0 115,680.0  \nRiverside      8,352.0  25,257.0  64,894.0 147,258.0  \nSan Diego     11,810.5  31,567.5 64,125.25 213,393.0  \nSan Francisco 33,233.0  33,233.0  33,233.0  33,233.0  \nSanta Barbara 10,853.0  35,205.0  72,715.0 168,997.0  \nSanta Cruz    10,605.5  25,006.0  57,225.5 184,613.0  \nGross Pay      7,630.0  19,722.0  58,898.0 476,036.0  ",
      "text/html": "<div>\n<style scoped>\n    .dataframe tbody tr th:only-of-type {\n        vertical-align: middle;\n    }\n\n    .dataframe tbody tr th {\n        vertical-align: top;\n    }\n\n    .dataframe thead th {\n        text-align: right;\n    }\n</style>\n<table border=\"1\" class=\"dataframe\">\n  <thead>\n    <tr style=\"text-align: right;\">\n      <th></th>\n      <th>count</th>\n      <th>mean</th>\n      <th>std</th>\n      <th>min</th>\n      <th>25%</th>\n      <th>50%</th>\n      <th>75%</th>\n      <th>max</th>\n    </tr>\n    <tr>\n      <th>Location</th>\n      <th></th>\n      <th></th>\n      <th></th>\n      <th></th>\n      <th></th>\n      <th></th>\n      <th></th>\n      <th></th>\n    </tr>\n  </thead>\n  <tbody>\n    <tr>\n      <th>Berkeley</th>\n      <td>1,593.0</td>\n      <td>30,837.93157564344</td>\n      <td>41,228.97189838052</td>\n      <td>8.0</td>\n      <td>5,422.0</td>\n      <td>13,492.0</td>\n      <td>40,971.0</td>\n      <td>476,036.0</td>\n    </tr>\n    <tr>\n      <th>Davis</th>\n      <td>641.0</td>\n      <td>41,253.709828393134</td>\n      <td>41,845.44344695033</td>\n      <td>800.0</td>\n      <td>9,397.0</td>\n      <td>24,095.0</td>\n      <td>66,032.0</td>\n      <td>418,733.0</td>\n    </tr>\n    <tr>\n      <th>Hastings</th>\n      <td>17.0</td>\n      <td>96,256.76470588235</td>\n      <td>34,335.476701455256</td>\n      <td>33,333.0</td>\n      <td>71,668.0</td>\n      <td>100,000.0</td>\n      <td>113,583.0</td>\n      <td>159,541.0</td>\n    </tr>\n    <tr>\n      <th>Irvine</th>\n      <td>625.0</td>\n      <td>31,969.4672</td>\n      <td>33,379.58206915573</td>\n      <td>620.0</td>\n      <td>7,048.0</td>\n      <td>17,597.0</td>\n      <td>53,562.0</td>\n      <td>239,352.0</td>\n    </tr>\n    <tr>\n      <th>Los Angeles</th>\n      <td>1,461.0</td>\n      <td>32,642.675564681726</td>\n      <td>38,793.699128466884</td>\n      <td>500.0</td>\n      <td>7,192.0</td>\n      <td>15,725.0</td>\n      <td>44,823.0</td>\n      <td>427,660.0</td>\n    </tr>\n    <tr>\n      <th>Merced</th>\n      <td>201.0</td>\n      <td>49,420.71144278607</td>\n      <td>27,640.35650649822</td>\n      <td>560.0</td>\n      <td>23,492.0</td>\n      <td>59,515.0</td>\n      <td>69,307.0</td>\n      <td>115,680.0</td>\n    </tr>\n    <tr>\n      <th>Riverside</th>\n      <td>329.0</td>\n      <td>37,840.33130699088</td>\n      <td>33,057.914298653144</td>\n      <td>1,956.0</td>\n      <td>8,352.0</td>\n      <td>25,257.0</td>\n      <td>64,894.0</td>\n      <td>147,258.0</td>\n    </tr>\n    <tr>\n      <th>San Diego</th>\n      <td>516.0</td>\n      <td>44,003.614341085275</td>\n      <td>41,421.554896165195</td>\n      <td>682.0</td>\n      <td>11,810.5</td>\n      <td>31,567.5</td>\n      <td>64,125.25</td>\n      <td>213,393.0</td>\n    </tr>\n    <tr>\n      <th>San Francisco</th>\n      <td>1.0</td>\n      <td>33,233.0</td>\n      <td>NaN</td>\n      <td>33,233.0</td>\n      <td>33,233.0</td>\n      <td>33,233.0</td>\n      <td>33,233.0</td>\n      <td>33,233.0</td>\n    </tr>\n    <tr>\n      <th>Santa Barbara</th>\n      <td>389.0</td>\n      <td>46,368.0411311054</td>\n      <td>39,447.28556369456</td>\n      <td>705.0</td>\n      <td>10,853.0</td>\n      <td>35,205.0</td>\n      <td>72,715.0</td>\n      <td>168,997.0</td>\n    </tr>\n    <tr>\n      <th>Santa Cruz</th>\n      <td>382.0</td>\n      <td>37,050.167539267015</td>\n      <td>32,661.69600663137</td>\n      <td>1,328.0</td>\n      <td>10,605.5</td>\n      <td>25,006.0</td>\n      <td>57,225.5</td>\n      <td>184,613.0</td>\n    </tr>\n    <tr>\n      <th>Gross Pay</th>\n      <td>6,155.0</td>\n      <td>36,098.967668562145</td>\n      <td>39,091.58445634059</td>\n      <td>8.0</td>\n      <td>7,630.0</td>\n      <td>19,722.0</td>\n      <td>58,898.0</td>\n      <td>476,036.0</td>\n    </tr>\n  </tbody>\n</table>\n</div>"
     },
     "metadata": {}
    }
   ]
  },
  {
   "cell_type": "code",
   "metadata": {
    "tags": [],
    "cell_id": "00023-5c86051a-5152-469a-8a34-193a238401a7",
    "deepnote_to_be_reexecuted": true,
    "source_hash": "2af8db21",
    "execution_start": 1633671482309,
    "execution_millis": 59,
    "deepnote_cell_type": "code"
   },
   "source": "lect_salaries_2020[lect_salaries_2020['Regular Pay'] < 1000]",
   "execution_count": null,
   "outputs": [
    {
     "output_type": "execute_result",
     "execution_count": 143,
     "data": {
      "application/vnd.deepnote.dataframe.v2+json": {
       "row_count": 699,
       "column_count": 10,
       "columns": [
        {
         "name": "id",
         "dtype": "float64",
         "stats": {
          "unique_count": 699,
          "nan_count": 0,
          "min": "2.0",
          "max": "296003.0",
          "histogram": [
           {
            "bin_start": 2,
            "bin_end": 29602.1,
            "count": 10
           },
           {
            "bin_start": 29602.1,
            "bin_end": 59202.2,
            "count": 3
           },
           {
            "bin_start": 59202.2,
            "bin_end": 88802.29999999999,
            "count": 3
           },
           {
            "bin_start": 88802.29999999999,
            "bin_end": 118402.4,
            "count": 80
           },
           {
            "bin_start": 118402.4,
            "bin_end": 148002.5,
            "count": 92
           },
           {
            "bin_start": 148002.5,
            "bin_end": 177602.59999999998,
            "count": 117
           },
           {
            "bin_start": 177602.59999999998,
            "bin_end": 207202.69999999998,
            "count": 91
           },
           {
            "bin_start": 207202.69999999998,
            "bin_end": 236802.8,
            "count": 109
           },
           {
            "bin_start": 236802.8,
            "bin_end": 266402.89999999997,
            "count": 99
           },
           {
            "bin_start": 266402.89999999997,
            "bin_end": 296003,
            "count": 95
           }
          ]
         }
        },
        {
         "name": "Year",
         "dtype": "float64",
         "stats": {
          "unique_count": 1,
          "nan_count": 0,
          "min": "2020.0",
          "max": "2020.0",
          "histogram": [
           {
            "bin_start": 2019.5,
            "bin_end": 2019.6,
            "count": 0
           },
           {
            "bin_start": 2019.6,
            "bin_end": 2019.7,
            "count": 0
           },
           {
            "bin_start": 2019.7,
            "bin_end": 2019.8,
            "count": 0
           },
           {
            "bin_start": 2019.8,
            "bin_end": 2019.9,
            "count": 0
           },
           {
            "bin_start": 2019.9,
            "bin_end": 2020,
            "count": 0
           },
           {
            "bin_start": 2020,
            "bin_end": 2020.1,
            "count": 699
           },
           {
            "bin_start": 2020.1,
            "bin_end": 2020.2,
            "count": 0
           },
           {
            "bin_start": 2020.2,
            "bin_end": 2020.3,
            "count": 0
           },
           {
            "bin_start": 2020.3,
            "bin_end": 2020.4,
            "count": 0
           },
           {
            "bin_start": 2020.4,
            "bin_end": 2020.5,
            "count": 0
           }
          ]
         }
        },
        {
         "name": "Location",
         "dtype": "object",
         "stats": {
          "unique_count": 10,
          "nan_count": 0,
          "categories": [
           {
            "name": "Berkeley",
            "count": 261
           },
           {
            "name": "Los Angeles",
            "count": 155
           },
           {
            "name": "8 others",
            "count": 283
           }
          ]
         }
        },
        {
         "name": "First Name",
         "dtype": "object",
         "stats": {
          "unique_count": 469,
          "nan_count": 0,
          "categories": [
           {
            "name": "MICHAEL",
            "count": 12
           },
           {
            "name": "MARK",
            "count": 10
           },
           {
            "name": "467 others",
            "count": 677
           }
          ]
         }
        },
        {
         "name": "Last Name",
         "dtype": "object",
         "stats": {
          "unique_count": 627,
          "nan_count": 0,
          "categories": [
           {
            "name": "*****",
            "count": 9
           },
           {
            "name": "",
            "count": 8
           },
           {
            "name": "625 others",
            "count": 682
           }
          ]
         }
        },
        {
         "name": "Title",
         "dtype": "object",
         "stats": {
          "unique_count": 9,
          "nan_count": 0,
          "categories": [
           {
            "name": "LECT IN SUMMER SESSION",
            "count": 319
           },
           {
            "name": "LECT-MISCELLANEOUS/PART TIME",
            "count": 206
           },
           {
            "name": "7 others",
            "count": 174
           }
          ]
         }
        },
        {
         "name": "Gross Pay",
         "dtype": "float64",
         "stats": {
          "unique_count": 350,
          "nan_count": 0,
          "min": "8.0",
          "max": "91200.0",
          "histogram": [
           {
            "bin_start": 8,
            "bin_end": 9127.2,
            "count": 548
           },
           {
            "bin_start": 9127.2,
            "bin_end": 18246.4,
            "count": 103
           },
           {
            "bin_start": 18246.4,
            "bin_end": 27365.600000000002,
            "count": 33
           },
           {
            "bin_start": 27365.600000000002,
            "bin_end": 36484.8,
            "count": 7
           },
           {
            "bin_start": 36484.8,
            "bin_end": 45604,
            "count": 4
           },
           {
            "bin_start": 45604,
            "bin_end": 54723.200000000004,
            "count": 1
           },
           {
            "bin_start": 54723.200000000004,
            "bin_end": 63842.40000000001,
            "count": 0
           },
           {
            "bin_start": 63842.40000000001,
            "bin_end": 72961.6,
            "count": 0
           },
           {
            "bin_start": 72961.6,
            "bin_end": 82080.8,
            "count": 2
           },
           {
            "bin_start": 82080.8,
            "bin_end": 91200,
            "count": 1
           }
          ]
         }
        },
        {
         "name": "Regular Pay",
         "dtype": "float64",
         "stats": {
          "unique_count": 36,
          "nan_count": 0,
          "min": "0.0",
          "max": "992.0",
          "histogram": [
           {
            "bin_start": 0,
            "bin_end": 99.2,
            "count": 625
           },
           {
            "bin_start": 99.2,
            "bin_end": 198.4,
            "count": 1
           },
           {
            "bin_start": 198.4,
            "bin_end": 297.6,
            "count": 5
           },
           {
            "bin_start": 297.6,
            "bin_end": 396.8,
            "count": 6
           },
           {
            "bin_start": 396.8,
            "bin_end": 496,
            "count": 5
           },
           {
            "bin_start": 496,
            "bin_end": 595.2,
            "count": 36
           },
           {
            "bin_start": 595.2,
            "bin_end": 694.4,
            "count": 8
           },
           {
            "bin_start": 694.4,
            "bin_end": 793.6,
            "count": 4
           },
           {
            "bin_start": 793.6,
            "bin_end": 892.8000000000001,
            "count": 2
           },
           {
            "bin_start": 892.8000000000001,
            "bin_end": 992,
            "count": 7
           }
          ]
         }
        },
        {
         "name": "Overtime Pay",
         "dtype": "float64",
         "stats": {
          "unique_count": 1,
          "nan_count": 0,
          "min": "0.0",
          "max": "0.0",
          "histogram": [
           {
            "bin_start": -0.5,
            "bin_end": -0.4,
            "count": 0
           },
           {
            "bin_start": -0.4,
            "bin_end": -0.3,
            "count": 0
           },
           {
            "bin_start": -0.3,
            "bin_end": -0.19999999999999996,
            "count": 0
           },
           {
            "bin_start": -0.19999999999999996,
            "bin_end": -0.09999999999999998,
            "count": 0
           },
           {
            "bin_start": -0.09999999999999998,
            "bin_end": 0,
            "count": 0
           },
           {
            "bin_start": 0,
            "bin_end": 0.10000000000000009,
            "count": 699
           },
           {
            "bin_start": 0.10000000000000009,
            "bin_end": 0.20000000000000007,
            "count": 0
           },
           {
            "bin_start": 0.20000000000000007,
            "bin_end": 0.30000000000000004,
            "count": 0
           },
           {
            "bin_start": 0.30000000000000004,
            "bin_end": 0.4,
            "count": 0
           },
           {
            "bin_start": 0.4,
            "bin_end": 0.5,
            "count": 0
           }
          ]
         }
        },
        {
         "name": "Other Pay",
         "dtype": "float64",
         "stats": {
          "unique_count": 326,
          "nan_count": 0,
          "min": "0.0",
          "max": "91200.0",
          "histogram": [
           {
            "bin_start": 0,
            "bin_end": 9120,
            "count": 548
           },
           {
            "bin_start": 9120,
            "bin_end": 18240,
            "count": 103
           },
           {
            "bin_start": 18240,
            "bin_end": 27360,
            "count": 33
           },
           {
            "bin_start": 27360,
            "bin_end": 36480,
            "count": 7
           },
           {
            "bin_start": 36480,
            "bin_end": 45600,
            "count": 4
           },
           {
            "bin_start": 45600,
            "bin_end": 54720,
            "count": 1
           },
           {
            "bin_start": 54720,
            "bin_end": 63840,
            "count": 0
           },
           {
            "bin_start": 63840,
            "bin_end": 72960,
            "count": 0
           },
           {
            "bin_start": 72960,
            "bin_end": 82080,
            "count": 2
           },
           {
            "bin_start": 82080,
            "bin_end": 91200,
            "count": 1
           }
          ]
         }
        },
        {
         "name": "_deepnote_index_column",
         "dtype": "int64"
        }
       ],
       "rows_top": [
        {
         "id": 2,
         "Year": 2020,
         "Location": "Riverside",
         "First Name": "",
         "Last Name": "",
         "Title": "LECT IN SUMMER SESSION",
         "Gross Pay": 4792,
         "Regular Pay": 0,
         "Overtime Pay": 0,
         "Other Pay": 4792,
         "_deepnote_index_column": 1
        },
        {
         "id": 21,
         "Year": 2020,
         "Location": "Irvine",
         "First Name": "",
         "Last Name": "",
         "Title": "LECT IN SUMMER SESSION",
         "Gross Pay": 10030,
         "Regular Pay": 0,
         "Overtime Pay": 0,
         "Other Pay": 10030,
         "_deepnote_index_column": 20
        },
        {
         "id": 35,
         "Year": 2020,
         "Location": "Berkeley",
         "First Name": "",
         "Last Name": "",
         "Title": "LECT-MISCELLANEOUS/PART TIME",
         "Gross Pay": 500,
         "Regular Pay": 0,
         "Overtime Pay": 0,
         "Other Pay": 500,
         "_deepnote_index_column": 34
        },
        {
         "id": 36,
         "Year": 2020,
         "Location": "Berkeley",
         "First Name": "",
         "Last Name": "",
         "Title": "LECT-AY-CONTINUING",
         "Gross Pay": 200,
         "Regular Pay": 0,
         "Overtime Pay": 0,
         "Other Pay": 200,
         "_deepnote_index_column": 35
        },
        {
         "id": 37,
         "Year": 2020,
         "Location": "Berkeley",
         "First Name": "",
         "Last Name": "",
         "Title": "LECT-MISCELLANEOUS/PART TIME",
         "Gross Pay": 1500,
         "Regular Pay": 0,
         "Overtime Pay": 0,
         "Other Pay": 1500,
         "_deepnote_index_column": 36
        },
        {
         "id": 38,
         "Year": 2020,
         "Location": "Berkeley",
         "First Name": "",
         "Last Name": "",
         "Title": "LECT-MISCELLANEOUS/PART TIME",
         "Gross Pay": 500,
         "Regular Pay": 0,
         "Overtime Pay": 0,
         "Other Pay": 500,
         "_deepnote_index_column": 37
        },
        {
         "id": 40,
         "Year": 2020,
         "Location": "Berkeley",
         "First Name": "",
         "Last Name": "",
         "Title": "TEACHER-SPEC PROG",
         "Gross Pay": 4950,
         "Regular Pay": 0,
         "Overtime Pay": 0,
         "Other Pay": 4950,
         "_deepnote_index_column": 39
        },
        {
         "id": 58,
         "Year": 2020,
         "Location": "Davis",
         "First Name": "",
         "Last Name": "",
         "Title": "LECT IN SUMMER SESSION",
         "Gross Pay": 6846,
         "Regular Pay": 0,
         "Overtime Pay": 0,
         "Other Pay": 6846,
         "_deepnote_index_column": 57
        },
        {
         "id": 82,
         "Year": 2020,
         "Location": "Los Angeles",
         "First Name": "*****",
         "Last Name": "*****",
         "Title": "LECT IN SUMMER SESSION",
         "Gross Pay": 9585,
         "Regular Pay": 0,
         "Overtime Pay": 0,
         "Other Pay": 9585,
         "_deepnote_index_column": 81
        },
        {
         "id": 2743,
         "Year": 2020,
         "Location": "Riverside",
         "First Name": "*****",
         "Last Name": "*****",
         "Title": "LECT-MISCELLANEOUS/PART TIME",
         "Gross Pay": 600,
         "Regular Pay": 0,
         "Overtime Pay": 0,
         "Other Pay": 600,
         "_deepnote_index_column": 2742
        },
        {
         "id": 48346,
         "Year": 2020,
         "Location": "Berkeley",
         "First Name": "*****",
         "Last Name": "*****",
         "Title": "LECT IN SUMMER SESSION",
         "Gross Pay": 8202,
         "Regular Pay": 0,
         "Overtime Pay": 0,
         "Other Pay": 8202,
         "_deepnote_index_column": 48345
        },
        {
         "id": 48380,
         "Year": 2020,
         "Location": "Berkeley",
         "First Name": "*****",
         "Last Name": "*****",
         "Title": "TEACHER-SPEC PROG",
         "Gross Pay": 6500,
         "Regular Pay": 0,
         "Overtime Pay": 0,
         "Other Pay": 6500,
         "_deepnote_index_column": 48379
        },
        {
         "id": 53993,
         "Year": 2020,
         "Location": "Berkeley",
         "First Name": "*****",
         "Last Name": "*****",
         "Title": "LECT IN SUMMER SESSION",
         "Gross Pay": 3640,
         "Regular Pay": 0,
         "Overtime Pay": 0,
         "Other Pay": 3640,
         "_deepnote_index_column": 53992
        },
        {
         "id": 60673,
         "Year": 2020,
         "Location": "Berkeley",
         "First Name": "*****",
         "Last Name": "*****",
         "Title": "LECT-MISCELLANEOUS/PART TIME",
         "Gross Pay": 500,
         "Regular Pay": 0,
         "Overtime Pay": 0,
         "Other Pay": 500,
         "_deepnote_index_column": 60672
        },
        {
         "id": 62529,
         "Year": 2020,
         "Location": "Berkeley",
         "First Name": "*****",
         "Last Name": "*****",
         "Title": "LECT IN SUMMER SESSION",
         "Gross Pay": 7733,
         "Regular Pay": 0,
         "Overtime Pay": 0,
         "Other Pay": 7733,
         "_deepnote_index_column": 62528
        },
        {
         "id": 80251,
         "Year": 2020,
         "Location": "Los Angeles",
         "First Name": "*****",
         "Last Name": "*****",
         "Title": "LECT IN SUMMER SESSION",
         "Gross Pay": 10304,
         "Regular Pay": 0,
         "Overtime Pay": 0,
         "Other Pay": 10304,
         "_deepnote_index_column": 80250
        },
        {
         "id": 93714,
         "Year": 2020,
         "Location": "Los Angeles",
         "First Name": "*****",
         "Last Name": "*****",
         "Title": "LECT IN SUMMER SESSION",
         "Gross Pay": 4792,
         "Regular Pay": 0,
         "Overtime Pay": 0,
         "Other Pay": 4792,
         "_deepnote_index_column": 93713
        },
        {
         "id": 97074,
         "Year": 2020,
         "Location": "Santa Barbara",
         "First Name": "ZAMIRA",
         "Last Name": "ABMAN",
         "Title": "LECT IN SUMMER SESSION",
         "Gross Pay": 4792,
         "Regular Pay": 0,
         "Overtime Pay": 0,
         "Other Pay": 4792,
         "_deepnote_index_column": 97073
        },
        {
         "id": 97375,
         "Year": 2020,
         "Location": "Berkeley",
         "First Name": "KARA",
         "Last Name": "ACEVEDO",
         "Title": "LECT-AY",
         "Gross Pay": 564,
         "Regular Pay": 564,
         "Overtime Pay": 0,
         "Other Pay": 0,
         "_deepnote_index_column": 97374
        },
        {
         "id": 97715,
         "Year": 2020,
         "Location": "San Diego",
         "First Name": "DAVE",
         "Last Name": "ADAMS",
         "Title": "LECT IN SUMMER SESSION",
         "Gross Pay": 8250,
         "Regular Pay": 0,
         "Overtime Pay": 0,
         "Other Pay": 8250,
         "_deepnote_index_column": 97714
        },
        {
         "id": 98032,
         "Year": 2020,
         "Location": "Berkeley",
         "First Name": "JORDI",
         "Last Name": "ADOUMIE",
         "Title": "LECT IN SUMMER SESSION",
         "Gross Pay": 3866,
         "Regular Pay": 0,
         "Overtime Pay": 0,
         "Other Pay": 3866,
         "_deepnote_index_column": 98031
        },
        {
         "id": 98932,
         "Year": 2020,
         "Location": "Riverside",
         "First Name": "SUZY",
         "Last Name": "AHN",
         "Title": "LECT IN SUMMER SESSION",
         "Gross Pay": 4792,
         "Regular Pay": 0,
         "Overtime Pay": 0,
         "Other Pay": 4792,
         "_deepnote_index_column": 98931
        },
        {
         "id": 99089,
         "Year": 2020,
         "Location": "Los Angeles",
         "First Name": "ARKESH",
         "Last Name": "AJAY",
         "Title": "LECT IN SUMMER SESSION",
         "Gross Pay": 19385,
         "Regular Pay": 0,
         "Overtime Pay": 0,
         "Other Pay": 19385,
         "_deepnote_index_column": 99088
        },
        {
         "id": 99262,
         "Year": 2020,
         "Location": "Santa Barbara",
         "First Name": "DIMITRI",
         "Last Name": "AKULOV",
         "Title": "LECT IN SUMMER SESSION",
         "Gross Pay": 4792,
         "Regular Pay": 0,
         "Overtime Pay": 0,
         "Other Pay": 4792,
         "_deepnote_index_column": 99261
        },
        {
         "id": 99527,
         "Year": 2020,
         "Location": "Irvine",
         "First Name": "RICARDO",
         "Last Name": "ALBAY",
         "Title": "LECT IN SUMMER SESSION",
         "Gross Pay": 11504,
         "Regular Pay": 0,
         "Overtime Pay": 0,
         "Other Pay": 11504,
         "_deepnote_index_column": 99526
        },
        {
         "id": 99553,
         "Year": 2020,
         "Location": "Riverside",
         "First Name": "BRODY",
         "Last Name": "ALBERT",
         "Title": "LECT IN SUMMER SESSION",
         "Gross Pay": 4792,
         "Regular Pay": 0,
         "Overtime Pay": 0,
         "Other Pay": 4792,
         "_deepnote_index_column": 99552
        },
        {
         "id": 99562,
         "Year": 2020,
         "Location": "Los Angeles",
         "First Name": "MATTHEW",
         "Last Name": "ALBERT",
         "Title": "LECT-MISCELLANEOUS/PART TIME",
         "Gross Pay": 300,
         "Regular Pay": 0,
         "Overtime Pay": 0,
         "Other Pay": 300,
         "_deepnote_index_column": 99561
        },
        {
         "id": 99612,
         "Year": 2020,
         "Location": "San Diego",
         "First Name": "THOMAS",
         "Last Name": "ALBRIGHT",
         "Title": "LECT IN SUMMER SESSION",
         "Gross Pay": 11832,
         "Regular Pay": 0,
         "Overtime Pay": 0,
         "Other Pay": 11832,
         "_deepnote_index_column": 99611
        },
        {
         "id": 99780,
         "Year": 2020,
         "Location": "Berkeley",
         "First Name": "MARK",
         "Last Name": "ALDENDERFER",
         "Title": "LECT-MISCELLANEOUS/PART TIME",
         "Gross Pay": 300,
         "Regular Pay": 0,
         "Overtime Pay": 0,
         "Other Pay": 300,
         "_deepnote_index_column": 99779
        },
        {
         "id": 99867,
         "Year": 2020,
         "Location": "Berkeley",
         "First Name": "RUDOLPH",
         "Last Name": "ALEJO",
         "Title": "LECT-AY-1/10",
         "Gross Pay": 958,
         "Regular Pay": 958,
         "Overtime Pay": 0,
         "Other Pay": 0,
         "_deepnote_index_column": 99866
        },
        {
         "id": 100319,
         "Year": 2020,
         "Location": "Los Angeles",
         "First Name": "MOREHSHIN",
         "Last Name": "ALLAHYARI",
         "Title": "LECT-MISCELLANEOUS/PART TIME",
         "Gross Pay": 150,
         "Regular Pay": 0,
         "Overtime Pay": 0,
         "Other Pay": 150,
         "_deepnote_index_column": 100318
        },
        {
         "id": 100651,
         "Year": 2020,
         "Location": "Merced",
         "First Name": "RUBI",
         "Last Name": "ALMANZA FLOR",
         "Title": "TEACHER-SPEC PROG",
         "Gross Pay": 3080,
         "Regular Pay": 0,
         "Overtime Pay": 0,
         "Other Pay": 3080,
         "_deepnote_index_column": 100650
        },
        {
         "id": 100885,
         "Year": 2020,
         "Location": "Santa Barbara",
         "First Name": "ROBERT",
         "Last Name": "ALTER",
         "Title": "LECT-MISCELLANEOUS/PART TIME",
         "Gross Pay": 2000,
         "Regular Pay": 0,
         "Overtime Pay": 0,
         "Other Pay": 2000,
         "_deepnote_index_column": 100884
        },
        {
         "id": 101427,
         "Year": 2020,
         "Location": "Berkeley",
         "First Name": "RIVKA",
         "Last Name": "AMADO",
         "Title": "LECT IN SUMMER SESSION",
         "Gross Pay": 7000,
         "Regular Pay": 0,
         "Overtime Pay": 0,
         "Other Pay": 7000,
         "_deepnote_index_column": 101426
        },
        {
         "id": 101601,
         "Year": 2020,
         "Location": "Los Angeles",
         "First Name": "EDWIN",
         "Last Name": "AMBROSIO",
         "Title": "LECT IN SUMMER SESSION",
         "Gross Pay": 10462,
         "Regular Pay": 0,
         "Overtime Pay": 0,
         "Other Pay": 10462,
         "_deepnote_index_column": 101600
        },
        {
         "id": 101692,
         "Year": 2020,
         "Location": "Riverside",
         "First Name": "KIM",
         "Last Name": "AMIN",
         "Title": "LECT-MISCELLANEOUS/PART TIME",
         "Gross Pay": 19992,
         "Regular Pay": 0,
         "Overtime Pay": 0,
         "Other Pay": 19992,
         "_deepnote_index_column": 101691
        },
        {
         "id": 102106,
         "Year": 2020,
         "Location": "San Diego",
         "First Name": "SHANE",
         "Last Name": "ANDERSON",
         "Title": "LECT IN SUMMER SESSION",
         "Gross Pay": 10070,
         "Regular Pay": 0,
         "Overtime Pay": 0,
         "Other Pay": 10070,
         "_deepnote_index_column": 102105
        },
        {
         "id": 102153,
         "Year": 2020,
         "Location": "Irvine",
         "First Name": "PATRICK",
         "Last Name": "ANDERSON",
         "Title": "LECT-MISCELLANEOUS/PART TIME",
         "Gross Pay": 500,
         "Regular Pay": 0,
         "Overtime Pay": 0,
         "Other Pay": 500,
         "_deepnote_index_column": 102152
        },
        {
         "id": 102159,
         "Year": 2020,
         "Location": "Merced",
         "First Name": "ADAM",
         "Last Name": "ANDERSON",
         "Title": "LECT-MISCELLANEOUS/PART TIME",
         "Gross Pay": 500,
         "Regular Pay": 0,
         "Overtime Pay": 0,
         "Other Pay": 500,
         "_deepnote_index_column": 102158
        },
        {
         "id": 102160,
         "Year": 2020,
         "Location": "Merced",
         "First Name": "ANITA",
         "Last Name": "ANDERSON",
         "Title": "TEACHER-SPEC PROG",
         "Gross Pay": 3080,
         "Regular Pay": 0,
         "Overtime Pay": 0,
         "Other Pay": 3080,
         "_deepnote_index_column": 102159
        },
        {
         "id": 102568,
         "Year": 2020,
         "Location": "Berkeley",
         "First Name": "AUSTIN",
         "Last Name": "ANDREWS",
         "Title": "LECT IN SUMMER SESSION",
         "Gross Pay": 6202,
         "Regular Pay": 0,
         "Overtime Pay": 0,
         "Other Pay": 6202,
         "_deepnote_index_column": 102567
        },
        {
         "id": 102628,
         "Year": 2020,
         "Location": "Irvine",
         "First Name": "JULIANN",
         "Last Name": "ANESI",
         "Title": "LECT-MISCELLANEOUS/PART TIME",
         "Gross Pay": 200,
         "Regular Pay": 0,
         "Overtime Pay": 0,
         "Other Pay": 200,
         "_deepnote_index_column": 102627
        },
        {
         "id": 102641,
         "Year": 2020,
         "Location": "Merced",
         "First Name": "VIRGILIO",
         "Last Name": "ANG",
         "Title": "TEACHER-SPEC PROG",
         "Gross Pay": 560,
         "Regular Pay": 0,
         "Overtime Pay": 0,
         "Other Pay": 560,
         "_deepnote_index_column": 102640
        },
        {
         "id": 102642,
         "Year": 2020,
         "Location": "Merced",
         "First Name": "SUSAN",
         "Last Name": "ANG",
         "Title": "TEACHER-SPEC PROG",
         "Gross Pay": 2800,
         "Regular Pay": 0,
         "Overtime Pay": 0,
         "Other Pay": 2800,
         "_deepnote_index_column": 102641
        },
        {
         "id": 103189,
         "Year": 2020,
         "Location": "Riverside",
         "First Name": "HANNAH",
         "Last Name": "APPEL",
         "Title": "LECT-MISCELLANEOUS/PART TIME",
         "Gross Pay": 200,
         "Regular Pay": 0,
         "Overtime Pay": 0,
         "Other Pay": 200,
         "_deepnote_index_column": 103188
        },
        {
         "id": 104184,
         "Year": 2020,
         "Location": "Davis",
         "First Name": "RICHARD",
         "Last Name": "ARMSTRONG",
         "Title": "LECT IN SUMMER SESSION",
         "Gross Pay": 24191,
         "Regular Pay": 0,
         "Overtime Pay": 0,
         "Other Pay": 24191,
         "_deepnote_index_column": 104183
        },
        {
         "id": 104799,
         "Year": 2020,
         "Location": "Riverside",
         "First Name": "F",
         "Last Name": "ASHBY",
         "Title": "LECT-MISCELLANEOUS/PART TIME",
         "Gross Pay": 1000,
         "Regular Pay": 0,
         "Overtime Pay": 0,
         "Other Pay": 1000,
         "_deepnote_index_column": 104798
        },
        {
         "id": 105174,
         "Year": 2020,
         "Location": "Berkeley",
         "First Name": "HRAFNHILDUR",
         "Last Name": "ATLADOTTIR",
         "Title": "TEACHER-SPEC PROG-CONTINUING",
         "Gross Pay": 5600,
         "Regular Pay": 0,
         "Overtime Pay": 0,
         "Other Pay": 5600,
         "_deepnote_index_column": 105173
        },
        {
         "id": 105175,
         "Year": 2020,
         "Location": "Davis",
         "First Name": "HRAFNHILDUR",
         "Last Name": "ATLADOTTIR",
         "Title": "TEACHER-SPEC PROG-CONTINUING",
         "Gross Pay": 2745,
         "Regular Pay": 0,
         "Overtime Pay": 0,
         "Other Pay": 2745,
         "_deepnote_index_column": 105174
        },
        {
         "id": 105592,
         "Year": 2020,
         "Location": "San Diego",
         "First Name": "ERIC",
         "Last Name": "AVILA",
         "Title": "LECT-MISCELLANEOUS/PART TIME",
         "Gross Pay": 500,
         "Regular Pay": 0,
         "Overtime Pay": 0,
         "Other Pay": 500,
         "_deepnote_index_column": 105591
        }
       ],
       "rows_bottom": [
        {
         "id": 281013,
         "Year": 2020,
         "Location": "Santa Barbara",
         "First Name": "ANURADHA",
         "Last Name": "VIKRAM",
         "Title": "LECT-MISCELLANEOUS/PART TIME",
         "Gross Pay": 500,
         "Regular Pay": 0,
         "Overtime Pay": 0,
         "Other Pay": 500,
         "_deepnote_index_column": 281012
        },
        {
         "id": 281583,
         "Year": 2020,
         "Location": "Irvine",
         "First Name": "JENNIFER",
         "Last Name": "VILLORIA",
         "Title": "LECT IN SUMMER SESSION",
         "Gross Pay": 7257,
         "Regular Pay": 0,
         "Overtime Pay": 0,
         "Other Pay": 7257,
         "_deepnote_index_column": 281582
        },
        {
         "id": 281617,
         "Year": 2020,
         "Location": "Berkeley",
         "First Name": "FREDERICK",
         "Last Name": "VINCENT",
         "Title": "LECT IN SUMMER SESSION",
         "Gross Pay": 13691,
         "Regular Pay": 0,
         "Overtime Pay": 0,
         "Other Pay": 13691,
         "_deepnote_index_column": 281616
        },
        {
         "id": 281693,
         "Year": 2020,
         "Location": "Berkeley",
         "First Name": "PEDRO",
         "Last Name": "VIRAMONTES",
         "Title": "LECT-AY",
         "Gross Pay": 564,
         "Regular Pay": 564,
         "Overtime Pay": 0,
         "Other Pay": 0,
         "_deepnote_index_column": 281692
        },
        {
         "id": 282035,
         "Year": 2020,
         "Location": "Riverside",
         "First Name": "CAMELIA",
         "Last Name": "VOIN-GHEORGHE",
         "Title": "LECT-MISCELLANEOUS/PART TIME",
         "Gross Pay": 25116,
         "Regular Pay": 0,
         "Overtime Pay": 0,
         "Other Pay": 25116,
         "_deepnote_index_column": 282034
        },
        {
         "id": 282379,
         "Year": 2020,
         "Location": "Los Angeles",
         "First Name": "LARA",
         "Last Name": "VU",
         "Title": "LECT IN SUMMER SESSION",
         "Gross Pay": 4792,
         "Regular Pay": 0,
         "Overtime Pay": 0,
         "Other Pay": 4792,
         "_deepnote_index_column": 282378
        },
        {
         "id": 282643,
         "Year": 2020,
         "Location": "Los Angeles",
         "First Name": "PHILIP",
         "Last Name": "WAGNER",
         "Title": "LECT IN SUMMER SESSION",
         "Gross Pay": 10844,
         "Regular Pay": 0,
         "Overtime Pay": 0,
         "Other Pay": 10844,
         "_deepnote_index_column": 282642
        },
        {
         "id": 282948,
         "Year": 2020,
         "Location": "Irvine",
         "First Name": "VALENCIA",
         "Last Name": "WALKER",
         "Title": "LECT-MISCELLANEOUS/PART TIME",
         "Gross Pay": 500,
         "Regular Pay": 0,
         "Overtime Pay": 0,
         "Other Pay": 500,
         "_deepnote_index_column": 282947
        },
        {
         "id": 283703,
         "Year": 2020,
         "Location": "Berkeley",
         "First Name": "GIGI",
         "Last Name": "WANG",
         "Title": "TEACHER-SPEC PROG",
         "Gross Pay": 78250,
         "Regular Pay": 0,
         "Overtime Pay": 0,
         "Other Pay": 78250,
         "_deepnote_index_column": 283702
        },
        {
         "id": 284114,
         "Year": 2020,
         "Location": "San Diego",
         "First Name": "MITCHELL",
         "Last Name": "WARACHKA",
         "Title": "LECT IN SUMMER SESSION",
         "Gross Pay": 24000,
         "Regular Pay": 0,
         "Overtime Pay": 0,
         "Other Pay": 24000,
         "_deepnote_index_column": 284113
        },
        {
         "id": 284348,
         "Year": 2020,
         "Location": "Berkeley",
         "First Name": "MARK",
         "Last Name": "WARREN",
         "Title": "LECT IN SUMMER SESSION",
         "Gross Pay": 9303,
         "Regular Pay": 0,
         "Overtime Pay": 0,
         "Other Pay": 9303,
         "_deepnote_index_column": 284347
        },
        {
         "id": 284502,
         "Year": 2020,
         "Location": "Berkeley",
         "First Name": "MARTHA",
         "Last Name": "WASLEY",
         "Title": "TEACHER-SPEC PROG-CONTINUING",
         "Gross Pay": 8000,
         "Regular Pay": 0,
         "Overtime Pay": 0,
         "Other Pay": 8000,
         "_deepnote_index_column": 284501
        },
        {
         "id": 284523,
         "Year": 2020,
         "Location": "Irvine",
         "First Name": "KATE",
         "Last Name": "WASSUM",
         "Title": "LECT-MISCELLANEOUS/PART TIME",
         "Gross Pay": 200,
         "Regular Pay": 0,
         "Overtime Pay": 0,
         "Other Pay": 200,
         "_deepnote_index_column": 284522
        },
        {
         "id": 284790,
         "Year": 2020,
         "Location": "Los Angeles",
         "First Name": "RAYMUND",
         "Last Name": "WAUNG",
         "Title": "LECT IN SUMMER SESSION",
         "Gross Pay": 14597,
         "Regular Pay": 0,
         "Overtime Pay": 0,
         "Other Pay": 14597,
         "_deepnote_index_column": 284789
        },
        {
         "id": 285283,
         "Year": 2020,
         "Location": "Merced",
         "First Name": "MATTHEW",
         "Last Name": "WEINBURKE",
         "Title": "LECT IN SUMMER SESSION",
         "Gross Pay": 6265,
         "Regular Pay": 0,
         "Overtime Pay": 0,
         "Other Pay": 6265,
         "_deepnote_index_column": 285282
        },
        {
         "id": 285609,
         "Year": 2020,
         "Location": "Berkeley",
         "First Name": "SHALLYN",
         "Last Name": "WELLS",
         "Title": "LECT-AY",
         "Gross Pay": 564,
         "Regular Pay": 564,
         "Overtime Pay": 0,
         "Other Pay": 0,
         "_deepnote_index_column": 285608
        },
        {
         "id": 286182,
         "Year": 2020,
         "Location": "Santa Barbara",
         "First Name": "KRISTEN",
         "Last Name": "WHISSEL",
         "Title": "LECT-MISCELLANEOUS/PART TIME",
         "Gross Pay": 750,
         "Regular Pay": 0,
         "Overtime Pay": 0,
         "Other Pay": 750,
         "_deepnote_index_column": 286181
        },
        {
         "id": 287272,
         "Year": 2020,
         "Location": "Berkeley",
         "First Name": "ELIZABETH",
         "Last Name": "WILLIAMS",
         "Title": "LECT IN SUMMER SESSION",
         "Gross Pay": 4792,
         "Regular Pay": 0,
         "Overtime Pay": 0,
         "Other Pay": 4792,
         "_deepnote_index_column": 287271
        },
        {
         "id": 287921,
         "Year": 2020,
         "Location": "Berkeley",
         "First Name": "NORA",
         "Last Name": "WILSON",
         "Title": "LECT-AY",
         "Gross Pay": 564,
         "Regular Pay": 564,
         "Overtime Pay": 0,
         "Other Pay": 0,
         "_deepnote_index_column": 287920
        },
        {
         "id": 288127,
         "Year": 2020,
         "Location": "Los Angeles",
         "First Name": "SCOTT",
         "Last Name": "WIMER",
         "Title": "LECT IN SUMMER SESSION",
         "Gross Pay": 5422,
         "Regular Pay": 0,
         "Overtime Pay": 0,
         "Other Pay": 5422,
         "_deepnote_index_column": 288126
        },
        {
         "id": 288406,
         "Year": 2020,
         "Location": "Berkeley",
         "First Name": "WENDY",
         "Last Name": "WISELY",
         "Title": "LECT IN SUMMER SESSION",
         "Gross Pay": 6202,
         "Regular Pay": 0,
         "Overtime Pay": 0,
         "Other Pay": 6202,
         "_deepnote_index_column": 288405
        },
        {
         "id": 288434,
         "Year": 2020,
         "Location": "Berkeley",
         "First Name": "ANNA",
         "Last Name": "WISNIEWSKA",
         "Title": "LECT-FY",
         "Gross Pay": 8,
         "Regular Pay": 8,
         "Overtime Pay": 0,
         "Other Pay": 0,
         "_deepnote_index_column": 288433
        },
        {
         "id": 288719,
         "Year": 2020,
         "Location": "Berkeley",
         "First Name": "DALE",
         "Last Name": "WOLFORD",
         "Title": "TEACHER-SPEC PROG",
         "Gross Pay": 3200,
         "Regular Pay": 0,
         "Overtime Pay": 0,
         "Other Pay": 3200,
         "_deepnote_index_column": 288718
        },
        {
         "id": 288878,
         "Year": 2020,
         "Location": "Santa Barbara",
         "First Name": "DEBORAH",
         "Last Name": "WONG",
         "Title": "LECT-MISCELLANEOUS/PART TIME",
         "Gross Pay": 100,
         "Regular Pay": 0,
         "Overtime Pay": 0,
         "Other Pay": 100,
         "_deepnote_index_column": 288877
        },
        {
         "id": 289194,
         "Year": 2020,
         "Location": "Davis",
         "First Name": "KENT",
         "Last Name": "WONG",
         "Title": "LECT-MISCELLANEOUS/PART TIME",
         "Gross Pay": 300,
         "Regular Pay": 0,
         "Overtime Pay": 0,
         "Other Pay": 300,
         "_deepnote_index_column": 289193
        },
        {
         "id": 289384,
         "Year": 2020,
         "Location": "Berkeley",
         "First Name": "BETTY",
         "Last Name": "WOO",
         "Title": "TEACHER-SPEC PROG-CONTINUING",
         "Gross Pay": 8100,
         "Regular Pay": 0,
         "Overtime Pay": 0,
         "Other Pay": 8100,
         "_deepnote_index_column": 289383
        },
        {
         "id": 289632,
         "Year": 2020,
         "Location": "Los Angeles",
         "First Name": "DAMON",
         "Last Name": "WOODS",
         "Title": "LECT IN SUMMER SESSION",
         "Gross Pay": 10731,
         "Regular Pay": 0,
         "Overtime Pay": 0,
         "Other Pay": 10731,
         "_deepnote_index_column": 289631
        },
        {
         "id": 289745,
         "Year": 2020,
         "Location": "Berkeley",
         "First Name": "RICHARD",
         "Last Name": "WORN",
         "Title": "TEACHER-SPEC PROG-CONTINUING",
         "Gross Pay": 7900,
         "Regular Pay": 0,
         "Overtime Pay": 0,
         "Other Pay": 7900,
         "_deepnote_index_column": 289744
        },
        {
         "id": 289871,
         "Year": 2020,
         "Location": "Berkeley",
         "First Name": "STEPHEN",
         "Last Name": "WRIGHT",
         "Title": "LECT IN SUMMER SESSION",
         "Gross Pay": 4912,
         "Regular Pay": 0,
         "Overtime Pay": 0,
         "Other Pay": 4912,
         "_deepnote_index_column": 289870
        },
        {
         "id": 290349,
         "Year": 2020,
         "Location": "Riverside",
         "First Name": "MATTHEW",
         "Last Name": "WYCKOFF",
         "Title": "LECT-MISCELLANEOUS/PART TIME",
         "Gross Pay": 2600,
         "Regular Pay": 0,
         "Overtime Pay": 0,
         "Other Pay": 2600,
         "_deepnote_index_column": 290348
        },
        {
         "id": 290998,
         "Year": 2020,
         "Location": "Berkeley",
         "First Name": "NAOKI",
         "Last Name": "YAMANAKA",
         "Title": "LECT-MISCELLANEOUS/PART TIME",
         "Gross Pay": 500,
         "Regular Pay": 0,
         "Overtime Pay": 0,
         "Other Pay": 500,
         "_deepnote_index_column": 290997
        },
        {
         "id": 291016,
         "Year": 2020,
         "Location": "Los Angeles",
         "First Name": "LISA",
         "Last Name": "YAMASAKI",
         "Title": "LECT IN SUMMER SESSION",
         "Gross Pay": 18606,
         "Regular Pay": 0,
         "Overtime Pay": 0,
         "Other Pay": 18606,
         "_deepnote_index_column": 291015
        },
        {
         "id": 291924,
         "Year": 2020,
         "Location": "Berkeley",
         "First Name": "SILVIA",
         "Last Name": "YEE",
         "Title": "LECT-AY-1/10",
         "Gross Pay": 507,
         "Regular Pay": 507,
         "Overtime Pay": 0,
         "Other Pay": 0,
         "_deepnote_index_column": 291923
        },
        {
         "id": 292152,
         "Year": 2020,
         "Location": "Los Angeles",
         "First Name": "GARY",
         "Last Name": "YERITSIAN",
         "Title": "LECT IN SUMMER SESSION",
         "Gross Pay": 4792,
         "Regular Pay": 0,
         "Overtime Pay": 0,
         "Other Pay": 4792,
         "_deepnote_index_column": 292151
        },
        {
         "id": 292561,
         "Year": 2020,
         "Location": "San Diego",
         "First Name": "JOHN",
         "Last Name": "YORK",
         "Title": "TEACHER-SPEC PROG",
         "Gross Pay": 23576,
         "Regular Pay": 0,
         "Overtime Pay": 0,
         "Other Pay": 23576,
         "_deepnote_index_column": 292560
        },
        {
         "id": 292583,
         "Year": 2020,
         "Location": "San Diego",
         "First Name": "ERIC",
         "Last Name": "YORKSTON",
         "Title": "LECT IN SUMMER SESSION",
         "Gross Pay": 50000,
         "Regular Pay": 0,
         "Overtime Pay": 0,
         "Other Pay": 50000,
         "_deepnote_index_column": 292582
        },
        {
         "id": 292793,
         "Year": 2020,
         "Location": "Berkeley",
         "First Name": "CHELSEY",
         "Last Name": "YOUNG",
         "Title": "TEACHER-SPEC PROG",
         "Gross Pay": 460,
         "Regular Pay": 460,
         "Overtime Pay": 0,
         "Other Pay": 0,
         "_deepnote_index_column": 292792
        },
        {
         "id": 293135,
         "Year": 2020,
         "Location": "Berkeley",
         "First Name": "LINDA",
         "Last Name": "YU",
         "Title": "LECT-AY",
         "Gross Pay": 564,
         "Regular Pay": 564,
         "Overtime Pay": 0,
         "Other Pay": 0,
         "_deepnote_index_column": 293134
        },
        {
         "id": 293259,
         "Year": 2020,
         "Location": "Los Angeles",
         "First Name": "ZHOU",
         "Last Name": "YU",
         "Title": "LECT-MISCELLANEOUS/PART TIME",
         "Gross Pay": 400,
         "Regular Pay": 0,
         "Overtime Pay": 0,
         "Other Pay": 400,
         "_deepnote_index_column": 293258
        },
        {
         "id": 293393,
         "Year": 2020,
         "Location": "Berkeley",
         "First Name": "SAHOKO",
         "Last Name": "YUI",
         "Title": "LECT IN SUMMER SESSION",
         "Gross Pay": 11000,
         "Regular Pay": 0,
         "Overtime Pay": 0,
         "Other Pay": 11000,
         "_deepnote_index_column": 293392
        },
        {
         "id": 294413,
         "Year": 2020,
         "Location": "Berkeley",
         "First Name": "PATRICIA",
         "Last Name": "ZERMENO",
         "Title": "LECT-AY",
         "Gross Pay": 235,
         "Regular Pay": 235,
         "Overtime Pay": 0,
         "Other Pay": 0,
         "_deepnote_index_column": 294412
        },
        {
         "id": 294559,
         "Year": 2020,
         "Location": "Santa Barbara",
         "First Name": "DORA",
         "Last Name": "ZHANG",
         "Title": "LECT-MISCELLANEOUS/PART TIME",
         "Gross Pay": 500,
         "Regular Pay": 0,
         "Overtime Pay": 0,
         "Other Pay": 500,
         "_deepnote_index_column": 294558
        },
        {
         "id": 294777,
         "Year": 2020,
         "Location": "Los Angeles",
         "First Name": "XUGUANG",
         "Last Name": "ZHANG",
         "Title": "LECT-FY",
         "Gross Pay": 902,
         "Regular Pay": 902,
         "Overtime Pay": 0,
         "Other Pay": 0,
         "_deepnote_index_column": 294776
        },
        {
         "id": 295537,
         "Year": 2020,
         "Location": "Davis",
         "First Name": "LAL",
         "Last Name": "ZIMMAN",
         "Title": "LECT-MISCELLANEOUS/PART TIME",
         "Gross Pay": 1000,
         "Regular Pay": 0,
         "Overtime Pay": 0,
         "Other Pay": 1000,
         "_deepnote_index_column": 295536
        },
        {
         "id": 295602,
         "Year": 2020,
         "Location": "Los Angeles",
         "First Name": "PAUL",
         "Last Name": "ZINKE",
         "Title": "LECT IN SUMMER SESSION",
         "Gross Pay": 10304,
         "Regular Pay": 0,
         "Overtime Pay": 0,
         "Other Pay": 10304,
         "_deepnote_index_column": 295601
        },
        {
         "id": 295613,
         "Year": 2020,
         "Location": "Los Angeles",
         "First Name": "ELENA",
         "Last Name": "ZINOVIEFF",
         "Title": "LECT IN SUMMER SESSION",
         "Gross Pay": 1745,
         "Regular Pay": 0,
         "Overtime Pay": 0,
         "Other Pay": 1745,
         "_deepnote_index_column": 295612
        },
        {
         "id": 295632,
         "Year": 2020,
         "Location": "Berkeley",
         "First Name": "ELIZABETH",
         "Last Name": "ZIRKER",
         "Title": "LECT-AY-1/10",
         "Gross Pay": 493,
         "Regular Pay": 493,
         "Overtime Pay": 0,
         "Other Pay": 0,
         "_deepnote_index_column": 295631
        },
        {
         "id": 295722,
         "Year": 2020,
         "Location": "San Francisco",
         "First Name": "ROBERTO",
         "Last Name": "ZONCU",
         "Title": "LECT-MISCELLANEOUS/PART TIME",
         "Gross Pay": 150,
         "Regular Pay": 0,
         "Overtime Pay": 0,
         "Other Pay": 150,
         "_deepnote_index_column": 295721
        },
        {
         "id": 295773,
         "Year": 2020,
         "Location": "San Diego",
         "First Name": "AMY",
         "Last Name": "ZROKA",
         "Title": "LECT IN SUMMER SESSION",
         "Gross Pay": 4792,
         "Regular Pay": 0,
         "Overtime Pay": 0,
         "Other Pay": 4792,
         "_deepnote_index_column": 295772
        },
        {
         "id": 296003,
         "Year": 2020,
         "Location": "Berkeley",
         "First Name": "SARAH",
         "Last Name": "ZYBA",
         "Title": "LECT IN SUMMER SESSION",
         "Gross Pay": 13108,
         "Regular Pay": 0,
         "Overtime Pay": 0,
         "Other Pay": 13108,
         "_deepnote_index_column": 296002
        }
       ]
      },
      "text/plain": "              id    Year       Location First Name  Last Name  \\\n1            2.0 2,020.0      Riverside                         \n20          21.0 2,020.0         Irvine                         \n34          35.0 2,020.0       Berkeley                         \n35          36.0 2,020.0       Berkeley                         \n36          37.0 2,020.0       Berkeley                         \n...          ...     ...            ...        ...        ...   \n295612 295,613.0 2,020.0    Los Angeles      ELENA  ZINOVIEFF   \n295631 295,632.0 2,020.0       Berkeley  ELIZABETH     ZIRKER   \n295721 295,722.0 2,020.0  San Francisco    ROBERTO      ZONCU   \n295772 295,773.0 2,020.0      San Diego        AMY      ZROKA   \n296002 296,003.0 2,020.0       Berkeley      SARAH       ZYBA   \n\n                               Title  Gross Pay  Regular Pay  Overtime Pay  \\\n1             LECT IN SUMMER SESSION    4,792.0          0.0           0.0   \n20            LECT IN SUMMER SESSION   10,030.0          0.0           0.0   \n34      LECT-MISCELLANEOUS/PART TIME      500.0          0.0           0.0   \n35                LECT-AY-CONTINUING      200.0          0.0           0.0   \n36      LECT-MISCELLANEOUS/PART TIME    1,500.0          0.0           0.0   \n...                              ...        ...          ...           ...   \n295612        LECT IN SUMMER SESSION    1,745.0          0.0           0.0   \n295631                  LECT-AY-1/10      493.0        493.0           0.0   \n295721  LECT-MISCELLANEOUS/PART TIME      150.0          0.0           0.0   \n295772        LECT IN SUMMER SESSION    4,792.0          0.0           0.0   \n296002        LECT IN SUMMER SESSION   13,108.0          0.0           0.0   \n\n        Other Pay  \n1         4,792.0  \n20       10,030.0  \n34          500.0  \n35          200.0  \n36        1,500.0  \n...           ...  \n295612    1,745.0  \n295631        0.0  \n295721      150.0  \n295772    4,792.0  \n296002   13,108.0  \n\n[699 rows x 10 columns]",
      "text/html": "<div>\n<style scoped>\n    .dataframe tbody tr th:only-of-type {\n        vertical-align: middle;\n    }\n\n    .dataframe tbody tr th {\n        vertical-align: top;\n    }\n\n    .dataframe thead th {\n        text-align: right;\n    }\n</style>\n<table border=\"1\" class=\"dataframe\">\n  <thead>\n    <tr style=\"text-align: right;\">\n      <th></th>\n      <th>id</th>\n      <th>Year</th>\n      <th>Location</th>\n      <th>First Name</th>\n      <th>Last Name</th>\n      <th>Title</th>\n      <th>Gross Pay</th>\n      <th>Regular Pay</th>\n      <th>Overtime Pay</th>\n      <th>Other Pay</th>\n    </tr>\n  </thead>\n  <tbody>\n    <tr>\n      <th>1</th>\n      <td>2.0</td>\n      <td>2,020.0</td>\n      <td>Riverside</td>\n      <td></td>\n      <td></td>\n      <td>LECT IN SUMMER SESSION</td>\n      <td>4,792.0</td>\n      <td>0.0</td>\n      <td>0.0</td>\n      <td>4,792.0</td>\n    </tr>\n    <tr>\n      <th>20</th>\n      <td>21.0</td>\n      <td>2,020.0</td>\n      <td>Irvine</td>\n      <td></td>\n      <td></td>\n      <td>LECT IN SUMMER SESSION</td>\n      <td>10,030.0</td>\n      <td>0.0</td>\n      <td>0.0</td>\n      <td>10,030.0</td>\n    </tr>\n    <tr>\n      <th>34</th>\n      <td>35.0</td>\n      <td>2,020.0</td>\n      <td>Berkeley</td>\n      <td></td>\n      <td></td>\n      <td>LECT-MISCELLANEOUS/PART TIME</td>\n      <td>500.0</td>\n      <td>0.0</td>\n      <td>0.0</td>\n      <td>500.0</td>\n    </tr>\n    <tr>\n      <th>35</th>\n      <td>36.0</td>\n      <td>2,020.0</td>\n      <td>Berkeley</td>\n      <td></td>\n      <td></td>\n      <td>LECT-AY-CONTINUING</td>\n      <td>200.0</td>\n      <td>0.0</td>\n      <td>0.0</td>\n      <td>200.0</td>\n    </tr>\n    <tr>\n      <th>36</th>\n      <td>37.0</td>\n      <td>2,020.0</td>\n      <td>Berkeley</td>\n      <td></td>\n      <td></td>\n      <td>LECT-MISCELLANEOUS/PART TIME</td>\n      <td>1,500.0</td>\n      <td>0.0</td>\n      <td>0.0</td>\n      <td>1,500.0</td>\n    </tr>\n    <tr>\n      <th>...</th>\n      <td>...</td>\n      <td>...</td>\n      <td>...</td>\n      <td>...</td>\n      <td>...</td>\n      <td>...</td>\n      <td>...</td>\n      <td>...</td>\n      <td>...</td>\n      <td>...</td>\n    </tr>\n    <tr>\n      <th>295612</th>\n      <td>295,613.0</td>\n      <td>2,020.0</td>\n      <td>Los Angeles</td>\n      <td>ELENA</td>\n      <td>ZINOVIEFF</td>\n      <td>LECT IN SUMMER SESSION</td>\n      <td>1,745.0</td>\n      <td>0.0</td>\n      <td>0.0</td>\n      <td>1,745.0</td>\n    </tr>\n    <tr>\n      <th>295631</th>\n      <td>295,632.0</td>\n      <td>2,020.0</td>\n      <td>Berkeley</td>\n      <td>ELIZABETH</td>\n      <td>ZIRKER</td>\n      <td>LECT-AY-1/10</td>\n      <td>493.0</td>\n      <td>493.0</td>\n      <td>0.0</td>\n      <td>0.0</td>\n    </tr>\n    <tr>\n      <th>295721</th>\n      <td>295,722.0</td>\n      <td>2,020.0</td>\n      <td>San Francisco</td>\n      <td>ROBERTO</td>\n      <td>ZONCU</td>\n      <td>LECT-MISCELLANEOUS/PART TIME</td>\n      <td>150.0</td>\n      <td>0.0</td>\n      <td>0.0</td>\n      <td>150.0</td>\n    </tr>\n    <tr>\n      <th>295772</th>\n      <td>295,773.0</td>\n      <td>2,020.0</td>\n      <td>San Diego</td>\n      <td>AMY</td>\n      <td>ZROKA</td>\n      <td>LECT IN SUMMER SESSION</td>\n      <td>4,792.0</td>\n      <td>0.0</td>\n      <td>0.0</td>\n      <td>4,792.0</td>\n    </tr>\n    <tr>\n      <th>296002</th>\n      <td>296,003.0</td>\n      <td>2,020.0</td>\n      <td>Berkeley</td>\n      <td>SARAH</td>\n      <td>ZYBA</td>\n      <td>LECT IN SUMMER SESSION</td>\n      <td>13,108.0</td>\n      <td>0.0</td>\n      <td>0.0</td>\n      <td>13,108.0</td>\n    </tr>\n  </tbody>\n</table>\n<p>699 rows × 10 columns</p>\n</div>"
     },
     "metadata": {}
    }
   ]
  },
  {
   "cell_type": "code",
   "metadata": {
    "tags": [],
    "cell_id": "00007-31d8682d-8995-4b94-818a-eeb0a05f49c4",
    "deepnote_to_be_reexecuted": true,
    "source_hash": "480a3ba5",
    "execution_start": 1633669349318,
    "execution_millis": 33,
    "allow_embed": "code_output",
    "deepnote_cell_type": "code"
   },
   "source": "top_42_all_uc = lect_salaries_2020.nlargest(int(lect_salaries_2020['id'].count() * 0.42), 'Gross Pay')\ntop_42_all_uc['Gross Pay'].describe()",
   "execution_count": null,
   "outputs": [
    {
     "output_type": "execute_result",
     "execution_count": 128,
     "data": {
      "text/plain": "count              1,876.0\nmean    81,866.06556503198\nstd     37,053.09013765652\nmin               39,746.0\n25%               59,763.0\n50%               72,859.0\n75%               94,039.0\nmax              476,036.0\nName: Gross Pay, dtype: float64"
     },
     "metadata": {}
    }
   ]
  },
  {
   "cell_type": "code",
   "metadata": {
    "tags": [],
    "cell_id": "00009-6a448708-edfc-4776-8865-421df7d70e15",
    "deepnote_to_be_reexecuted": true,
    "source_hash": "94fc6ccd",
    "execution_start": 1633669214350,
    "execution_millis": 7,
    "deepnote_cell_type": "code"
   },
   "source": "top_42_berkeley['Gross Pay'].describe()",
   "execution_count": null,
   "outputs": [
    {
     "output_type": "execute_result",
     "execution_count": 125,
     "data": {
      "text/plain": "count                684.0\nmean    62,346.84941520468\nstd     46,785.74139114415\nmin               18,731.0\n25%              28,917.75\n50%               53,801.5\n75%              80,756.75\nmax              476,036.0\nName: Gross Pay, dtype: float64"
     },
     "metadata": {}
    }
   ]
  },
  {
   "cell_type": "code",
   "metadata": {
    "tags": [],
    "cell_id": "00010-49223084-472e-4a97-9f7d-04650d6fcb29",
    "deepnote_to_be_reexecuted": true,
    "source_hash": "3cfe1960",
    "execution_start": 1632883240813,
    "execution_millis": 67,
    "deepnote_cell_type": "code"
   },
   "source": "top_42_berkeley[top_42_berkeley['Gross Pay'] > 200000]",
   "execution_count": null,
   "outputs": [
    {
     "output_type": "execute_result",
     "execution_count": 40,
     "data": {
      "application/vnd.deepnote.dataframe.v2+json": {
       "row_count": 10,
       "column_count": 10,
       "columns": [
        {
         "name": "id",
         "dtype": "float64",
         "stats": {
          "unique_count": 10,
          "nan_count": 0,
          "min": "106042.0",
          "max": "289769.0",
          "histogram": [
           {
            "bin_start": 106042,
            "bin_end": 124414.7,
            "count": 1
           },
           {
            "bin_start": 124414.7,
            "bin_end": 142787.4,
            "count": 0
           },
           {
            "bin_start": 142787.4,
            "bin_end": 161160.1,
            "count": 1
           },
           {
            "bin_start": 161160.1,
            "bin_end": 179532.8,
            "count": 3
           },
           {
            "bin_start": 179532.8,
            "bin_end": 197905.5,
            "count": 1
           },
           {
            "bin_start": 197905.5,
            "bin_end": 216278.2,
            "count": 0
           },
           {
            "bin_start": 216278.2,
            "bin_end": 234650.90000000002,
            "count": 0
           },
           {
            "bin_start": 234650.90000000002,
            "bin_end": 253023.6,
            "count": 0
           },
           {
            "bin_start": 253023.6,
            "bin_end": 271396.30000000005,
            "count": 2
           },
           {
            "bin_start": 271396.30000000005,
            "bin_end": 289769,
            "count": 2
           }
          ]
         }
        },
        {
         "name": "Year",
         "dtype": "float64",
         "stats": {
          "unique_count": 1,
          "nan_count": 0,
          "min": "2020.0",
          "max": "2020.0",
          "histogram": [
           {
            "bin_start": 2019.5,
            "bin_end": 2019.6,
            "count": 0
           },
           {
            "bin_start": 2019.6,
            "bin_end": 2019.7,
            "count": 0
           },
           {
            "bin_start": 2019.7,
            "bin_end": 2019.8,
            "count": 0
           },
           {
            "bin_start": 2019.8,
            "bin_end": 2019.9,
            "count": 0
           },
           {
            "bin_start": 2019.9,
            "bin_end": 2020,
            "count": 0
           },
           {
            "bin_start": 2020,
            "bin_end": 2020.1,
            "count": 10
           },
           {
            "bin_start": 2020.1,
            "bin_end": 2020.2,
            "count": 0
           },
           {
            "bin_start": 2020.2,
            "bin_end": 2020.3,
            "count": 0
           },
           {
            "bin_start": 2020.3,
            "bin_end": 2020.4,
            "count": 0
           },
           {
            "bin_start": 2020.4,
            "bin_end": 2020.5,
            "count": 0
           }
          ]
         }
        },
        {
         "name": "Location",
         "dtype": "object",
         "stats": {
          "unique_count": 1,
          "nan_count": 0,
          "categories": [
           {
            "name": "Berkeley",
            "count": 10
           }
          ]
         }
        },
        {
         "name": "First Name",
         "dtype": "object",
         "stats": {
          "unique_count": 10,
          "nan_count": 0,
          "categories": [
           {
            "name": "GREGORY",
            "count": 1
           },
           {
            "name": "JAMES",
            "count": 1
           },
           {
            "name": "8 others",
            "count": 8
           }
          ]
         }
        },
        {
         "name": "Last Name",
         "dtype": "object",
         "stats": {
          "unique_count": 10,
          "nan_count": 0,
          "categories": [
           {
            "name": "LA BLANC",
            "count": 1
           },
           {
            "name": "WEBB",
            "count": 1
           },
           {
            "name": "8 others",
            "count": 8
           }
          ]
         }
        },
        {
         "name": "Title",
         "dtype": "object",
         "stats": {
          "unique_count": 3,
          "nan_count": 0,
          "categories": [
           {
            "name": "LECT-AY-CONTINUING",
            "count": 6
           },
           {
            "name": "SR LECT-AY-CONTINUING",
            "count": 3
           },
           {
            "name": "LECT-AY-1/10",
            "count": 1
           }
          ]
         }
        },
        {
         "name": "Gross Pay",
         "dtype": "float64",
         "stats": {
          "unique_count": 10,
          "nan_count": 0,
          "min": "202357.0",
          "max": "476036.0",
          "histogram": [
           {
            "bin_start": 202357,
            "bin_end": 229724.9,
            "count": 3
           },
           {
            "bin_start": 229724.9,
            "bin_end": 257092.8,
            "count": 3
           },
           {
            "bin_start": 257092.8,
            "bin_end": 284460.7,
            "count": 0
           },
           {
            "bin_start": 284460.7,
            "bin_end": 311828.6,
            "count": 0
           },
           {
            "bin_start": 311828.6,
            "bin_end": 339196.5,
            "count": 1
           },
           {
            "bin_start": 339196.5,
            "bin_end": 366564.4,
            "count": 0
           },
           {
            "bin_start": 366564.4,
            "bin_end": 393932.30000000005,
            "count": 0
           },
           {
            "bin_start": 393932.30000000005,
            "bin_end": 421300.2,
            "count": 2
           },
           {
            "bin_start": 421300.2,
            "bin_end": 448668.1,
            "count": 0
           },
           {
            "bin_start": 448668.1,
            "bin_end": 476036,
            "count": 1
           }
          ]
         }
        },
        {
         "name": "Regular Pay",
         "dtype": "float64",
         "stats": {
          "unique_count": 8,
          "nan_count": 0,
          "min": "104835.0",
          "max": "232644.0",
          "histogram": [
           {
            "bin_start": 104835,
            "bin_end": 117615.9,
            "count": 1
           },
           {
            "bin_start": 117615.9,
            "bin_end": 130396.8,
            "count": 0
           },
           {
            "bin_start": 130396.8,
            "bin_end": 143177.7,
            "count": 3
           },
           {
            "bin_start": 143177.7,
            "bin_end": 155958.6,
            "count": 0
           },
           {
            "bin_start": 155958.6,
            "bin_end": 168739.5,
            "count": 0
           },
           {
            "bin_start": 168739.5,
            "bin_end": 181520.4,
            "count": 1
           },
           {
            "bin_start": 181520.4,
            "bin_end": 194301.3,
            "count": 1
           },
           {
            "bin_start": 194301.3,
            "bin_end": 207082.2,
            "count": 0
           },
           {
            "bin_start": 207082.2,
            "bin_end": 219863.09999999998,
            "count": 0
           },
           {
            "bin_start": 219863.09999999998,
            "bin_end": 232644,
            "count": 4
           }
          ]
         }
        },
        {
         "name": "Overtime Pay",
         "dtype": "float64",
         "stats": {
          "unique_count": 1,
          "nan_count": 0,
          "min": "0.0",
          "max": "0.0",
          "histogram": [
           {
            "bin_start": -0.5,
            "bin_end": -0.4,
            "count": 0
           },
           {
            "bin_start": -0.4,
            "bin_end": -0.3,
            "count": 0
           },
           {
            "bin_start": -0.3,
            "bin_end": -0.19999999999999996,
            "count": 0
           },
           {
            "bin_start": -0.19999999999999996,
            "bin_end": -0.09999999999999998,
            "count": 0
           },
           {
            "bin_start": -0.09999999999999998,
            "bin_end": 0,
            "count": 0
           },
           {
            "bin_start": 0,
            "bin_end": 0.10000000000000009,
            "count": 10
           },
           {
            "bin_start": 0.10000000000000009,
            "bin_end": 0.20000000000000007,
            "count": 0
           },
           {
            "bin_start": 0.20000000000000007,
            "bin_end": 0.30000000000000004,
            "count": 0
           },
           {
            "bin_start": 0.30000000000000004,
            "bin_end": 0.4,
            "count": 0
           },
           {
            "bin_start": 0.4,
            "bin_end": 0.5,
            "count": 0
           }
          ]
         }
        },
        {
         "name": "Other Pay",
         "dtype": "float64",
         "stats": {
          "unique_count": 10,
          "nan_count": 0,
          "min": "18000.0",
          "max": "251076.0",
          "histogram": [
           {
            "bin_start": 18000,
            "bin_end": 41307.6,
            "count": 1
           },
           {
            "bin_start": 41307.6,
            "bin_end": 64615.2,
            "count": 1
           },
           {
            "bin_start": 64615.2,
            "bin_end": 87922.79999999999,
            "count": 2
           },
           {
            "bin_start": 87922.79999999999,
            "bin_end": 111230.4,
            "count": 2
           },
           {
            "bin_start": 111230.4,
            "bin_end": 134538,
            "count": 1
           },
           {
            "bin_start": 134538,
            "bin_end": 157845.59999999998,
            "count": 0
           },
           {
            "bin_start": 157845.59999999998,
            "bin_end": 181153.19999999998,
            "count": 1
           },
           {
            "bin_start": 181153.19999999998,
            "bin_end": 204460.8,
            "count": 0
           },
           {
            "bin_start": 204460.8,
            "bin_end": 227768.4,
            "count": 1
           },
           {
            "bin_start": 227768.4,
            "bin_end": 251076,
            "count": 1
           }
          ]
         }
        },
        {
         "name": "_deepnote_index_column",
         "dtype": "int64"
        }
       ],
       "rows_top": [
        {
         "id": 190951,
         "Year": 2020,
         "Location": "Berkeley",
         "First Name": "GREGORY",
         "Last Name": "LA BLANC",
         "Title": "LECT-AY-CONTINUING",
         "Gross Pay": 476036,
         "Regular Pay": 224960,
         "Overtime Pay": 0,
         "Other Pay": 251076,
         "_deepnote_index_column": 190950
        },
        {
         "id": 284910,
         "Year": 2020,
         "Location": "Berkeley",
         "First Name": "JAMES",
         "Last Name": "WEBB",
         "Title": "LECT-AY-1/10",
         "Gross Pay": 401788,
         "Regular Pay": 182970,
         "Overtime Pay": 0,
         "Other Pay": 218818,
         "_deepnote_index_column": 284909
        },
        {
         "id": 256257,
         "Year": 2020,
         "Location": "Berkeley",
         "First Name": "HOLLY",
         "Last Name": "SCHROTH",
         "Title": "SR LECT-AY-CONTINUING",
         "Gross Pay": 400071,
         "Regular Pay": 232644,
         "Overtime Pay": 0,
         "Other Pay": 167427,
         "_deepnote_index_column": 256256
        },
        {
         "id": 106042,
         "Year": 2020,
         "Location": "Berkeley",
         "First Name": "WASIM",
         "Last Name": "AZHAR",
         "Title": "LECT-AY-CONTINUING",
         "Gross Pay": 329546,
         "Regular Pay": 224960,
         "Overtime Pay": 0,
         "Other Pay": 104586,
         "_deepnote_index_column": 106041
        },
        {
         "id": 289769,
         "Year": 2020,
         "Location": "Berkeley",
         "First Name": "CORT",
         "Last Name": "WORTHINGTON",
         "Title": "LECT-AY-CONTINUING",
         "Gross Pay": 242960,
         "Regular Pay": 224960,
         "Overtime Pay": 0,
         "Other Pay": 18000,
         "_deepnote_index_column": 289768
        },
        {
         "id": 172447,
         "Year": 2020,
         "Location": "Berkeley",
         "First Name": "DANIEL",
         "Last Name": "HIMELSTEIN",
         "Title": "LECT-AY-CONTINUING",
         "Gross Pay": 239250,
         "Regular Pay": 138539,
         "Overtime Pay": 0,
         "Other Pay": 100711,
         "_deepnote_index_column": 172446
        },
        {
         "id": 265928,
         "Year": 2020,
         "Location": "Berkeley",
         "First Name": "FRANCIS",
         "Last Name": "STANTON",
         "Title": "SR LECT-AY-CONTINUING",
         "Gross Pay": 239207,
         "Regular Pay": 179855,
         "Overtime Pay": 0,
         "Other Pay": 59352,
         "_deepnote_index_column": 265927
        },
        {
         "id": 177887,
         "Year": 2020,
         "Location": "Berkeley",
         "First Name": "ANDREW",
         "Last Name": "ISAACS",
         "Title": "SR LECT-AY-CONTINUING",
         "Gross Pay": 222293,
         "Regular Pay": 104835,
         "Overtime Pay": 0,
         "Other Pay": 117458,
         "_deepnote_index_column": 177886
        },
        {
         "id": 172699,
         "Year": 2020,
         "Location": "Berkeley",
         "First Name": "WHITNEY",
         "Last Name": "HISCHIER",
         "Title": "LECT-AY-CONTINUING",
         "Gross Pay": 217235,
         "Regular Pay": 134717,
         "Overtime Pay": 0,
         "Other Pay": 82518,
         "_deepnote_index_column": 172698
        },
        {
         "id": 151002,
         "Year": 2020,
         "Location": "Berkeley",
         "First Name": "TODD",
         "Last Name": "FITCH",
         "Title": "LECT-AY-CONTINUING",
         "Gross Pay": 202357,
         "Regular Pay": 134993,
         "Overtime Pay": 0,
         "Other Pay": 67364,
         "_deepnote_index_column": 151001
        }
       ],
       "rows_bottom": null
      },
      "text/plain": "              id    Year  Location First Name    Last Name  \\\n190950  190951.0  2020.0  Berkeley    GREGORY     LA BLANC   \n284909  284910.0  2020.0  Berkeley      JAMES         WEBB   \n256256  256257.0  2020.0  Berkeley      HOLLY      SCHROTH   \n106041  106042.0  2020.0  Berkeley      WASIM        AZHAR   \n289768  289769.0  2020.0  Berkeley       CORT  WORTHINGTON   \n172446  172447.0  2020.0  Berkeley     DANIEL   HIMELSTEIN   \n265927  265928.0  2020.0  Berkeley    FRANCIS      STANTON   \n177886  177887.0  2020.0  Berkeley     ANDREW       ISAACS   \n172698  172699.0  2020.0  Berkeley    WHITNEY     HISCHIER   \n151001  151002.0  2020.0  Berkeley       TODD        FITCH   \n\n                        Title  Gross Pay  Regular Pay  Overtime Pay  Other Pay  \n190950     LECT-AY-CONTINUING   476036.0     224960.0           0.0   251076.0  \n284909           LECT-AY-1/10   401788.0     182970.0           0.0   218818.0  \n256256  SR LECT-AY-CONTINUING   400071.0     232644.0           0.0   167427.0  \n106041     LECT-AY-CONTINUING   329546.0     224960.0           0.0   104586.0  \n289768     LECT-AY-CONTINUING   242960.0     224960.0           0.0    18000.0  \n172446     LECT-AY-CONTINUING   239250.0     138539.0           0.0   100711.0  \n265927  SR LECT-AY-CONTINUING   239207.0     179855.0           0.0    59352.0  \n177886  SR LECT-AY-CONTINUING   222293.0     104835.0           0.0   117458.0  \n172698     LECT-AY-CONTINUING   217235.0     134717.0           0.0    82518.0  \n151001     LECT-AY-CONTINUING   202357.0     134993.0           0.0    67364.0  ",
      "text/html": "<div>\n<style scoped>\n    .dataframe tbody tr th:only-of-type {\n        vertical-align: middle;\n    }\n\n    .dataframe tbody tr th {\n        vertical-align: top;\n    }\n\n    .dataframe thead th {\n        text-align: right;\n    }\n</style>\n<table border=\"1\" class=\"dataframe\">\n  <thead>\n    <tr style=\"text-align: right;\">\n      <th></th>\n      <th>id</th>\n      <th>Year</th>\n      <th>Location</th>\n      <th>First Name</th>\n      <th>Last Name</th>\n      <th>Title</th>\n      <th>Gross Pay</th>\n      <th>Regular Pay</th>\n      <th>Overtime Pay</th>\n      <th>Other Pay</th>\n    </tr>\n  </thead>\n  <tbody>\n    <tr>\n      <th>190950</th>\n      <td>190951.0</td>\n      <td>2020.0</td>\n      <td>Berkeley</td>\n      <td>GREGORY</td>\n      <td>LA BLANC</td>\n      <td>LECT-AY-CONTINUING</td>\n      <td>476036.0</td>\n      <td>224960.0</td>\n      <td>0.0</td>\n      <td>251076.0</td>\n    </tr>\n    <tr>\n      <th>284909</th>\n      <td>284910.0</td>\n      <td>2020.0</td>\n      <td>Berkeley</td>\n      <td>JAMES</td>\n      <td>WEBB</td>\n      <td>LECT-AY-1/10</td>\n      <td>401788.0</td>\n      <td>182970.0</td>\n      <td>0.0</td>\n      <td>218818.0</td>\n    </tr>\n    <tr>\n      <th>256256</th>\n      <td>256257.0</td>\n      <td>2020.0</td>\n      <td>Berkeley</td>\n      <td>HOLLY</td>\n      <td>SCHROTH</td>\n      <td>SR LECT-AY-CONTINUING</td>\n      <td>400071.0</td>\n      <td>232644.0</td>\n      <td>0.0</td>\n      <td>167427.0</td>\n    </tr>\n    <tr>\n      <th>106041</th>\n      <td>106042.0</td>\n      <td>2020.0</td>\n      <td>Berkeley</td>\n      <td>WASIM</td>\n      <td>AZHAR</td>\n      <td>LECT-AY-CONTINUING</td>\n      <td>329546.0</td>\n      <td>224960.0</td>\n      <td>0.0</td>\n      <td>104586.0</td>\n    </tr>\n    <tr>\n      <th>289768</th>\n      <td>289769.0</td>\n      <td>2020.0</td>\n      <td>Berkeley</td>\n      <td>CORT</td>\n      <td>WORTHINGTON</td>\n      <td>LECT-AY-CONTINUING</td>\n      <td>242960.0</td>\n      <td>224960.0</td>\n      <td>0.0</td>\n      <td>18000.0</td>\n    </tr>\n    <tr>\n      <th>172446</th>\n      <td>172447.0</td>\n      <td>2020.0</td>\n      <td>Berkeley</td>\n      <td>DANIEL</td>\n      <td>HIMELSTEIN</td>\n      <td>LECT-AY-CONTINUING</td>\n      <td>239250.0</td>\n      <td>138539.0</td>\n      <td>0.0</td>\n      <td>100711.0</td>\n    </tr>\n    <tr>\n      <th>265927</th>\n      <td>265928.0</td>\n      <td>2020.0</td>\n      <td>Berkeley</td>\n      <td>FRANCIS</td>\n      <td>STANTON</td>\n      <td>SR LECT-AY-CONTINUING</td>\n      <td>239207.0</td>\n      <td>179855.0</td>\n      <td>0.0</td>\n      <td>59352.0</td>\n    </tr>\n    <tr>\n      <th>177886</th>\n      <td>177887.0</td>\n      <td>2020.0</td>\n      <td>Berkeley</td>\n      <td>ANDREW</td>\n      <td>ISAACS</td>\n      <td>SR LECT-AY-CONTINUING</td>\n      <td>222293.0</td>\n      <td>104835.0</td>\n      <td>0.0</td>\n      <td>117458.0</td>\n    </tr>\n    <tr>\n      <th>172698</th>\n      <td>172699.0</td>\n      <td>2020.0</td>\n      <td>Berkeley</td>\n      <td>WHITNEY</td>\n      <td>HISCHIER</td>\n      <td>LECT-AY-CONTINUING</td>\n      <td>217235.0</td>\n      <td>134717.0</td>\n      <td>0.0</td>\n      <td>82518.0</td>\n    </tr>\n    <tr>\n      <th>151001</th>\n      <td>151002.0</td>\n      <td>2020.0</td>\n      <td>Berkeley</td>\n      <td>TODD</td>\n      <td>FITCH</td>\n      <td>LECT-AY-CONTINUING</td>\n      <td>202357.0</td>\n      <td>134993.0</td>\n      <td>0.0</td>\n      <td>67364.0</td>\n    </tr>\n  </tbody>\n</table>\n</div>"
     },
     "metadata": {}
    }
   ]
  },
  {
   "cell_type": "code",
   "metadata": {
    "tags": [],
    "cell_id": "00011-901fc8d2-31e9-4977-a2d6-83db687a03fc",
    "deepnote_to_be_reexecuted": true,
    "source_hash": "b623e53d",
    "deepnote_cell_type": "code"
   },
   "source": "",
   "execution_count": null,
   "outputs": []
  },
  {
   "cell_type": "code",
   "metadata": {
    "tags": [],
    "cell_id": "00008-3985eaf8-2a46-4db6-996f-3ad4f171c926",
    "deepnote_to_be_reexecuted": true,
    "source_hash": "f35c51f9",
    "execution_start": 1632882498417,
    "execution_millis": 1062,
    "deepnote_cell_type": "code"
   },
   "source": "sns.histplot(berkeley_lect_salaries_2020.groupby('Gross Pay'), bins=80, binrange=[0, 200000]).set_title('UCB Lecturer Salaries (< $200K)')",
   "execution_count": null,
   "outputs": [
    {
     "output_type": "execute_result",
     "execution_count": 35,
     "data": {
      "text/plain": "Text(0.5, 1.0, 'UCB Lecturer Salaries (< $200K)')"
     },
     "metadata": {}
    },
    {
     "data": {
      "text/plain": "<Figure size 432x288 with 1 Axes>",
      "image/png": "[encoded data removed]"
     },
     "metadata": {
      "needs_background": "light",
      "image/png": {
       "width": 386,
       "height": 264
      }
     },
     "output_type": "display_data"
    }
   ]
  },
  {
   "cell_type": "code",
   "metadata": {
    "tags": [],
    "cell_id": "00010-8435aa66-2746-447a-970b-1d790b8059c5",
    "deepnote_to_be_reexecuted": true,
    "source_hash": "d19d934e",
    "execution_start": 1632965744427,
    "execution_millis": 8,
    "deepnote_cell_type": "code"
   },
   "source": "sns.histplot(top_42_berkeley.groupby('Gross Pay'), bins=80, binrange=[0, 200000]).set_title('Top 42% of UCB Lecturer Salaries (< $200K)')",
   "execution_count": null,
   "outputs": [
    {
     "output_type": "error",
     "ename": "NameError",
     "evalue": "name 'top_42_berkeley' is not defined",
     "traceback": [
      "\u001b[0;31m---------------------------------------------------------------------------\u001b[0m",
      "\u001b[0;31mNameError\u001b[0m                                 Traceback (most recent call last)",
      "\u001b[0;32m/tmp/ipykernel_76/823621259.py\u001b[0m in \u001b[0;36m<module>\u001b[0;34m\u001b[0m\n\u001b[0;32m----> 1\u001b[0;31m \u001b[0msns\u001b[0m\u001b[0;34m.\u001b[0m\u001b[0mhistplot\u001b[0m\u001b[0;34m(\u001b[0m\u001b[0mtop_42_berkeley\u001b[0m\u001b[0;34m.\u001b[0m\u001b[0mgroupby\u001b[0m\u001b[0;34m(\u001b[0m\u001b[0;34m'Gross Pay'\u001b[0m\u001b[0;34m)\u001b[0m\u001b[0;34m,\u001b[0m \u001b[0mbins\u001b[0m\u001b[0;34m=\u001b[0m\u001b[0;36m80\u001b[0m\u001b[0;34m,\u001b[0m \u001b[0mbinrange\u001b[0m\u001b[0;34m=\u001b[0m\u001b[0;34m[\u001b[0m\u001b[0;36m0\u001b[0m\u001b[0;34m,\u001b[0m \u001b[0;36m200000\u001b[0m\u001b[0;34m]\u001b[0m\u001b[0;34m)\u001b[0m\u001b[0;34m.\u001b[0m\u001b[0mset_title\u001b[0m\u001b[0;34m(\u001b[0m\u001b[0;34m'Top 42% of UCB Lecturer Salaries (< $200K)'\u001b[0m\u001b[0;34m)\u001b[0m\u001b[0;34m\u001b[0m\u001b[0;34m\u001b[0m\u001b[0m\n\u001b[0m",
      "\u001b[0;31mNameError\u001b[0m: name 'top_42_berkeley' is not defined"
     ]
    }
   ]
  },
  {
   "cell_type": "code",
   "metadata": {
    "tags": [],
    "cell_id": "00020-7b246b87-fc6e-4b8f-a47e-49dd67388382",
    "deepnote_to_be_reexecuted": true,
    "source_hash": "ea63b2db",
    "execution_start": 1633658870156,
    "execution_millis": 108,
    "deepnote_cell_type": "code"
   },
   "source": "salaries_2020.groupby('Title')['Title'].count().reset_index(name='count').sort_values(['count']).to_csv('uc_title_counts.csv')",
   "execution_count": null,
   "outputs": []
  },
  {
   "cell_type": "code",
   "metadata": {
    "tags": [],
    "cell_id": "00007-ce581faa-f3bd-4ba7-920d-4d0d029a3574",
    "deepnote_to_be_reexecuted": true,
    "source_hash": "ccc14f8b",
    "execution_start": 1632874138233,
    "execution_millis": 40,
    "deepnote_cell_type": "code"
   },
   "source": "lect_salaries_2020[['Location', 'Title', 'Gross Pay']].groupby('Location').agg('Gross Pay').describe()",
   "execution_count": null,
   "outputs": [
    {
     "output_type": "execute_result",
     "execution_count": 8,
     "data": {
      "application/vnd.deepnote.dataframe.v2+json": {
       "row_count": 10,
       "column_count": 8,
       "columns": [
        {
         "name": "count",
         "dtype": "float64",
         "stats": {
          "unique_count": 10,
          "nan_count": 0,
          "min": "3.0",
          "max": "1376.0",
          "histogram": [
           {
            "bin_start": 3,
            "bin_end": 140.3,
            "count": 1
           },
           {
            "bin_start": 140.3,
            "bin_end": 277.6,
            "count": 1
           },
           {
            "bin_start": 277.6,
            "bin_end": 414.90000000000003,
            "count": 3
           },
           {
            "bin_start": 414.90000000000003,
            "bin_end": 552.2,
            "count": 1
           },
           {
            "bin_start": 552.2,
            "bin_end": 689.5,
            "count": 2
           },
           {
            "bin_start": 689.5,
            "bin_end": 826.8000000000001,
            "count": 0
           },
           {
            "bin_start": 826.8000000000001,
            "bin_end": 964.1000000000001,
            "count": 0
           },
           {
            "bin_start": 964.1000000000001,
            "bin_end": 1101.4,
            "count": 0
           },
           {
            "bin_start": 1101.4,
            "bin_end": 1238.7,
            "count": 0
           },
           {
            "bin_start": 1238.7,
            "bin_end": 1376,
            "count": 2
           }
          ]
         }
        },
        {
         "name": "mean",
         "dtype": "float64",
         "stats": {
          "unique_count": 10,
          "nan_count": 0,
          "min": "11294.333333333334",
          "max": "53670.25698324022",
          "histogram": [
           {
            "bin_start": 11294.333333333334,
            "bin_end": 15531.925698324023,
            "count": 1
           },
           {
            "bin_start": 15531.925698324023,
            "bin_end": 19769.51806331471,
            "count": 0
           },
           {
            "bin_start": 19769.51806331471,
            "bin_end": 24007.1104283054,
            "count": 0
           },
           {
            "bin_start": 24007.1104283054,
            "bin_end": 28244.702793296092,
            "count": 0
           },
           {
            "bin_start": 28244.702793296092,
            "bin_end": 32482.295158286783,
            "count": 1
           },
           {
            "bin_start": 32482.295158286783,
            "bin_end": 36719.887523277466,
            "count": 3
           },
           {
            "bin_start": 36719.887523277466,
            "bin_end": 40957.47988826816,
            "count": 1
           },
           {
            "bin_start": 40957.47988826816,
            "bin_end": 45195.07225325885,
            "count": 1
           },
           {
            "bin_start": 45195.07225325885,
            "bin_end": 49432.66461824954,
            "count": 2
           },
           {
            "bin_start": 49432.66461824954,
            "bin_end": 53670.25698324022,
            "count": 1
           }
          ]
         }
        },
        {
         "name": "std",
         "dtype": "float64",
         "stats": {
          "unique_count": 10,
          "nan_count": 0,
          "min": "19000.248586093112",
          "max": "43389.77427729663",
          "histogram": [
           {
            "bin_start": 19000.248586093112,
            "bin_end": 21439.201155213465,
            "count": 1
           },
           {
            "bin_start": 21439.201155213465,
            "bin_end": 23878.153724333817,
            "count": 0
           },
           {
            "bin_start": 23878.153724333817,
            "bin_end": 26317.106293454166,
            "count": 1
           },
           {
            "bin_start": 26317.106293454166,
            "bin_end": 28756.05886257452,
            "count": 0
           },
           {
            "bin_start": 28756.05886257452,
            "bin_end": 31195.01143169487,
            "count": 0
           },
           {
            "bin_start": 31195.01143169487,
            "bin_end": 33633.96400081522,
            "count": 2
           },
           {
            "bin_start": 33633.96400081522,
            "bin_end": 36072.91656993557,
            "count": 1
           },
           {
            "bin_start": 36072.91656993557,
            "bin_end": 38511.869139055925,
            "count": 0
           },
           {
            "bin_start": 38511.869139055925,
            "bin_end": 40950.82170817628,
            "count": 2
           },
           {
            "bin_start": 40950.82170817628,
            "bin_end": 43389.77427729663,
            "count": 3
           }
          ]
         }
        },
        {
         "name": "min",
         "dtype": "float64",
         "stats": {
          "unique_count": 6,
          "nan_count": 0,
          "min": "8.0",
          "max": "500.0",
          "histogram": [
           {
            "bin_start": 8,
            "bin_end": 57.2,
            "count": 1
           },
           {
            "bin_start": 57.2,
            "bin_end": 106.4,
            "count": 4
           },
           {
            "bin_start": 106.4,
            "bin_end": 155.60000000000002,
            "count": 3
           },
           {
            "bin_start": 155.60000000000002,
            "bin_end": 204.8,
            "count": 1
           },
           {
            "bin_start": 204.8,
            "bin_end": 254,
            "count": 0
           },
           {
            "bin_start": 254,
            "bin_end": 303.20000000000005,
            "count": 0
           },
           {
            "bin_start": 303.20000000000005,
            "bin_end": 352.40000000000003,
            "count": 0
           },
           {
            "bin_start": 352.40000000000003,
            "bin_end": 401.6,
            "count": 0
           },
           {
            "bin_start": 401.6,
            "bin_end": 450.8,
            "count": 0
           },
           {
            "bin_start": 450.8,
            "bin_end": 500,
            "count": 1
           }
          ]
         }
        },
        {
         "name": "25%",
         "dtype": "float64",
         "stats": {
          "unique_count": 10,
          "nan_count": 0,
          "min": "325.0",
          "max": "32889.0",
          "histogram": [
           {
            "bin_start": 325,
            "bin_end": 3581.4,
            "count": 1
           },
           {
            "bin_start": 3581.4,
            "bin_end": 6837.8,
            "count": 3
           },
           {
            "bin_start": 6837.8,
            "bin_end": 10094.2,
            "count": 3
           },
           {
            "bin_start": 10094.2,
            "bin_end": 13350.6,
            "count": 2
           },
           {
            "bin_start": 13350.6,
            "bin_end": 16607,
            "count": 0
           },
           {
            "bin_start": 16607,
            "bin_end": 19863.4,
            "count": 0
           },
           {
            "bin_start": 19863.4,
            "bin_end": 23119.8,
            "count": 0
           },
           {
            "bin_start": 23119.8,
            "bin_end": 26376.2,
            "count": 0
           },
           {
            "bin_start": 26376.2,
            "bin_end": 29632.600000000002,
            "count": 0
           },
           {
            "bin_start": 29632.600000000002,
            "bin_end": 32889,
            "count": 1
           }
          ]
         }
        },
        {
         "name": "50%",
         "dtype": "float64",
         "stats": {
          "unique_count": 10,
          "nan_count": 0,
          "min": "500.0",
          "max": "61440.0",
          "histogram": [
           {
            "bin_start": 500,
            "bin_end": 6594,
            "count": 1
           },
           {
            "bin_start": 6594,
            "bin_end": 12688,
            "count": 0
           },
           {
            "bin_start": 12688,
            "bin_end": 18782,
            "count": 3
           },
           {
            "bin_start": 18782,
            "bin_end": 24876,
            "count": 2
           },
           {
            "bin_start": 24876,
            "bin_end": 30970,
            "count": 1
           },
           {
            "bin_start": 30970,
            "bin_end": 37064,
            "count": 2
           },
           {
            "bin_start": 37064,
            "bin_end": 43158,
            "count": 0
           },
           {
            "bin_start": 43158,
            "bin_end": 49252,
            "count": 0
           },
           {
            "bin_start": 49252,
            "bin_end": 55346,
            "count": 0
           },
           {
            "bin_start": 55346,
            "bin_end": 61440,
            "count": 1
           }
          ]
         }
        },
        {
         "name": "75%",
         "dtype": "float64",
         "stats": {
          "unique_count": 10,
          "nan_count": 0,
          "min": "16866.5",
          "max": "72715.0",
          "histogram": [
           {
            "bin_start": 16866.5,
            "bin_end": 22451.35,
            "count": 1
           },
           {
            "bin_start": 22451.35,
            "bin_end": 28036.2,
            "count": 0
           },
           {
            "bin_start": 28036.2,
            "bin_end": 33621.05,
            "count": 0
           },
           {
            "bin_start": 33621.05,
            "bin_end": 39205.9,
            "count": 0
           },
           {
            "bin_start": 39205.9,
            "bin_end": 44790.75,
            "count": 0
           },
           {
            "bin_start": 44790.75,
            "bin_end": 50375.600000000006,
            "count": 1
           },
           {
            "bin_start": 50375.600000000006,
            "bin_end": 55960.450000000004,
            "count": 2
           },
           {
            "bin_start": 55960.450000000004,
            "bin_end": 61545.3,
            "count": 1
           },
           {
            "bin_start": 61545.3,
            "bin_end": 67130.15,
            "count": 2
           },
           {
            "bin_start": 67130.15,
            "bin_end": 72715,
            "count": 3
           }
          ]
         }
        },
        {
         "name": "max",
         "dtype": "float64",
         "stats": {
          "unique_count": 10,
          "nan_count": 0,
          "min": "33233.0",
          "max": "476036.0",
          "histogram": [
           {
            "bin_start": 33233,
            "bin_end": 77513.3,
            "count": 1
           },
           {
            "bin_start": 77513.3,
            "bin_end": 121793.6,
            "count": 1
           },
           {
            "bin_start": 121793.6,
            "bin_end": 166073.90000000002,
            "count": 1
           },
           {
            "bin_start": 166073.90000000002,
            "bin_end": 210354.2,
            "count": 2
           },
           {
            "bin_start": 210354.2,
            "bin_end": 254634.5,
            "count": 2
           },
           {
            "bin_start": 254634.5,
            "bin_end": 298914.80000000005,
            "count": 0
           },
           {
            "bin_start": 298914.80000000005,
            "bin_end": 343195.10000000003,
            "count": 0
           },
           {
            "bin_start": 343195.10000000003,
            "bin_end": 387475.4,
            "count": 0
           },
           {
            "bin_start": 387475.4,
            "bin_end": 431755.7,
            "count": 2
           },
           {
            "bin_start": 431755.7,
            "bin_end": 476036,
            "count": 1
           }
          ]
         }
        },
        {
         "name": "_deepnote_index_column",
         "dtype": "object"
        }
       ],
       "rows_top": [
        {
         "count": 1305,
         "mean": 33297.744061302685,
         "std": 43389.77427729663,
         "min": 8,
         "25%": 5438,
         "50%": 15432,
         "75%": 51030,
         "max": 476036,
         "_deepnote_index_column": "Berkeley"
        },
        {
         "count": 600,
         "mean": 42269.79,
         "std": 42946.212056430464,
         "min": 150,
         "25%": 9390.25,
         "50%": 24888,
         "75%": 68112.75,
         "max": 418733,
         "_deepnote_index_column": "Davis"
        },
        {
         "count": 583,
         "mean": 30565.933104631218,
         "std": 33342.30243711781,
         "min": 200,
         "25%": 6202,
         "50%": 15196,
         "75%": 52263,
         "max": 239352,
         "_deepnote_index_column": "Irvine"
        },
        {
         "count": 1376,
         "mean": 33022.470203488374,
         "std": 39487.555107177555,
         "min": 100,
         "25%": 7087,
         "50%": 15838.5,
         "75%": 46673,
         "max": 427660,
         "_deepnote_index_column": "Los Angeles"
        },
        {
         "count": 179,
         "mean": 53670.25698324022,
         "std": 25177.094679398302,
         "min": 500,
         "25%": 32889,
         "50%": 61440,
         "75%": 70236,
         "max": 115680,
         "_deepnote_index_column": "Merced"
        },
        {
         "count": 321,
         "mean": 35602.943925233645,
         "std": 34258.48184159064,
         "min": 100,
         "25%": 6640,
         "50%": 19992,
         "75%": 64782,
         "max": 147258,
         "_deepnote_index_column": "Riverside"
        },
        {
         "count": 461,
         "mean": 45226.741865509764,
         "std": 43268.03675755103,
         "min": 75,
         "25%": 10844,
         "50%": 32372,
         "75%": 65674,
         "max": 213393,
         "_deepnote_index_column": "San Diego"
        },
        {
         "count": 3,
         "mean": 11294.333333333334,
         "std": 19000.248586093112,
         "min": 150,
         "25%": 325,
         "50%": 500,
         "75%": 16866.5,
         "max": 33233,
         "_deepnote_index_column": "San Francisco"
        },
        {
         "count": 369,
         "mean": 46251.94037940379,
         "std": 40411.40070670599,
         "min": 100,
         "25%": 8395,
         "50%": 34953,
         "75%": 72715,
         "max": 168997,
         "_deepnote_index_column": "Santa Barbara"
        },
        {
         "count": 349,
         "mean": 37137.42693409742,
         "std": 33220.53824159772,
         "min": 150,
         "25%": 10372,
         "50%": 24519,
         "75%": 58786,
         "max": 184613,
         "_deepnote_index_column": "Santa Cruz"
        }
       ],
       "rows_bottom": null
      },
      "text/plain": "                count          mean           std    min       25%      50%  \\\nLocation                                                                      \nBerkeley       1305.0  33297.744061  43389.774277    8.0   5438.00  15432.0   \nDavis           600.0  42269.790000  42946.212056  150.0   9390.25  24888.0   \nIrvine          583.0  30565.933105  33342.302437  200.0   6202.00  15196.0   \nLos Angeles    1376.0  33022.470203  39487.555107  100.0   7087.00  15838.5   \nMerced          179.0  53670.256983  25177.094679  500.0  32889.00  61440.0   \nRiverside       321.0  35602.943925  34258.481842  100.0   6640.00  19992.0   \nSan Diego       461.0  45226.741866  43268.036758   75.0  10844.00  32372.0   \nSan Francisco     3.0  11294.333333  19000.248586  150.0    325.00    500.0   \nSanta Barbara   369.0  46251.940379  40411.400707  100.0   8395.00  34953.0   \nSanta Cruz      349.0  37137.426934  33220.538242  150.0  10372.00  24519.0   \n\n                    75%       max  \nLocation                           \nBerkeley       51030.00  476036.0  \nDavis          68112.75  418733.0  \nIrvine         52263.00  239352.0  \nLos Angeles    46673.00  427660.0  \nMerced         70236.00  115680.0  \nRiverside      64782.00  147258.0  \nSan Diego      65674.00  213393.0  \nSan Francisco  16866.50   33233.0  \nSanta Barbara  72715.00  168997.0  \nSanta Cruz     58786.00  184613.0  ",
      "text/html": "<div>\n<style scoped>\n    .dataframe tbody tr th:only-of-type {\n        vertical-align: middle;\n    }\n\n    .dataframe tbody tr th {\n        vertical-align: top;\n    }\n\n    .dataframe thead th {\n        text-align: right;\n    }\n</style>\n<table border=\"1\" class=\"dataframe\">\n  <thead>\n    <tr style=\"text-align: right;\">\n      <th></th>\n      <th>count</th>\n      <th>mean</th>\n      <th>std</th>\n      <th>min</th>\n      <th>25%</th>\n      <th>50%</th>\n      <th>75%</th>\n      <th>max</th>\n    </tr>\n    <tr>\n      <th>Location</th>\n      <th></th>\n      <th></th>\n      <th></th>\n      <th></th>\n      <th></th>\n      <th></th>\n      <th></th>\n      <th></th>\n    </tr>\n  </thead>\n  <tbody>\n    <tr>\n      <th>Berkeley</th>\n      <td>1305.0</td>\n      <td>33297.744061</td>\n      <td>43389.774277</td>\n      <td>8.0</td>\n      <td>5438.00</td>\n      <td>15432.0</td>\n      <td>51030.00</td>\n      <td>476036.0</td>\n    </tr>\n    <tr>\n      <th>Davis</th>\n      <td>600.0</td>\n      <td>42269.790000</td>\n      <td>42946.212056</td>\n      <td>150.0</td>\n      <td>9390.25</td>\n      <td>24888.0</td>\n      <td>68112.75</td>\n      <td>418733.0</td>\n    </tr>\n    <tr>\n      <th>Irvine</th>\n      <td>583.0</td>\n      <td>30565.933105</td>\n      <td>33342.302437</td>\n      <td>200.0</td>\n      <td>6202.00</td>\n      <td>15196.0</td>\n      <td>52263.00</td>\n      <td>239352.0</td>\n    </tr>\n    <tr>\n      <th>Los Angeles</th>\n      <td>1376.0</td>\n      <td>33022.470203</td>\n      <td>39487.555107</td>\n      <td>100.0</td>\n      <td>7087.00</td>\n      <td>15838.5</td>\n      <td>46673.00</td>\n      <td>427660.0</td>\n    </tr>\n    <tr>\n      <th>Merced</th>\n      <td>179.0</td>\n      <td>53670.256983</td>\n      <td>25177.094679</td>\n      <td>500.0</td>\n      <td>32889.00</td>\n      <td>61440.0</td>\n      <td>70236.00</td>\n      <td>115680.0</td>\n    </tr>\n    <tr>\n      <th>Riverside</th>\n      <td>321.0</td>\n      <td>35602.943925</td>\n      <td>34258.481842</td>\n      <td>100.0</td>\n      <td>6640.00</td>\n      <td>19992.0</td>\n      <td>64782.00</td>\n      <td>147258.0</td>\n    </tr>\n    <tr>\n      <th>San Diego</th>\n      <td>461.0</td>\n      <td>45226.741866</td>\n      <td>43268.036758</td>\n      <td>75.0</td>\n      <td>10844.00</td>\n      <td>32372.0</td>\n      <td>65674.00</td>\n      <td>213393.0</td>\n    </tr>\n    <tr>\n      <th>San Francisco</th>\n      <td>3.0</td>\n      <td>11294.333333</td>\n      <td>19000.248586</td>\n      <td>150.0</td>\n      <td>325.00</td>\n      <td>500.0</td>\n      <td>16866.50</td>\n      <td>33233.0</td>\n    </tr>\n    <tr>\n      <th>Santa Barbara</th>\n      <td>369.0</td>\n      <td>46251.940379</td>\n      <td>40411.400707</td>\n      <td>100.0</td>\n      <td>8395.00</td>\n      <td>34953.0</td>\n      <td>72715.00</td>\n      <td>168997.0</td>\n    </tr>\n    <tr>\n      <th>Santa Cruz</th>\n      <td>349.0</td>\n      <td>37137.426934</td>\n      <td>33220.538242</td>\n      <td>150.0</td>\n      <td>10372.00</td>\n      <td>24519.0</td>\n      <td>58786.00</td>\n      <td>184613.0</td>\n    </tr>\n  </tbody>\n</table>\n</div>"
     },
     "metadata": {}
    }
   ]
  },
  {
   "cell_type": "markdown",
   "source": "\n## Misc Notes\n\n`LECT-` is a little too specific. `LECT` is much too general. \n\n**TO INVESTIGATE / FIX:** \nThis are U18 covered titles not included in the current analysis.\nLECT IN SUMMER SESSION, CHILD DEV DEMO LECT, LECTURER, TEACHER-SPEC PROG\n\nAll titles with just `LECT`:\n\n```\n['LECT IN SUMMER SESSION', 'LECT-AY-CONTINUING', 'LECT-AY-1/9',\n       'LECT-MISCELLANEOUS/PART TIME', 'ELECTED OFCR STDT GOVT',\n       'LECT-AY', 'LECT PSOE-AY-B/E/E', 'LECT-AY-1/10',\n       'LECT-AY-1/10-CONTINUING', 'LECT-FY', 'ELECTR TCHN PRN', 'ELECTRN',\n       'SR LECT SOE-AY', 'ELECTR TCHN SR', 'HIGH VOLT ELECTRN',\n       'LECT SOE-AY', 'LECT-FY-CONTINUING', 'LECT-AY-1/9-CONTINUING',\n       'LECT PSOE-AY', 'SR LECT SOE-AY-B/E/E',\n       'ELECTROCARDIOGRAPH TCHN SR', 'CHILD DEV DEMO LECT',\n       'LECT SOE-AY-B/E/E', 'SR LECT SOE-AY-LAW', 'SR LECT-AY-CONTINUING',\n       'ELECTRN LD', 'ELECTR TCHN', 'LECT PSOE-AY-1/9', 'REGENTS\" LECT',\n       'ELECTRN SPEC', 'LECT SOE-FY', 'LECTURER', 'LECT SOE-HCOMP',\n       'ELECTRN AST SUPV', 'ELECTR TCHN SR SUPV', 'ARTS AND LECTURES MGR',\n       'ELECTRN SUPV', 'MED CTR ELECTR TCHN SR', 'ELECTRN 2',\n       'ACT LECT PSOE-AY', 'SR LECT SOE-AY-1/9', 'ELECTRN OPR 3',\n       'SR LECT SOE-FY', 'HIGH VOLT ELECTRN LD',\n       'SR LECT-AY-1/9-CONTINUING', 'MED CTR ELECTR TCHN PRN',\n       'ELECTRN WORKER LD', 'MED CTR ELECTR TCHN',\n       'CHILD DEV DEMO LECT-CONTINUING', 'ARTS AND LECTURES SUPV',\n       'ELECTROCARDIOGRAPH TCHN', 'LECT PSOE-AY-LAW',\n       'ACT LECT PSOE-AY-B/E/E', 'ELECTRN APPR', 'SR LECT-AY',\n       'LECT SOE-AY-1/9', 'MED CTR ELECTR TCHN TRAINEE',\n       'INTELLECTUAL PROPERTY OFCR 4', 'INTELLECTUAL PROPERTY OFCR 3',\n       'ELECTROCARDIOGRAPH TCHN PD']\n```",
   "metadata": {
    "tags": [],
    "cell_id": "00007-5840d738-96ff-46be-91f0-f24f067fb54b",
    "deepnote_cell_type": "markdown"
   }
  },
  {
   "cell_type": "markdown",
   "source": "<a style='text-decoration:none;line-height:16px;display:flex;color:#5B5B62;padding:10px;justify-content:end;' href='https://deepnote.com?utm_source=created-in-deepnote-cell&projectId=4848061e-35b7-4752-bb33-0d4be542a4b2' target=\"_blank\">\n<img alt='Created in deepnote.com' style='display:inline;max-height:16px;margin:0px;margin-right:7.5px;' src='data:image/svg+xml;base64,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' > </img>\nCreated in <span style='font-weight:600;margin-left:4px;'>Deepnote</span></a>",
   "metadata": {
    "tags": [],
    "created_in_deepnote_cell": true,
    "deepnote_cell_type": "markdown"
   }
  }
 ],
 "nbformat": 4,
 "nbformat_minor": 2,
 "metadata": {
  "orig_nbformat": 2,
  "deepnote": {
   "is_reactive": false
  },
  "deepnote_notebook_id": "97824910-4cd1-4bd7-af64-8e7c799985ab",
  "deepnote_execution_queue": []
 }
}