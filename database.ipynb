{
 "cells": [
  {
   "cell_type": "code",
   "metadata": {
    "tags": [],
    "cell_id": "00000-84633bf5-d1cf-4adc-b232-96ce5e92213e",
    "deepnote_to_be_reexecuted": false,
    "source_hash": "93f45ad0",
    "execution_start": 1634167626540,
    "execution_millis": 5,
    "deepnote_cell_type": "code"
   },
   "source": "import pandas as pd\nimport numpy as np\nimport json\nimport re\nimport seaborn as sns\nimport sys\nimport sqlite3\n\nSTART_YEAR = 2010\nEND_YEAR = 2020\nGROSS_PAY = 'Gross Pay'\nREG_PAY = 'Regular Pay'\n\n# id is just the row number PER YEAR, but not super meaningful.\n# it is included in the JSON data.\nCOLUMNS = ['id', 'Year', 'Location', 'First Name', 'Last Name', 'Title', 'Gross Pay', 'Regular Pay', 'Overtime Pay', 'Other Pay']\n# LECT_PREFIX = 'LECT-' # Caputes 'LECT-AY', excludes LECT PSOE / LECT SOE\n\ndef safe_parse(value):\n    try:\n        return float(value)\n    except:\n        return value\n\nDATA_LOADED = {}\ndef load_data_for_year(year):\n    raw_data = open(f\"json/all-records-{year}.json\").read()\n    raw_data = raw_data.replace(\"'\", '\"')\n    raw_data = re.sub(r'[\\x00-\\x1f\\x7f-\\x9f]', '', raw_data)\n    parsed = json.loads(raw_data)\n    data = [ [ safe_parse(value) for value in row['cell'] ] for row in parsed['rows'] ]\n\n    df = pd.DataFrame(data, columns= COLUMNS)\n    return df",
   "outputs": [],
   "execution_count": null
  },
  {
   "cell_type": "code",
   "source": "conn = sqlite3.connect('uc_salaries')\nc = conn.cursor()\n\nc.execute('''\n          CREATE TABLE IF NOT EXISTS salaries (\n            id INTEGER PRIMARY KEY,\n            uc_id INTEGER,\n            year INTEGER,\n            location TEXT,\n            first_name TEXT,\n            last_name TEXT,\n            title TEXT,\n            gross_pay FLOAT,\n            regular_pay FLOAT,\n            overtime_pay FLOAT,\n            other_pay FLOAT\n          )\n          ''')",
   "metadata": {
    "tags": [],
    "cell_id": "00001-5ea1214c-a93d-4596-af70-d333eb346b42",
    "deepnote_to_be_reexecuted": false,
    "source_hash": "a932da3b",
    "execution_start": 1634168067131,
    "execution_millis": 81,
    "deepnote_cell_type": "code"
   },
   "outputs": [
    {
     "output_type": "execute_result",
     "execution_count": 5,
     "data": {
      "text/plain": "<sqlite3.Cursor at 0x7fd4cbfd3650>"
     },
     "metadata": {}
    }
   ],
   "execution_count": null
  },
  {
   "cell_type": "code",
   "source": "salaries_2020 = load_data_for_year('2020')\nsalaries_2020.head()",
   "metadata": {
    "tags": [],
    "cell_id": "00002-55786d22-94e0-4672-8518-e3734d061f6a",
    "deepnote_to_be_reexecuted": false,
    "source_hash": "dd1e0933",
    "execution_start": 1634168168839,
    "execution_millis": 5071,
    "deepnote_cell_type": "code"
   },
   "outputs": [
    {
     "output_type": "execute_result",
     "execution_count": 8,
     "data": {
      "application/vnd.deepnote.dataframe.v2+json": {
       "row_count": 5,
       "column_count": 10,
       "columns": [
        {
         "name": "id",
         "dtype": "float64",
         "stats": {
          "unique_count": 5,
          "nan_count": 0,
          "min": "1.0",
          "max": "5.0",
          "histogram": [
           {
            "bin_start": 1,
            "bin_end": 1.4,
            "count": 1
           },
           {
            "bin_start": 1.4,
            "bin_end": 1.8,
            "count": 0
           },
           {
            "bin_start": 1.8,
            "bin_end": 2.2,
            "count": 1
           },
           {
            "bin_start": 2.2,
            "bin_end": 2.6,
            "count": 0
           },
           {
            "bin_start": 2.6,
            "bin_end": 3,
            "count": 0
           },
           {
            "bin_start": 3,
            "bin_end": 3.4000000000000004,
            "count": 1
           },
           {
            "bin_start": 3.4000000000000004,
            "bin_end": 3.8000000000000003,
            "count": 0
           },
           {
            "bin_start": 3.8000000000000003,
            "bin_end": 4.2,
            "count": 1
           },
           {
            "bin_start": 4.2,
            "bin_end": 4.6,
            "count": 0
           },
           {
            "bin_start": 4.6,
            "bin_end": 5,
            "count": 1
           }
          ]
         }
        },
        {
         "name": "Year",
         "dtype": "float64",
         "stats": {
          "unique_count": 1,
          "nan_count": 0,
          "min": "2020.0",
          "max": "2020.0",
          "histogram": [
           {
            "bin_start": 2019.5,
            "bin_end": 2019.6,
            "count": 0
           },
           {
            "bin_start": 2019.6,
            "bin_end": 2019.7,
            "count": 0
           },
           {
            "bin_start": 2019.7,
            "bin_end": 2019.8,
            "count": 0
           },
           {
            "bin_start": 2019.8,
            "bin_end": 2019.9,
            "count": 0
           },
           {
            "bin_start": 2019.9,
            "bin_end": 2020,
            "count": 0
           },
           {
            "bin_start": 2020,
            "bin_end": 2020.1,
            "count": 5
           },
           {
            "bin_start": 2020.1,
            "bin_end": 2020.2,
            "count": 0
           },
           {
            "bin_start": 2020.2,
            "bin_end": 2020.3,
            "count": 0
           },
           {
            "bin_start": 2020.3,
            "bin_end": 2020.4,
            "count": 0
           },
           {
            "bin_start": 2020.4,
            "bin_end": 2020.5,
            "count": 0
           }
          ]
         }
        },
        {
         "name": "Location",
         "dtype": "object",
         "stats": {
          "unique_count": 3,
          "nan_count": 0,
          "categories": [
           {
            "name": "San Diego",
            "count": 3
           },
           {
            "name": "Los Angeles",
            "count": 1
           },
           {
            "name": "Riverside",
            "count": 1
           }
          ]
         }
        },
        {
         "name": "First Name",
         "dtype": "object",
         "stats": {
          "unique_count": 1,
          "nan_count": 0,
          "categories": [
           {
            "name": "",
            "count": 5
           }
          ]
         }
        },
        {
         "name": "Last Name",
         "dtype": "object",
         "stats": {
          "unique_count": 1,
          "nan_count": 0,
          "categories": [
           {
            "name": "",
            "count": 5
           }
          ]
         }
        },
        {
         "name": "Title",
         "dtype": "object",
         "stats": {
          "unique_count": 3,
          "nan_count": 0,
          "categories": [
           {
            "name": "TEACHER-UNEX-CONTRACT YR",
            "count": 3
           },
           {
            "name": "LECT IN SUMMER SESSION",
            "count": 1
           },
           {
            "name": "RSCH DATA ANL 3",
            "count": 1
           }
          ]
         }
        },
        {
         "name": "Gross Pay",
         "dtype": "float64",
         "stats": {
          "unique_count": 5,
          "nan_count": 0,
          "min": "3300.0",
          "max": "63313.0",
          "histogram": [
           {
            "bin_start": 3300,
            "bin_end": 9301.3,
            "count": 2
           },
           {
            "bin_start": 9301.3,
            "bin_end": 15302.6,
            "count": 0
           },
           {
            "bin_start": 15302.6,
            "bin_end": 21303.9,
            "count": 1
           },
           {
            "bin_start": 21303.9,
            "bin_end": 27305.2,
            "count": 0
           },
           {
            "bin_start": 27305.2,
            "bin_end": 33306.5,
            "count": 0
           },
           {
            "bin_start": 33306.5,
            "bin_end": 39307.8,
            "count": 0
           },
           {
            "bin_start": 39307.8,
            "bin_end": 45309.1,
            "count": 0
           },
           {
            "bin_start": 45309.1,
            "bin_end": 51310.4,
            "count": 0
           },
           {
            "bin_start": 51310.4,
            "bin_end": 57311.700000000004,
            "count": 1
           },
           {
            "bin_start": 57311.700000000004,
            "bin_end": 63313,
            "count": 1
           }
          ]
         }
        },
        {
         "name": "Regular Pay",
         "dtype": "float64",
         "stats": {
          "unique_count": 2,
          "nan_count": 0,
          "min": "0.0",
          "max": "63313.0",
          "histogram": [
           {
            "bin_start": 0,
            "bin_end": 6331.3,
            "count": 4
           },
           {
            "bin_start": 6331.3,
            "bin_end": 12662.6,
            "count": 0
           },
           {
            "bin_start": 12662.6,
            "bin_end": 18993.9,
            "count": 0
           },
           {
            "bin_start": 18993.9,
            "bin_end": 25325.2,
            "count": 0
           },
           {
            "bin_start": 25325.2,
            "bin_end": 31656.5,
            "count": 0
           },
           {
            "bin_start": 31656.5,
            "bin_end": 37987.8,
            "count": 0
           },
           {
            "bin_start": 37987.8,
            "bin_end": 44319.1,
            "count": 0
           },
           {
            "bin_start": 44319.1,
            "bin_end": 50650.4,
            "count": 0
           },
           {
            "bin_start": 50650.4,
            "bin_end": 56981.700000000004,
            "count": 0
           },
           {
            "bin_start": 56981.700000000004,
            "bin_end": 63313,
            "count": 1
           }
          ]
         }
        },
        {
         "name": "Overtime Pay",
         "dtype": "float64",
         "stats": {
          "unique_count": 1,
          "nan_count": 0,
          "min": "0.0",
          "max": "0.0",
          "histogram": [
           {
            "bin_start": -0.5,
            "bin_end": -0.4,
            "count": 0
           },
           {
            "bin_start": -0.4,
            "bin_end": -0.3,
            "count": 0
           },
           {
            "bin_start": -0.3,
            "bin_end": -0.19999999999999996,
            "count": 0
           },
           {
            "bin_start": -0.19999999999999996,
            "bin_end": -0.09999999999999998,
            "count": 0
           },
           {
            "bin_start": -0.09999999999999998,
            "bin_end": 0,
            "count": 0
           },
           {
            "bin_start": 0,
            "bin_end": 0.10000000000000009,
            "count": 5
           },
           {
            "bin_start": 0.10000000000000009,
            "bin_end": 0.20000000000000007,
            "count": 0
           },
           {
            "bin_start": 0.20000000000000007,
            "bin_end": 0.30000000000000004,
            "count": 0
           },
           {
            "bin_start": 0.30000000000000004,
            "bin_end": 0.4,
            "count": 0
           },
           {
            "bin_start": 0.4,
            "bin_end": 0.5,
            "count": 0
           }
          ]
         }
        },
        {
         "name": "Other Pay",
         "dtype": "float64",
         "stats": {
          "unique_count": 5,
          "nan_count": 0,
          "min": "0.0",
          "max": "51397.0",
          "histogram": [
           {
            "bin_start": 0,
            "bin_end": 5139.7,
            "count": 3
           },
           {
            "bin_start": 5139.7,
            "bin_end": 10279.4,
            "count": 0
           },
           {
            "bin_start": 10279.4,
            "bin_end": 15419.099999999999,
            "count": 0
           },
           {
            "bin_start": 15419.099999999999,
            "bin_end": 20558.8,
            "count": 1
           },
           {
            "bin_start": 20558.8,
            "bin_end": 25698.5,
            "count": 0
           },
           {
            "bin_start": 25698.5,
            "bin_end": 30838.199999999997,
            "count": 0
           },
           {
            "bin_start": 30838.199999999997,
            "bin_end": 35977.9,
            "count": 0
           },
           {
            "bin_start": 35977.9,
            "bin_end": 41117.6,
            "count": 0
           },
           {
            "bin_start": 41117.6,
            "bin_end": 46257.299999999996,
            "count": 0
           },
           {
            "bin_start": 46257.299999999996,
            "bin_end": 51397,
            "count": 1
           }
          ]
         }
        },
        {
         "name": "_deepnote_index_column",
         "dtype": "int64"
        }
       ],
       "rows_top": [
        {
         "id": 1,
         "Year": 2020,
         "Location": "Los Angeles",
         "First Name": "",
         "Last Name": "",
         "Title": "TEACHER-UNEX-CONTRACT YR",
         "Gross Pay": 3300,
         "Regular Pay": 0,
         "Overtime Pay": 0,
         "Other Pay": 3300,
         "_deepnote_index_column": 0
        },
        {
         "id": 2,
         "Year": 2020,
         "Location": "Riverside",
         "First Name": "",
         "Last Name": "",
         "Title": "LECT IN SUMMER SESSION",
         "Gross Pay": 4792,
         "Regular Pay": 0,
         "Overtime Pay": 0,
         "Other Pay": 4792,
         "_deepnote_index_column": 1
        },
        {
         "id": 3,
         "Year": 2020,
         "Location": "San Diego",
         "First Name": "",
         "Last Name": "",
         "Title": "TEACHER-UNEX-CONTRACT YR",
         "Gross Pay": 19415,
         "Regular Pay": 0,
         "Overtime Pay": 0,
         "Other Pay": 19415,
         "_deepnote_index_column": 2
        },
        {
         "id": 4,
         "Year": 2020,
         "Location": "San Diego",
         "First Name": "",
         "Last Name": "",
         "Title": "TEACHER-UNEX-CONTRACT YR",
         "Gross Pay": 51397,
         "Regular Pay": 0,
         "Overtime Pay": 0,
         "Other Pay": 51397,
         "_deepnote_index_column": 3
        },
        {
         "id": 5,
         "Year": 2020,
         "Location": "San Diego",
         "First Name": "",
         "Last Name": "",
         "Title": "RSCH DATA ANL 3",
         "Gross Pay": 63313,
         "Regular Pay": 63313,
         "Overtime Pay": 0,
         "Other Pay": 0,
         "_deepnote_index_column": 4
        }
       ],
       "rows_bottom": null
      },
      "text/plain": "    id    Year     Location First Name Last Name                     Title  \\\n0  1.0  2020.0  Los Angeles                       TEACHER-UNEX-CONTRACT YR   \n1  2.0  2020.0    Riverside                         LECT IN SUMMER SESSION   \n2  3.0  2020.0    San Diego                       TEACHER-UNEX-CONTRACT YR   \n3  4.0  2020.0    San Diego                       TEACHER-UNEX-CONTRACT YR   \n4  5.0  2020.0    San Diego                                RSCH DATA ANL 3   \n\n   Gross Pay  Regular Pay  Overtime Pay  Other Pay  \n0     3300.0          0.0           0.0     3300.0  \n1     4792.0          0.0           0.0     4792.0  \n2    19415.0          0.0           0.0    19415.0  \n3    51397.0          0.0           0.0    51397.0  \n4    63313.0      63313.0           0.0        0.0  ",
      "text/html": "<div>\n<style scoped>\n    .dataframe tbody tr th:only-of-type {\n        vertical-align: middle;\n    }\n\n    .dataframe tbody tr th {\n        vertical-align: top;\n    }\n\n    .dataframe thead th {\n        text-align: right;\n    }\n</style>\n<table border=\"1\" class=\"dataframe\">\n  <thead>\n    <tr style=\"text-align: right;\">\n      <th></th>\n      <th>id</th>\n      <th>Year</th>\n      <th>Location</th>\n      <th>First Name</th>\n      <th>Last Name</th>\n      <th>Title</th>\n      <th>Gross Pay</th>\n      <th>Regular Pay</th>\n      <th>Overtime Pay</th>\n      <th>Other Pay</th>\n    </tr>\n  </thead>\n  <tbody>\n    <tr>\n      <th>0</th>\n      <td>1.0</td>\n      <td>2020.0</td>\n      <td>Los Angeles</td>\n      <td></td>\n      <td></td>\n      <td>TEACHER-UNEX-CONTRACT YR</td>\n      <td>3300.0</td>\n      <td>0.0</td>\n      <td>0.0</td>\n      <td>3300.0</td>\n    </tr>\n    <tr>\n      <th>1</th>\n      <td>2.0</td>\n      <td>2020.0</td>\n      <td>Riverside</td>\n      <td></td>\n      <td></td>\n      <td>LECT IN SUMMER SESSION</td>\n      <td>4792.0</td>\n      <td>0.0</td>\n      <td>0.0</td>\n      <td>4792.0</td>\n    </tr>\n    <tr>\n      <th>2</th>\n      <td>3.0</td>\n      <td>2020.0</td>\n      <td>San Diego</td>\n      <td></td>\n      <td></td>\n      <td>TEACHER-UNEX-CONTRACT YR</td>\n      <td>19415.0</td>\n      <td>0.0</td>\n      <td>0.0</td>\n      <td>19415.0</td>\n    </tr>\n    <tr>\n      <th>3</th>\n      <td>4.0</td>\n      <td>2020.0</td>\n      <td>San Diego</td>\n      <td></td>\n      <td></td>\n      <td>TEACHER-UNEX-CONTRACT YR</td>\n      <td>51397.0</td>\n      <td>0.0</td>\n      <td>0.0</td>\n      <td>51397.0</td>\n    </tr>\n    <tr>\n      <th>4</th>\n      <td>5.0</td>\n      <td>2020.0</td>\n      <td>San Diego</td>\n      <td></td>\n      <td></td>\n      <td>RSCH DATA ANL 3</td>\n      <td>63313.0</td>\n      <td>63313.0</td>\n      <td>0.0</td>\n      <td>0.0</td>\n    </tr>\n  </tbody>\n</table>\n</div>"
     },
     "metadata": {}
    }
   ],
   "execution_count": null
  },
  {
   "cell_type": "markdown",
   "source": "<a style='text-decoration:none;line-height:16px;display:flex;color:#5B5B62;padding:10px;justify-content:end;' href='https://deepnote.com?utm_source=created-in-deepnote-cell&projectId=4848061e-35b7-4752-bb33-0d4be542a4b2' target=\"_blank\">\n<img alt='Created in deepnote.com' style='display:inline;max-height:16px;margin:0px;margin-right:7.5px;' src='data:image/svg+xml;base64,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' > </img>\nCreated in <span style='font-weight:600;margin-left:4px;'>Deepnote</span></a>",
   "metadata": {
    "tags": [],
    "created_in_deepnote_cell": true,
    "deepnote_cell_type": "markdown"
   }
  }
 ],
 "nbformat": 4,
 "nbformat_minor": 2,
 "metadata": {
  "orig_nbformat": 2,
  "deepnote": {
   "is_reactive": false
  },
  "deepnote_notebook_id": "e14e48b7-d985-4e11-943e-2e1f599b8a79",
  "deepnote_execution_queue": []
 }
}